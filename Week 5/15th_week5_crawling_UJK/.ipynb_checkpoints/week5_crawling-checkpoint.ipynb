{
 "cells": [
  {
   "cell_type": "code",
   "execution_count": 31,
   "metadata": {},
   "outputs": [],
   "source": [
    "import requests\n",
    "from bs4 import BeautifulSoup\n",
    "from selenium import webdriver\n",
    "import pandas as pd\n",
    "import time"
   ]
  },
  {
   "cell_type": "markdown",
   "metadata": {},
   "source": [
    "## Requests"
   ]
  },
  {
   "cell_type": "code",
   "execution_count": 10,
   "metadata": {},
   "outputs": [],
   "source": [
    "response = requests.get('http://news.daum.net')"
   ]
  },
  {
   "cell_type": "code",
   "execution_count": 12,
   "metadata": {},
   "outputs": [],
   "source": [
    "html = response.content"
   ]
  },
  {
   "cell_type": "code",
   "execution_count": null,
   "metadata": {},
   "outputs": [],
   "source": [
    "html"
   ]
  },
  {
   "cell_type": "markdown",
   "metadata": {},
   "source": [
    "request 만들기"
   ]
  },
  {
   "cell_type": "code",
   "execution_count": 48,
   "metadata": {},
   "outputs": [],
   "source": [
    "url = 'https://search.naver.com/search.naver'\n",
    "\n",
    "params = {\n",
    "    'where' : 'news',\n",
    "    'sm' : 'tab_jum',\n",
    "    'query' : '아이폰'\n",
    "}"
   ]
  },
  {
   "cell_type": "code",
   "execution_count": 49,
   "metadata": {},
   "outputs": [],
   "source": [
    "response = requests.get(url, params = params)"
   ]
  },
  {
   "cell_type": "code",
   "execution_count": 50,
   "metadata": {},
   "outputs": [],
   "source": [
    "html = response.content"
   ]
  },
  {
   "cell_type": "code",
   "execution_count": null,
   "metadata": {},
   "outputs": [],
   "source": [
    "html"
   ]
  },
  {
   "cell_type": "markdown",
   "metadata": {},
   "source": [
    "## BeautifulSoup"
   ]
  },
  {
   "cell_type": "code",
   "execution_count": 52,
   "metadata": {},
   "outputs": [],
   "source": [
    "soup = BeautifulSoup(html)"
   ]
  },
  {
   "cell_type": "code",
   "execution_count": null,
   "metadata": {},
   "outputs": [],
   "source": [
    "soup.select('.news_area a') # class값 앞에는 . id값 앞에는 #"
   ]
  },
  {
   "cell_type": "code",
   "execution_count": 54,
   "metadata": {
    "scrolled": true
   },
   "outputs": [
    {
     "data": {
      "text/plain": [
       "<a class=\"info press\" href=\"http://www.fnnews.com/\" onclick=\"return goOtherCR(this, 'a=nws*h.prof&amp;r=1&amp;i=880000FF_000000000000000004587873&amp;g=014.0004587873&amp;u='+urlencode(this.href));\" target=\"_blank\"><span class=\"thumb_box\"><img alt=\"\" class=\"thumb\" height=\"20\" onerror=\"this.src='data:image/gif;base64,R0lGODlhAQABAIAAAAAAAP///yH5BAEAAAAALAAAAAABAAEAAAIBRAA7';this.className='thumb bg_default_press'\" src=\"https://search.pstatic.net/common/?src=https%3A%2F%2Fmimgnews.pstatic.net%2Fimage%2Fupload%2Foffice_logo%2F014%2F2020%2F12%2F30%2Flogo_014_18_20201230135042.png&amp;type=f54_54&amp;expire=24&amp;refresh=true\" width=\"20\"/></span>파이낸셜뉴스<i class=\"spnew ico_pick\">언론사 선정</i></a>"
      ]
     },
     "execution_count": 54,
     "metadata": {},
     "output_type": "execute_result"
    }
   ],
   "source": [
    "soup.select_one('.news_area a')"
   ]
  },
  {
   "cell_type": "code",
   "execution_count": 55,
   "metadata": {},
   "outputs": [
    {
     "data": {
      "text/plain": [
       "[<a class=\"news_tit\" href=\"http://www.fnnews.com/news/202102211705101667\" onclick=\"return goOtherCR(this, 'a=nws*h.tit&amp;r=1&amp;i=880000FF_000000000000000004587873&amp;g=014.0004587873&amp;u='+urlencode(this.href));\" target=\"_blank\" title=\"아이폰 조립하는 폭스콘, 애플 전기차 생산까지 나서나\"><mark>아이폰</mark> 조립하는 폭스콘, 애플 전기차 생산까지 나서나</a>]"
      ]
     },
     "execution_count": 55,
     "metadata": {},
     "output_type": "execute_result"
    }
   ],
   "source": [
    "soup.select('#sp_nws1 > div.news_wrap.api_ani_send > div > a')"
   ]
  },
  {
   "cell_type": "code",
   "execution_count": 56,
   "metadata": {},
   "outputs": [
    {
     "data": {
      "text/plain": [
       "<a class=\"news_tit\" href=\"http://www.fnnews.com/news/202102211705101667\" onclick=\"return goOtherCR(this, 'a=nws*h.tit&amp;r=1&amp;i=880000FF_000000000000000004587873&amp;g=014.0004587873&amp;u='+urlencode(this.href));\" target=\"_blank\" title=\"아이폰 조립하는 폭스콘, 애플 전기차 생산까지 나서나\"><mark>아이폰</mark> 조립하는 폭스콘, 애플 전기차 생산까지 나서나</a>"
      ]
     },
     "execution_count": 56,
     "metadata": {},
     "output_type": "execute_result"
    }
   ],
   "source": [
    "news = soup.select_one('#sp_nws1 > div.news_wrap.api_ani_send > div > a')\n",
    "news"
   ]
  },
  {
   "cell_type": "markdown",
   "metadata": {},
   "source": [
    ".text"
   ]
  },
  {
   "cell_type": "markdown",
   "metadata": {},
   "source": [
    "<a class=\"news_tit\" href=\"http://www.fnnews.com/news/202102211705101667\" onclick=\"return goOtherCR(this, 'a=nws*h.tit&amp;r=1&amp;i=880000FF_000000000000000004587873&amp;g=014.0004587873&amp;u='+urlencode(this.href));\" target=\"_blank\" title=\"아이폰 조립하는 폭스콘, 애플 전기차 생산까지 나서나\">\n",
    "    <mark>아이폰</mark> 조립하는 폭스콘, 애플 전기차 생산까지 나서나\n",
    "</a>"
   ]
  },
  {
   "cell_type": "code",
   "execution_count": 57,
   "metadata": {},
   "outputs": [
    {
     "data": {
      "text/plain": [
       "'아이폰 조립하는 폭스콘, 애플 전기차 생산까지 나서나'"
      ]
     },
     "execution_count": 57,
     "metadata": {},
     "output_type": "execute_result"
    }
   ],
   "source": [
    "news.text"
   ]
  },
  {
   "cell_type": "markdown",
   "metadata": {},
   "source": [
    "attribute"
   ]
  },
  {
   "cell_type": "code",
   "execution_count": 59,
   "metadata": {},
   "outputs": [
    {
     "data": {
      "text/plain": [
       "'http://www.fnnews.com/news/202102211705101667'"
      ]
     },
     "execution_count": 59,
     "metadata": {},
     "output_type": "execute_result"
    }
   ],
   "source": [
    "news['href']"
   ]
  },
  {
   "cell_type": "code",
   "execution_count": 60,
   "metadata": {},
   "outputs": [
    {
     "data": {
      "text/plain": [
       "['news_tit']"
      ]
     },
     "execution_count": 60,
     "metadata": {},
     "output_type": "execute_result"
    }
   ],
   "source": [
    "news['class']"
   ]
  },
  {
   "cell_type": "markdown",
   "metadata": {},
   "source": [
    ".parent .children"
   ]
  },
  {
   "cell_type": "code",
   "execution_count": 73,
   "metadata": {},
   "outputs": [
    {
     "name": "stdout",
     "output_type": "stream",
     "text": [
      "<mark>아이폰</mark>\n",
      " 조립하는 폭스콘, 애플 전기차 생산까지 나서나\n"
     ]
    }
   ],
   "source": [
    "for child in news.children:\n",
    "    print(child)"
   ]
  },
  {
   "cell_type": "code",
   "execution_count": 75,
   "metadata": {},
   "outputs": [
    {
     "data": {
      "text/plain": [
       "<div class=\"news_area\"> <div class=\"news_info\"> <div class=\"info_group\"> <a class=\"info press\" href=\"http://www.fnnews.com/\" onclick=\"return goOtherCR(this, 'a=nws*h.prof&amp;r=1&amp;i=880000FF_000000000000000004587873&amp;g=014.0004587873&amp;u='+urlencode(this.href));\" target=\"_blank\"><span class=\"thumb_box\"><img alt=\"\" class=\"thumb\" height=\"20\" onerror=\"this.src='data:image/gif;base64,R0lGODlhAQABAIAAAAAAAP///yH5BAEAAAAALAAAAAABAAEAAAIBRAA7';this.className='thumb bg_default_press'\" src=\"https://search.pstatic.net/common/?src=https%3A%2F%2Fmimgnews.pstatic.net%2Fimage%2Fupload%2Foffice_logo%2F014%2F2020%2F12%2F30%2Flogo_014_18_20201230135042.png&amp;type=f54_54&amp;expire=24&amp;refresh=true\" width=\"20\"/></span>파이낸셜뉴스<i class=\"spnew ico_pick\">언론사 선정</i></a><span class=\"info\"><i class=\"spnew ico_paper\"></i>10면 1단</span><span class=\"info\">45분 전</span><a class=\"info\" href=\"https://news.naver.com/main/read.nhn?mode=LSD&amp;mid=sec&amp;sid1=101&amp;oid=014&amp;aid=0004587873\" onclick=\"return goOtherCR(this, 'a=nws*h.nav&amp;r=1&amp;i=880000FF_000000000000000004587873&amp;u='+urlencode(this.href));\" target=\"_blank\">네이버뉴스</a> </div></div><a class=\"news_tit\" href=\"http://www.fnnews.com/news/202102211705101667\" onclick=\"return goOtherCR(this, 'a=nws*h.tit&amp;r=1&amp;i=880000FF_000000000000000004587873&amp;g=014.0004587873&amp;u='+urlencode(this.href));\" target=\"_blank\" title=\"아이폰 조립하는 폭스콘, 애플 전기차 생산까지 나서나\"><mark>아이폰</mark> 조립하는 폭스콘, 애플 전기차 생산까지 나서나</a> <div class=\"news_dsc\"> <div class=\"dsc_wrap\"> <a class=\"api_txt_lines dsc_txt_wrap\" href=\"http://www.fnnews.com/news/202102211705101667\" onclick=\"return goOtherCR(this, 'a=nws*h.body&amp;r=1&amp;i=880000FF_000000000000000004587873&amp;g=014.0004587873&amp;u='+urlencode(this.href));\" target=\"_blank\">애플사의 <mark>아이폰</mark>을 위탁 생산해왔던 폭스콘은 모듈 제작방식으로 연내 전기차 생산에 속도를 내면서 더욱 가능성이 높아졌다. 규격화된 모듈 부품들을 조달해 연내 전기차 조립에 나서겠다는 것이다. <mark>아이폰</mark>을 조립하는...</a> </div></div></div>"
      ]
     },
     "execution_count": 75,
     "metadata": {},
     "output_type": "execute_result"
    }
   ],
   "source": [
    "news.parent"
   ]
  },
  {
   "cell_type": "markdown",
   "metadata": {},
   "source": [
    "**PPT 참고**"
   ]
  },
  {
   "cell_type": "markdown",
   "metadata": {},
   "source": [
    "### BeautifulSoup 실습 - 뉴스 기사 수집"
   ]
  },
  {
   "cell_type": "code",
   "execution_count": 107,
   "metadata": {},
   "outputs": [],
   "source": [
    "url = 'https://search.naver.com/search.naver'\n",
    "\n",
    "params = {\n",
    "    'where' : 'news',\n",
    "    'sm' : 'tab_jum',\n",
    "    'query' : '아이폰'\n",
    "}"
   ]
  },
  {
   "cell_type": "code",
   "execution_count": 108,
   "metadata": {},
   "outputs": [],
   "source": [
    "response = requests.get(url, params = params)"
   ]
  },
  {
   "cell_type": "code",
   "execution_count": 109,
   "metadata": {},
   "outputs": [],
   "source": [
    "soup = BeautifulSoup(response.content)"
   ]
  },
  {
   "cell_type": "code",
   "execution_count": 119,
   "metadata": {},
   "outputs": [],
   "source": [
    "elements = bs.select('.news_area')"
   ]
  },
  {
   "cell_type": "code",
   "execution_count": 120,
   "metadata": {},
   "outputs": [],
   "source": [
    "news_list = []\n",
    "for element in elements:\n",
    "    news = element.select_one('a.news_tit')\n",
    "    \n",
    "    news_data = {\n",
    "        'title' : news.text,\n",
    "        'link' : news['href']\n",
    "    }\n",
    "    \n",
    "    news_list.append(news_data)"
   ]
  },
  {
   "cell_type": "code",
   "execution_count": 106,
   "metadata": {},
   "outputs": [
    {
     "data": {
      "text/html": [
       "<div>\n",
       "<style scoped>\n",
       "    .dataframe tbody tr th:only-of-type {\n",
       "        vertical-align: middle;\n",
       "    }\n",
       "\n",
       "    .dataframe tbody tr th {\n",
       "        vertical-align: top;\n",
       "    }\n",
       "\n",
       "    .dataframe thead th {\n",
       "        text-align: right;\n",
       "    }\n",
       "</style>\n",
       "<table border=\"1\" class=\"dataframe\">\n",
       "  <thead>\n",
       "    <tr style=\"text-align: right;\">\n",
       "      <th></th>\n",
       "      <th>title</th>\n",
       "      <th>link</th>\n",
       "    </tr>\n",
       "  </thead>\n",
       "  <tbody>\n",
       "    <tr>\n",
       "      <th>0</th>\n",
       "      <td>현대차에 퇴짜맞은 애플카, 아이폰 공장서?…\"폭스콘 가능성\"</td>\n",
       "      <td>https://www.hankyung.com/economy/article/20210...</td>\n",
       "    </tr>\n",
       "    <tr>\n",
       "      <th>1</th>\n",
       "      <td>아이폰 조립하는 폭스콘, 애플 전기차 생산까지 나서나</td>\n",
       "      <td>http://www.fnnews.com/news/202102211705101667</td>\n",
       "    </tr>\n",
       "    <tr>\n",
       "      <th>2</th>\n",
       "      <td>“삼성이 저가폰 주로 팔때…” 비싼폰은 아이폰이 싹쓸이 했다! [IT선빵!]</td>\n",
       "      <td>http://news.heraldcorp.com/view.php?ud=2021022...</td>\n",
       "    </tr>\n",
       "    <tr>\n",
       "      <th>3</th>\n",
       "      <td>애플 50만원대 아이폰 상반기 출시... 삼성 갤럭시A 경쟁</td>\n",
       "      <td>http://news.mk.co.kr/newsRead.php?no=170136&amp;ye...</td>\n",
       "    </tr>\n",
       "    <tr>\n",
       "      <th>4</th>\n",
       "      <td>'전국5G맛집' 갤럭시S21, 갤럭시노트20 및 아이폰12 시세 공유 눈길</td>\n",
       "      <td>http://www.cctoday.co.kr/news/articleView.html...</td>\n",
       "    </tr>\n",
       "    <tr>\n",
       "      <th>5</th>\n",
       "      <td>아이폰13 노치 사라지나…애플, 디스플레이 내장 페이스ID 특허</td>\n",
       "      <td>http://www.edaily.co.kr/news/newspath.asp?news...</td>\n",
       "    </tr>\n",
       "    <tr>\n",
       "      <th>6</th>\n",
       "      <td>아이폰12 PRO 가격 할인 첫 이벤트, 미니 할인판매</td>\n",
       "      <td>http://www.incheonilbo.com/news/articleView.ht...</td>\n",
       "    </tr>\n",
       "    <tr>\n",
       "      <th>7</th>\n",
       "      <td>애플 첫 폴더블 아이폰 ‘애플 펜슬’ 지원유력…출시는 2023년</td>\n",
       "      <td>http://www.betanews.net:8080/article/1255255.html</td>\n",
       "    </tr>\n",
       "    <tr>\n",
       "      <th>8</th>\n",
       "      <td>아이폰12 미니 특가 호황, SE2 공짜폰 및 에어팟 사은품 지급 프로모션</td>\n",
       "      <td>http://www.it-b.co.kr/news/articleView.html?id...</td>\n",
       "    </tr>\n",
       "    <tr>\n",
       "      <th>9</th>\n",
       "      <td>‘갤럭시S20’ 텃밭 한국서도 아이폰에 밀렸다! [IT선빵!]</td>\n",
       "      <td>http://news.heraldcorp.com/view.php?ud=2021021...</td>\n",
       "    </tr>\n",
       "  </tbody>\n",
       "</table>\n",
       "</div>"
      ],
      "text/plain": [
       "                                        title  \\\n",
       "0           현대차에 퇴짜맞은 애플카, 아이폰 공장서?…\"폭스콘 가능성\"   \n",
       "1               아이폰 조립하는 폭스콘, 애플 전기차 생산까지 나서나   \n",
       "2  “삼성이 저가폰 주로 팔때…” 비싼폰은 아이폰이 싹쓸이 했다! [IT선빵!]   \n",
       "3           애플 50만원대 아이폰 상반기 출시... 삼성 갤럭시A 경쟁   \n",
       "4  '전국5G맛집' 갤럭시S21, 갤럭시노트20 및 아이폰12 시세 공유 눈길    \n",
       "5         아이폰13 노치 사라지나…애플, 디스플레이 내장 페이스ID 특허   \n",
       "6              아이폰12 PRO 가격 할인 첫 이벤트, 미니 할인판매   \n",
       "7         애플 첫 폴더블 아이폰 ‘애플 펜슬’ 지원유력…출시는 2023년   \n",
       "8   아이폰12 미니 특가 호황, SE2 공짜폰 및 에어팟 사은품 지급 프로모션   \n",
       "9          ‘갤럭시S20’ 텃밭 한국서도 아이폰에 밀렸다! [IT선빵!]   \n",
       "\n",
       "                                                link  \n",
       "0  https://www.hankyung.com/economy/article/20210...  \n",
       "1      http://www.fnnews.com/news/202102211705101667  \n",
       "2  http://news.heraldcorp.com/view.php?ud=2021022...  \n",
       "3  http://news.mk.co.kr/newsRead.php?no=170136&ye...  \n",
       "4  http://www.cctoday.co.kr/news/articleView.html...  \n",
       "5  http://www.edaily.co.kr/news/newspath.asp?news...  \n",
       "6  http://www.incheonilbo.com/news/articleView.ht...  \n",
       "7  http://www.betanews.net:8080/article/1255255.html  \n",
       "8  http://www.it-b.co.kr/news/articleView.html?id...  \n",
       "9  http://news.heraldcorp.com/view.php?ud=2021021...  "
      ]
     },
     "execution_count": 106,
     "metadata": {},
     "output_type": "execute_result"
    }
   ],
   "source": [
    "pd.DataFrame(news_list)"
   ]
  },
  {
   "cell_type": "markdown",
   "metadata": {},
   "source": [
    "## Selenium"
   ]
  },
  {
   "cell_type": "markdown",
   "metadata": {},
   "source": [
    "- 웹 브라우저의 자동화를 가능하게 해주는 도구"
   ]
  },
  {
   "cell_type": "code",
   "execution_count": 26,
   "metadata": {},
   "outputs": [],
   "source": [
    "driver = webdriver.Chrome('./chromedriver')"
   ]
  },
  {
   "cell_type": "code",
   "execution_count": 27,
   "metadata": {},
   "outputs": [],
   "source": [
    "driver.get('https://www.naver.com')"
   ]
  },
  {
   "cell_type": "code",
   "execution_count": 29,
   "metadata": {},
   "outputs": [],
   "source": [
    "# css selector를 사용하는 것도 가능하지만 여려개가 뽑힐 수 있음\n",
    "# Xpath는 딱 그 장소!!\n",
    "driver.find_element_by_xpath('//*[@id=\"account\"]/a').click()"
   ]
  },
  {
   "cell_type": "code",
   "execution_count": null,
   "metadata": {},
   "outputs": [],
   "source": []
  },
  {
   "cell_type": "code",
   "execution_count": 36,
   "metadata": {},
   "outputs": [],
   "source": [
    "driver = webdriver.Chrome('./chromedriver')\n",
    "driver.get('https://www.naver.com')\n",
    "time.sleep(2) # 주의할 점\n",
    "driver.find_element_by_xpath('//*[@id=\"account\"]/a').click()"
   ]
  },
  {
   "cell_type": "code",
   "execution_count": 37,
   "metadata": {},
   "outputs": [],
   "source": [
    "driver.find_element_by_xpath('//*[@id=\"id\"]').send_keys('tobigs~')"
   ]
  },
  {
   "cell_type": "code",
   "execution_count": 38,
   "metadata": {},
   "outputs": [],
   "source": [
    "driver.find_element_by_xpath('//*[@id=\"pw\"]').send_keys('tobigs123')"
   ]
  },
  {
   "cell_type": "code",
   "execution_count": 39,
   "metadata": {},
   "outputs": [],
   "source": [
    "driver.find_element_by_xpath('//*[@id=\"log.login\"]').click()"
   ]
  },
  {
   "cell_type": "code",
   "execution_count": 44,
   "metadata": {},
   "outputs": [],
   "source": [
    "driver.close()"
   ]
  },
  {
   "cell_type": "markdown",
   "metadata": {},
   "source": [
    "### Selenium 실습 - Adobe Color"
   ]
  },
  {
   "cell_type": "markdown",
   "metadata": {},
   "source": [
    "- requests"
   ]
  },
  {
   "cell_type": "code",
   "execution_count": 50,
   "metadata": {},
   "outputs": [],
   "source": [
    "# https://color.adobe.com/ko/explore\n",
    "\n",
    "url = 'https://color.adobe.com/ko/search?q=warm'"
   ]
  },
  {
   "cell_type": "code",
   "execution_count": 51,
   "metadata": {},
   "outputs": [],
   "source": [
    "response = requests.get(url)"
   ]
  },
  {
   "cell_type": "code",
   "execution_count": 52,
   "metadata": {},
   "outputs": [],
   "source": [
    "soup = BeautifulSoup(response.content)"
   ]
  },
  {
   "cell_type": "code",
   "execution_count": 53,
   "metadata": {},
   "outputs": [
    {
     "data": {
      "text/plain": [
       "<!DOCTYPE html>\n",
       "\n",
       "<html>\n",
       "<head>\n",
       "<meta charset=\"utf-8\"/>\n",
       "<meta content=\"chrome=1\" http-equiv=\"X-UA-Compatible\"/>\n",
       "<meta content=\"width=device-width,initial-scale=1,maximum-scale=1,user-scalable=0,viewport-fit=cover\" name=\"viewport\">\n",
       "<meta content=\"OUYgfklbgQgsEQpOMLKXKfFXgUShwN0KC05-86Wd3-0\" name=\"google-site-verification\">\n",
       "<link as=\"style\" href=\"https://www.adobe.com/etc/beagle/public/globalnav/adobe-privacy/latest/privacy.min.css\" onload=\"this.rel='stylesheet'\" rel=\"preload\"/>\n",
       "<script src=\"/config.js\" type=\"text/javascript\"></script>\n",
       "<script>\n",
       "        let ENV = config('ENVIRONMENT') !== \"production\" ? \"stage\" : \"production\";\n",
       "        window.marketingtech = {\n",
       "            adobe : {\n",
       "                launch : {\n",
       "                    property : 'global',\n",
       "                    environment : ENV\n",
       "                },\n",
       "                analytics : {\n",
       "                    additionalAccounts : ''\n",
       "                },\n",
       "                target : false,\n",
       "                audienceManager : false\n",
       "            }\n",
       "        }\n",
       "\n",
       "        window.fedsConfig = window.fedsConfig || {};\n",
       "        window.fedsConfig.privacy = window.fedsConfig.privacy || {};\n",
       "        window.fedsConfig.privacy.otDomainId = config('ONETRUST_DOMAIN_ID');\n",
       "        window.fedsConfig.privacy.footerLinkSelector = '#openCookieModal';\n",
       "    </script>\n",
       "<script src=\"https://www.adobe.com/marketingtech/main.min.js\" type=\"text/javascript\"></script>\n",
       "<link href=\"/style.4f4f76b4820de2387d18.css\" rel=\"stylesheet\"/></meta></meta></head>\n",
       "<body>\n",
       "<script async=\"\" src=\"/newRelic.js\" type=\"text/javascript\"></script>\n",
       "<div id=\"app-root\"></div>\n",
       "<script defer=\"\" src=\"https://www.adobe.com/etc/beagle/public/globalnav/adobe-privacy/latest/privacy.min.js\"></script>\n",
       "<script src=\"/style.61397d87ca4d8efd3867.js\" type=\"text/javascript\"></script><script src=\"/bundle.4f4f76b4820de2387d18.js\" type=\"text/javascript\"></script></body>\n",
       "</html>"
      ]
     },
     "execution_count": 53,
     "metadata": {},
     "output_type": "execute_result"
    }
   ],
   "source": [
    "soup"
   ]
  },
  {
   "cell_type": "code",
   "execution_count": 54,
   "metadata": {},
   "outputs": [
    {
     "data": {
      "text/plain": [
       "[]"
      ]
     },
     "execution_count": 54,
     "metadata": {},
     "output_type": "execute_result"
    }
   ],
   "source": [
    "soup.select('body .Card__cardWrapper___FIINk')"
   ]
  },
  {
   "cell_type": "markdown",
   "metadata": {},
   "source": [
    "- selenium"
   ]
  },
  {
   "cell_type": "code",
   "execution_count": 46,
   "metadata": {},
   "outputs": [],
   "source": [
    "driver = webdriver.Chrome('./chromedriver')\n",
    "driver.get('https://color.adobe.com/ko/search?q=warm')"
   ]
  },
  {
   "cell_type": "code",
   "execution_count": 47,
   "metadata": {},
   "outputs": [],
   "source": [
    "driver.find_element_by_xpath('//*[@id=\"react-spectrum-8\"]/div/div[3]').click()"
   ]
  },
  {
   "cell_type": "code",
   "execution_count": 48,
   "metadata": {},
   "outputs": [],
   "source": [
    "html = driver.page_source\n",
    "soup = BeautifulSoup(html, 'html.parser')"
   ]
  },
  {
   "cell_type": "code",
   "execution_count": null,
   "metadata": {},
   "outputs": [],
   "source": [
    "soup.select('body .Card__cardWrapper___FIINk')"
   ]
  },
  {
   "cell_type": "code",
   "execution_count": null,
   "metadata": {},
   "outputs": [],
   "source": []
  }
 ],
 "metadata": {
  "kernelspec": {
   "display_name": "python3.9",
   "language": "python",
   "name": "python3"
  },
  "language_info": {
   "codemirror_mode": {
    "name": "ipython",
    "version": 3
   },
   "file_extension": ".py",
   "mimetype": "text/x-python",
   "name": "python",
   "nbconvert_exporter": "python",
   "pygments_lexer": "ipython3",
   "version": "3.9.1"
  }
 },
 "nbformat": 4,
 "nbformat_minor": 4
}
