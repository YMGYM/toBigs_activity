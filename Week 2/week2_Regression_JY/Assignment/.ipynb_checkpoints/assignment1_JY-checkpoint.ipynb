{
 "cells": [
  {
   "cell_type": "markdown",
   "metadata": {},
   "source": [
    "# Assignment1 "
   ]
  },
  {
   "cell_type": "markdown",
   "metadata": {},
   "source": [
    "## Matrix 구현 \n",
    "1. Linear Regression 에서 쓰이는 **정규방정식**을 행렬로 구현하고, sklearn 혹은 OLS 패키지를 통해 구한 **실제 값과 비교**해 주세요 \n",
    "2. LSE에서 쓰이는 Loss Function, **MSE**를 행렬로 구현해 출력해 주세요 "
   ]
  },
  {
   "cell_type": "markdown",
   "metadata": {},
   "source": [
    "### Data Load "
   ]
  },
  {
   "cell_type": "code",
   "execution_count": 1,
   "metadata": {},
   "outputs": [],
   "source": [
    "import pandas as pd \n",
    "data = pd.read_csv(\"assignment1.csv\")"
   ]
  },
  {
   "cell_type": "code",
   "execution_count": 2,
   "metadata": {},
   "outputs": [
    {
     "data": {
      "text/html": [
       "<div>\n",
       "<style scoped>\n",
       "    .dataframe tbody tr th:only-of-type {\n",
       "        vertical-align: middle;\n",
       "    }\n",
       "\n",
       "    .dataframe tbody tr th {\n",
       "        vertical-align: top;\n",
       "    }\n",
       "\n",
       "    .dataframe thead th {\n",
       "        text-align: right;\n",
       "    }\n",
       "</style>\n",
       "<table border=\"1\" class=\"dataframe\">\n",
       "  <thead>\n",
       "    <tr style=\"text-align: right;\">\n",
       "      <th></th>\n",
       "      <th>y</th>\n",
       "      <th>x1</th>\n",
       "      <th>x2</th>\n",
       "      <th>x3</th>\n",
       "      <th>x4</th>\n",
       "      <th>x5</th>\n",
       "    </tr>\n",
       "  </thead>\n",
       "  <tbody>\n",
       "    <tr>\n",
       "      <th>0</th>\n",
       "      <td>10</td>\n",
       "      <td>38.9</td>\n",
       "      <td>64.7</td>\n",
       "      <td>4</td>\n",
       "      <td>868</td>\n",
       "      <td>59.7</td>\n",
       "    </tr>\n",
       "    <tr>\n",
       "      <th>1</th>\n",
       "      <td>13</td>\n",
       "      <td>41.6</td>\n",
       "      <td>45.3</td>\n",
       "      <td>-4</td>\n",
       "      <td>957</td>\n",
       "      <td>61.4</td>\n",
       "    </tr>\n",
       "    <tr>\n",
       "      <th>2</th>\n",
       "      <td>11</td>\n",
       "      <td>39.7</td>\n",
       "      <td>74.1</td>\n",
       "      <td>8</td>\n",
       "      <td>786</td>\n",
       "      <td>61.0</td>\n",
       "    </tr>\n",
       "    <tr>\n",
       "      <th>3</th>\n",
       "      <td>7</td>\n",
       "      <td>37.3</td>\n",
       "      <td>48.0</td>\n",
       "      <td>19</td>\n",
       "      <td>984</td>\n",
       "      <td>67.5</td>\n",
       "    </tr>\n",
       "    <tr>\n",
       "      <th>4</th>\n",
       "      <td>10</td>\n",
       "      <td>39.5</td>\n",
       "      <td>51.9</td>\n",
       "      <td>6</td>\n",
       "      <td>700</td>\n",
       "      <td>57.2</td>\n",
       "    </tr>\n",
       "  </tbody>\n",
       "</table>\n",
       "</div>"
      ],
      "text/plain": [
       "    y    x1    x2  x3   x4    x5\n",
       "0  10  38.9  64.7   4  868  59.7\n",
       "1  13  41.6  45.3  -4  957  61.4\n",
       "2  11  39.7  74.1   8  786  61.0\n",
       "3   7  37.3  48.0  19  984  67.5\n",
       "4  10  39.5  51.9   6  700  57.2"
      ]
     },
     "execution_count": 2,
     "metadata": {},
     "output_type": "execute_result"
    }
   ],
   "source": [
    "data.head()"
   ]
  },
  {
   "cell_type": "code",
   "execution_count": 3,
   "metadata": {},
   "outputs": [
    {
     "data": {
      "text/plain": [
       "(9, 6)"
      ]
     },
     "execution_count": 3,
     "metadata": {},
     "output_type": "execute_result"
    }
   ],
   "source": [
    "data.shape # y:(9,1), X:(9,5)"
   ]
  },
  {
   "cell_type": "code",
   "execution_count": 4,
   "metadata": {},
   "outputs": [],
   "source": [
    "X = data.drop([\"y\"], axis=1)\n",
    "y = data.y"
   ]
  },
  {
   "cell_type": "code",
   "execution_count": 5,
   "metadata": {},
   "outputs": [],
   "source": [
    "# matrix 계산을 위해 numpy 형태로 바꾸어 줍니다 \n",
    "X = X.to_numpy()\n",
    "y = y.to_numpy()"
   ]
  },
  {
   "cell_type": "code",
   "execution_count": 6,
   "metadata": {},
   "outputs": [
    {
     "data": {
      "text/plain": [
       "array([[  38.9,   64.7,    4. ,  868. ,   59.7],\n",
       "       [  41.6,   45.3,   -4. ,  957. ,   61.4],\n",
       "       [  39.7,   74.1,    8. ,  786. ,   61. ],\n",
       "       [  37.3,   48. ,   19. ,  984. ,   67.5],\n",
       "       [  39.5,   51.9,    6. ,  700. ,   57.2],\n",
       "       [  37.4,   53.6,   -5. , 1037. ,   58.8],\n",
       "       [  35.1,   71.4,    3. ,  986. ,   58.6],\n",
       "       [  38.8,   58.3,    6. ,  819. ,   59.2],\n",
       "       [  36.6,   52.6,  -19. ,  791. ,   54.4]])"
      ]
     },
     "execution_count": 6,
     "metadata": {},
     "output_type": "execute_result"
    }
   ],
   "source": [
    "X"
   ]
  },
  {
   "cell_type": "code",
   "execution_count": 7,
   "metadata": {},
   "outputs": [
    {
     "data": {
      "text/plain": [
       "array([10, 13, 11,  7, 10,  9,  9,  6,  5])"
      ]
     },
     "execution_count": 7,
     "metadata": {},
     "output_type": "execute_result"
    }
   ],
   "source": [
    "y"
   ]
  },
  {
   "cell_type": "markdown",
   "metadata": {},
   "source": [
    "### 1. Normal Equation"
   ]
  },
  {
   "cell_type": "code",
   "execution_count": 8,
   "metadata": {},
   "outputs": [],
   "source": [
    "import numpy as np\n",
    "from numpy.linalg import inv "
   ]
  },
  {
   "cell_type": "code",
   "execution_count": 9,
   "metadata": {},
   "outputs": [
    {
     "data": {
      "text/plain": [
       "array([[ 4.29734602e-02,  1.32636250e-01,  3.60752826e-02,\n",
       "        -1.12042675e-01,  2.06238165e-02,  3.19941955e-02,\n",
       "        -5.15318422e-02,  1.90336818e-02, -1.19762170e-01],\n",
       "       [ 1.01283207e-02, -2.72847982e-03,  2.95194120e-02,\n",
       "        -1.21901357e-02, -2.11414900e-02, -6.31048235e-03,\n",
       "         9.97801785e-03, -5.13822140e-03, -2.11694126e-03],\n",
       "       [ 2.25180922e-03, -1.45003299e-02, -2.64855223e-02,\n",
       "        -6.17159401e-03,  4.19610447e-02,  1.36603693e-02,\n",
       "         1.62613252e-02,  2.06929027e-02, -4.76700050e-02],\n",
       "       [ 3.76626994e-04,  1.23318096e-03, -1.73563667e-03,\n",
       "        -1.40259580e-03, -2.67235194e-04,  2.73959704e-03,\n",
       "         1.66570046e-03,  1.87272254e-04, -2.79691005e-03],\n",
       "       [-1.08773684e-02,  1.73403962e-02,  1.08662916e-01,\n",
       "         1.16154369e-01, -1.29052490e-01, -8.73229171e-02,\n",
       "        -6.40986438e-02, -5.99475190e-02,  1.09141257e-01],\n",
       "       [-1.80709367e+00, -6.90766931e+00, -7.88795071e+00,\n",
       "        -5.83975738e-01,  8.40511969e+00,  2.02698606e+00,\n",
       "         3.83995938e+00,  3.05436150e+00,  8.60262782e-01]])"
      ]
     },
     "execution_count": 9,
     "metadata": {},
     "output_type": "execute_result"
    }
   ],
   "source": [
    "designX = np.hstack((X, np.ones((X.shape[0],1))))\n",
    "np.matmul(inv(np.matmul(designX.T , designX)), designX.T)"
   ]
  },
  {
   "cell_type": "code",
   "execution_count": 10,
   "metadata": {},
   "outputs": [],
   "source": [
    "def estimate_beta(X, y):\n",
    "    \n",
    "    designX = np.hstack((X,np.ones((X.shape[0], 1))))\n",
    "\n",
    "    beta_hat = np.matmul(np.matmul(inv(np.matmul(designX.T , designX)), designX.T), y)\n",
    "    \n",
    "    return beta_hat"
   ]
  },
  {
   "cell_type": "code",
   "execution_count": 11,
   "metadata": {},
   "outputs": [
    {
     "data": {
      "text/plain": [
       "array([ 1.31232583e+00,  8.53744361e-02,  7.41849897e-02,  1.50018573e-02,\n",
       "       -3.42273652e-01, -3.92447368e+01])"
      ]
     },
     "execution_count": 11,
     "metadata": {},
     "output_type": "execute_result"
    }
   ],
   "source": [
    "beta_hat = estimate_beta(X, y)\n",
    "beta_hat # 가장 마지막 행은 절편 intercept 이다."
   ]
  },
  {
   "cell_type": "markdown",
   "metadata": {},
   "source": [
    "#### 실제 값과 비교"
   ]
  },
  {
   "cell_type": "code",
   "execution_count": 12,
   "metadata": {},
   "outputs": [],
   "source": [
    "from sklearn.linear_model import LinearRegression"
   ]
  },
  {
   "cell_type": "code",
   "execution_count": 13,
   "metadata": {},
   "outputs": [],
   "source": [
    "model = LinearRegression()\n",
    "model.fit(X, y)\n",
    "\n",
    "pred = model.predict(X)"
   ]
  },
  {
   "cell_type": "code",
   "execution_count": 14,
   "metadata": {},
   "outputs": [
    {
     "name": "stdout",
     "output_type": "stream",
     "text": [
      "-39.24473678135655\n",
      "[ 1.31232583  0.08537444  0.07418499  0.01500186 -0.34227365]\n"
     ]
    }
   ],
   "source": [
    "print(model.intercept_) # intercept\n",
    "print(model.coef_) # 추정된 회귀계수 (intercept제외)"
   ]
  },
  {
   "cell_type": "markdown",
   "metadata": {},
   "source": [
    "Predicted 된 값이랑 실제 Y 값을 비교해 보았습니다."
   ]
  },
  {
   "cell_type": "code",
   "execution_count": 19,
   "metadata": {},
   "outputs": [
    {
     "data": {
      "image/png": "[encoded data removed]",
      "text/plain": [
       "<Figure size 432x288 with 1 Axes>"
      ]
     },
     "metadata": {
      "needs_background": "light"
     },
     "output_type": "display_data"
    }
   ],
   "source": [
    "import matplotlib.pyplot as plt\n",
    "\n",
    "xs = [1,2,3,4,5,6,7,8,9]\n",
    "plt.scatter(xs, pred)\n",
    "plt.scatter(xs, y)\n",
    "plt.legend(['prediction', 'actual'])\n",
    "plt.show()"
   ]
  },
  {
   "cell_type": "markdown",
   "metadata": {},
   "source": [
    "### 2. MSE"
   ]
  },
  {
   "cell_type": "code",
   "execution_count": 50,
   "metadata": {},
   "outputs": [],
   "source": [
    "def MSE(X, y, beta_hat):\n",
    "    designX = np.hstack((X,np.ones((X.shape[0], 1))))\n",
    "    \n",
    "    y_pred = np.matmul(designX, beta_hat)\n",
    "    mse = np.sum((y_pred - y) ** 2) / (y.shape[0] - X.shape[1] - 1) # 제곱합 / 자유도\n",
    "\n",
    "    return mse"
   ]
  },
  {
   "cell_type": "code",
   "execution_count": 51,
   "metadata": {},
   "outputs": [
    {
     "data": {
      "text/plain": [
       "4.8467931687057275"
      ]
     },
     "execution_count": 51,
     "metadata": {},
     "output_type": "execute_result"
    }
   ],
   "source": [
    "MSE(X, y, estimate_beta(X, y))"
   ]
  },
  {
   "cell_type": "markdown",
   "metadata": {},
   "source": [
    "### 3.MLE"
   ]
  },
  {
   "cell_type": "markdown",
   "metadata": {},
   "source": [
    "#### 바구니 안에 파란구슬과 빨간구슬이 들어있을 때, 10개를 추출하여보니 파란구슬이 2개 빨간구슬이 8개가 추출되었습니다. \n",
    "#### 이때 바구니안에는 파란구슬과 빨간구슬이 각각 몇개있는지에 대해서 최대우도추정법을 이용해 논리적으로 설명해주세요. \n",
    "- 수식은 있어도 좋고 말로 풀어쓰셔도 좋습니다\n",
    "- 추출은 복원추출을 전제로 합니다\n",
    "- 글자수 제한은 없습니다. 많이 쓰라는 얘기가 아니라 정말 제한이 없습니다. 너무 부담가지고 쓰지마세요."
   ]
  },
  {
   "cell_type": "markdown",
   "metadata": {},
   "source": [
    "### 답안\n",
    "- 바구니에 있는 전체 구슬의 합을 표본이라고 볼 수 있다.\n",
    "- 따라서 문제에서 주어진 상황은 전체 표본에서 10개를 표본추출 했다고 생각할 수 있다.\n",
    "- 바구니 안에는 파란구슬과 빨간구슬 두 종류만 들어 있기 때문에 구슬을 하나 선택하면 파랑 또는 빨강 두 개만 나온다.\n",
    "- 각 구슬은 복원추출을 전제로 하므로 앞서 뽑은 구슬이 뒤 뽑기에 영향을 주지 않는다.\n",
    "- 이와 같은 조건은 이항분포(베르누이 선택) 으로 볼 수 있다."
   ]
  },
  {
   "cell_type": "markdown",
   "metadata": {},
   "source": [
    "- 이항분포에서 추출한 문제 상황(파란 구슬 2개 빨간 구슬 8개)이 나올 확률을 구해 보자.\n",
    "- 순서에 상관 없이 파랑 : 빨강 = 2 : 8 일 경우를 E라고 하겠다.\n",
    "- 여기서 파란 구슬이 나올 확률을 `P` 라 하면\n",
    "\n",
    "<img src=\"https://latex.codecogs.com/gif.latex?P(E|p)&space;=&space;10\\mathbb{C}2&space;\\cdot&space;p^2&space;\\cdot&space;(1-p)^8\" title=\"P(E|p) = 10\\mathbb{C}2 \\cdot p^2 \\cdot (1-p)^8\" />\n",
    "\n",
    "으로 표현할 수 있다."
   ]
  },
  {
   "cell_type": "markdown",
   "metadata": {},
   "source": [
    "- 최대우도추정법을 사용해기 위해 이를 최대화하는 `p-hat` 을 찾는다.\n",
    "- 계산의 편의를 위해 로그를 사용하여 계산하면 ..\n",
    "<img src=\"https://latex.codecogs.com/gif.latex?logP(E|p)&space;=&space;log10\\mathbb{C}2&space;&plus;&space;logp^2&space;&plus;&space;log(1-p)^8\" title=\"logP(E|p) = log10\\mathbb{C}2 + logp^2 + log(1-p)^8\" />\n",
    "\n",
    "이다.\n",
    "- 이 함수가 최대값을 갖기 위해선 도함수가 0이어야 하므로, 미분해서 0이 되는 값을 구한다.\n",
    "<img src=\"https://latex.codecogs.com/gif.latex?\\frac{2}{p}&space;-&space;\\frac{8}{1-p}&space;=&space;0\" title=\"\\frac{2}{p} - \\frac{8}{1-8} = 0\" />\n",
    "\n",
    "- 이를 정리하여 `p`값을 구하면..\n",
    "<img src=\"https://latex.codecogs.com/gif.latex?p&space;=&space;\\frac{1}{5}\" title=\"p = \\frac{1}{5}\" />"
   ]
  },
  {
   "cell_type": "markdown",
   "metadata": {},
   "source": [
    "최대우도추정법에 따라서 `p=1/5` 일때 주어진 파란 구슬을 2개 뽑을 가능성이 가장 크다고 볼 수 있다.\n",
    "\n",
    "따라서 바구니에 파란 구슬이 20%일때 표본처럼 나올 확률이 크다고 볼 수 있다"
   ]
  },
  {
   "cell_type": "code",
   "execution_count": null,
   "metadata": {},
   "outputs": [],
   "source": []
  }
 ],
 "metadata": {
  "kernelspec": {
   "display_name": "Python 3",
   "language": "python",
   "name": "python3"
  },
  "language_info": {
   "codemirror_mode": {
    "name": "ipython",
    "version": 3
   },
   "file_extension": ".py",
   "mimetype": "text/x-python",
   "name": "python",
   "nbconvert_exporter": "python",
   "pygments_lexer": "ipython3",
   "version": "3.8.6"
  }
 },
 "nbformat": 4,
 "nbformat_minor": 4
}
