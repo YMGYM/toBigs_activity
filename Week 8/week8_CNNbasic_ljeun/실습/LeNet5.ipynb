{
 "cells": [
  {
   "cell_type": "markdown",
   "metadata": {
    "colab_type": "text",
    "id": "N1DbkY70-hcB"
   },
   "source": [
    "# LeNet-5 구현"
   ]
  },
  {
   "cell_type": "markdown",
   "metadata": {
    "colab_type": "text",
    "id": "0yGHLrFU8JkW"
   },
   "source": [
    "## 1. tensorflow(keras)"
   ]
  },
  {
   "cell_type": "code",
   "execution_count": null,
   "metadata": {
    "colab": {},
    "colab_type": "code",
    "id": "68kj2zUP80f0"
   },
   "outputs": [],
   "source": [
    "from tensorflow.keras.layers import Conv2D, AveragePooling2D,Flatten,Dense\n",
    "from tensorflow.keras.models import Sequential\n",
    "\n",
    "n_classes = 10 # 분류 범주 개수\n",
    "\n",
    "model=Sequential()\n",
    "\n",
    "model.add(Conv2D(6,(5,5),activation='tanh',input_shape=[32,32,1]))\n",
    "model.add(AveragePooling2D((2,2)))\n",
    "\n",
    "model.add(Conv2D(16,(5,5),activation='tanh'))\n",
    "model.add((AveragePooling2D((2,2)))\n",
    "\n",
    "model.add(Conv2D(120,(5,5),activation='tanh'))\n",
    "\n",
    "model.add(Dense(84,activation='tanh'))\n",
    "model.add(Dense(n_classes,activation='softmax'))"
   ]
  },
  {
   "cell_type": "markdown",
   "metadata": {
    "colab_type": "text",
    "id": "urleB2cT-c0i"
   },
   "source": [
    "## 2. Pytorch"
   ]
  },
  {
   "cell_type": "code",
   "execution_count": null,
   "metadata": {
    "colab": {},
    "colab_type": "code",
    "id": "rPXCVbu799Rq"
   },
   "outputs": [],
   "source": [
    "#출처\n",
    "#https://towardsdatascience.com/implementing-yann-lecuns-lenet-5-in-pytorch-5e05a0911320\n",
    "import torch\n",
    "import torch.nn as nn\n",
    "import torch.nn.functional as F\n",
    "\n",
    "class LeNet5(nn.Module):\n",
    "\n",
    "    def __init__(self, n_classes):\n",
    "        super(LeNet5, self).__init__()\n",
    "        \n",
    "        self.feature_extractor = nn.Sequential(            \n",
    "            nn.Conv2d(in_channels=1, out_channels=6, kernel_size=5, stride=1),\n",
    "            nn.Tanh(),\n",
    "            nn.AvgPool2d(kernel_size=2),\n",
    "            nn.Conv2d(in_channels=6, out_channels=16, kernel_size=5, stride=1),\n",
    "            nn.Tanh(),\n",
    "            nn.AvgPool2d(kernel_size=2),\n",
    "            nn.Conv2d(in_channels=16, out_channels=120, kernel_size=5, stride=1),\n",
    "            nn.Tanh()\n",
    "        )\n",
    "\n",
    "        self.classifier = nn.Sequential(\n",
    "            nn.Linear(in_features=120, out_features=84),\n",
    "            nn.Tanh(),\n",
    "            nn.Linear(in_features=84, out_features=n_classes),\n",
    "        )\n",
    "\n",
    "\n",
    "    def forward(self, x):\n",
    "        x = self.feature_extractor(x)\n",
    "        x = torch.flatten(x, 1)\n",
    "        logits = self.classifier(x)\n",
    "        probs = F.softmax(logits, dim=1)\n",
    "        return logits, probs"
   ]
  }
 ],
 "metadata": {
  "colab": {
   "authorship_tag": "ABX9TyMZraORRo3tHhjog3ziK6YY",
   "collapsed_sections": [],
   "name": "Lenet5.ipynb",
   "provenance": []
  },
  "kernelspec": {
   "display_name": "Python 3",
   "language": "python",
   "name": "python3"
  },
  "language_info": {
   "codemirror_mode": {
    "name": "ipython",
    "version": 3
   },
   "file_extension": ".py",
   "mimetype": "text/x-python",
   "name": "python",
   "nbconvert_exporter": "python",
   "pygments_lexer": "ipython3",
   "version": "3.8.5"
  }
 },
 "nbformat": 4,
 "nbformat_minor": 1
}
