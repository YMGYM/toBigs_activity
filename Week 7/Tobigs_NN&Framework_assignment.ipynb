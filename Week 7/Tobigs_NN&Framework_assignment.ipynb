{
  "nbformat": 4,
  "nbformat_minor": 0,
  "metadata": {
    "colab": {
      "name": "Tobigs_NN&Framework_assignment.ipynb",
      "provenance": [],
      "collapsed_sections": []
    },
    "kernelspec": {
      "name": "python3",
      "display_name": "Python 3"
    },
    "widgets": {
      "application/vnd.jupyter.widget-state+json": {
        "7b79d81fddb345ffa0352af5aa939e6c": {
          "model_module": "@jupyter-widgets/controls",
          "model_name": "HBoxModel",
          "state": {
            "_view_name": "HBoxView",
            "_dom_classes": [],
            "_model_name": "HBoxModel",
            "_view_module": "@jupyter-widgets/controls",
            "_model_module_version": "1.5.0",
            "_view_count": null,
            "_view_module_version": "1.5.0",
            "box_style": "",
            "layout": "IPY_MODEL_aea0a9714aaa436cb58a8a2be6064ec4",
            "_model_module": "@jupyter-widgets/controls",
            "children": [
              "IPY_MODEL_067d38ad1f204152971af4472a870ab0",
              "IPY_MODEL_f4fa38f02b98498c8a99801e415cf7ba"
            ]
          }
        },
        "aea0a9714aaa436cb58a8a2be6064ec4": {
          "model_module": "@jupyter-widgets/base",
          "model_name": "LayoutModel",
          "state": {
            "_view_name": "LayoutView",
            "grid_template_rows": null,
            "right": null,
            "justify_content": null,
            "_view_module": "@jupyter-widgets/base",
            "overflow": null,
            "_model_module_version": "1.2.0",
            "_view_count": null,
            "flex_flow": null,
            "width": null,
            "min_width": null,
            "border": null,
            "align_items": null,
            "bottom": null,
            "_model_module": "@jupyter-widgets/base",
            "top": null,
            "grid_column": null,
            "overflow_y": null,
            "overflow_x": null,
            "grid_auto_flow": null,
            "grid_area": null,
            "grid_template_columns": null,
            "flex": null,
            "_model_name": "LayoutModel",
            "justify_items": null,
            "grid_row": null,
            "max_height": null,
            "align_content": null,
            "visibility": null,
            "align_self": null,
            "height": null,
            "min_height": null,
            "padding": null,
            "grid_auto_rows": null,
            "grid_gap": null,
            "max_width": null,
            "order": null,
            "_view_module_version": "1.2.0",
            "grid_template_areas": null,
            "object_position": null,
            "object_fit": null,
            "grid_auto_columns": null,
            "margin": null,
            "display": null,
            "left": null
          }
        },
        "067d38ad1f204152971af4472a870ab0": {
          "model_module": "@jupyter-widgets/controls",
          "model_name": "FloatProgressModel",
          "state": {
            "_view_name": "ProgressView",
            "style": "IPY_MODEL_3294b02a192a4cbe80776d6e734acba9",
            "_dom_classes": [],
            "description": "100%",
            "_model_name": "FloatProgressModel",
            "bar_style": "success",
            "max": 574673361,
            "_view_module": "@jupyter-widgets/controls",
            "_model_module_version": "1.5.0",
            "value": 574673361,
            "_view_count": null,
            "_view_module_version": "1.5.0",
            "orientation": "horizontal",
            "min": 0,
            "description_tooltip": null,
            "_model_module": "@jupyter-widgets/controls",
            "layout": "IPY_MODEL_7df31821ac2c44eb9686ce5420e71914"
          }
        },
        "f4fa38f02b98498c8a99801e415cf7ba": {
          "model_module": "@jupyter-widgets/controls",
          "model_name": "HTMLModel",
          "state": {
            "_view_name": "HTMLView",
            "style": "IPY_MODEL_8283061912f84732a86011896381fe88",
            "_dom_classes": [],
            "description": "",
            "_model_name": "HTMLModel",
            "placeholder": "​",
            "_view_module": "@jupyter-widgets/controls",
            "_model_module_version": "1.5.0",
            "value": " 548M/548M [14:03&lt;00:00, 681kB/s]",
            "_view_count": null,
            "_view_module_version": "1.5.0",
            "description_tooltip": null,
            "_model_module": "@jupyter-widgets/controls",
            "layout": "IPY_MODEL_78248f21eec54c5fb9300d852d50160b"
          }
        },
        "3294b02a192a4cbe80776d6e734acba9": {
          "model_module": "@jupyter-widgets/controls",
          "model_name": "ProgressStyleModel",
          "state": {
            "_view_name": "StyleView",
            "_model_name": "ProgressStyleModel",
            "description_width": "initial",
            "_view_module": "@jupyter-widgets/base",
            "_model_module_version": "1.5.0",
            "_view_count": null,
            "_view_module_version": "1.2.0",
            "bar_color": null,
            "_model_module": "@jupyter-widgets/controls"
          }
        },
        "7df31821ac2c44eb9686ce5420e71914": {
          "model_module": "@jupyter-widgets/base",
          "model_name": "LayoutModel",
          "state": {
            "_view_name": "LayoutView",
            "grid_template_rows": null,
            "right": null,
            "justify_content": null,
            "_view_module": "@jupyter-widgets/base",
            "overflow": null,
            "_model_module_version": "1.2.0",
            "_view_count": null,
            "flex_flow": null,
            "width": null,
            "min_width": null,
            "border": null,
            "align_items": null,
            "bottom": null,
            "_model_module": "@jupyter-widgets/base",
            "top": null,
            "grid_column": null,
            "overflow_y": null,
            "overflow_x": null,
            "grid_auto_flow": null,
            "grid_area": null,
            "grid_template_columns": null,
            "flex": null,
            "_model_name": "LayoutModel",
            "justify_items": null,
            "grid_row": null,
            "max_height": null,
            "align_content": null,
            "visibility": null,
            "align_self": null,
            "height": null,
            "min_height": null,
            "padding": null,
            "grid_auto_rows": null,
            "grid_gap": null,
            "max_width": null,
            "order": null,
            "_view_module_version": "1.2.0",
            "grid_template_areas": null,
            "object_position": null,
            "object_fit": null,
            "grid_auto_columns": null,
            "margin": null,
            "display": null,
            "left": null
          }
        },
        "8283061912f84732a86011896381fe88": {
          "model_module": "@jupyter-widgets/controls",
          "model_name": "DescriptionStyleModel",
          "state": {
            "_view_name": "StyleView",
            "_model_name": "DescriptionStyleModel",
            "description_width": "",
            "_view_module": "@jupyter-widgets/base",
            "_model_module_version": "1.5.0",
            "_view_count": null,
            "_view_module_version": "1.2.0",
            "_model_module": "@jupyter-widgets/controls"
          }
        },
        "78248f21eec54c5fb9300d852d50160b": {
          "model_module": "@jupyter-widgets/base",
          "model_name": "LayoutModel",
          "state": {
            "_view_name": "LayoutView",
            "grid_template_rows": null,
            "right": null,
            "justify_content": null,
            "_view_module": "@jupyter-widgets/base",
            "overflow": null,
            "_model_module_version": "1.2.0",
            "_view_count": null,
            "flex_flow": null,
            "width": null,
            "min_width": null,
            "border": null,
            "align_items": null,
            "bottom": null,
            "_model_module": "@jupyter-widgets/base",
            "top": null,
            "grid_column": null,
            "overflow_y": null,
            "overflow_x": null,
            "grid_auto_flow": null,
            "grid_area": null,
            "grid_template_columns": null,
            "flex": null,
            "_model_name": "LayoutModel",
            "justify_items": null,
            "grid_row": null,
            "max_height": null,
            "align_content": null,
            "visibility": null,
            "align_self": null,
            "height": null,
            "min_height": null,
            "padding": null,
            "grid_auto_rows": null,
            "grid_gap": null,
            "max_width": null,
            "order": null,
            "_view_module_version": "1.2.0",
            "grid_template_areas": null,
            "object_position": null,
            "object_fit": null,
            "grid_auto_columns": null,
            "margin": null,
            "display": null,
            "left": null
          }
        }
      }
    },
    "accelerator": "GPU"
  },
  "cells": [
    {
      "cell_type": "markdown",
      "metadata": {
        "id": "Q8j03EeYdVYw"
      },
      "source": [
        "# 과제 : Kannada digits 분류하기\n",
        "\n",
        "[링크](https://www.kaggle.com/c/tobigs15-mnist-competition/overview/description)"
      ]
    },
    {
      "cell_type": "markdown",
      "metadata": {
        "id": "Uu4Q03G4eF2H"
      },
      "source": [
        "# 데이터셋 확인하기\n",
        "colab gpu 환경에서 작업되었으므로, 구글 드라이브에서 파일을 불러온다."
      ]
    },
    {
      "cell_type": "code",
      "metadata": {
        "id": "YJjPs5H9dP11"
      },
      "source": [
        "!unzip -q -d data /content/drive/MyDrive/Datasets/tobigs15-mnist-competition.zip"
      ],
      "execution_count": 1,
      "outputs": []
    },
    {
      "cell_type": "markdown",
      "metadata": {
        "id": "kyOsiFFm6hjr"
      },
      "source": [
        "이후 전이학습에서 사용한 모델의 크기가 매우 크기 때문에 GPU 메모리 초과가 발생하여, TPU를 사용했다.\n",
        "\n",
        "아래 패키지는 TPU를 사용하기 위한 패키지이다."
      ]
    },
    {
      "cell_type": "code",
      "metadata": {
        "id": "Gzp0BSAFxMPW"
      },
      "source": [
        "!pip install cloud-tpu-client==0.10 https://storage.googleapis.com/tpu-pytorch/wheels/torch_xla-1.8-cp37-cp37m-linux_x86_64.whl"
      ],
      "execution_count": null,
      "outputs": []
    },
    {
      "cell_type": "code",
      "metadata": {
        "id": "8fpHQGxzepjM"
      },
      "source": [
        "# 라이브러리 임포트\n",
        "import numpy as np\n",
        "import pandas as pd\n",
        "import matplotlib.pyplot as plt"
      ],
      "execution_count": 2,
      "outputs": []
    },
    {
      "cell_type": "code",
      "metadata": {
        "id": "52XnbP-ve4_T"
      },
      "source": [
        "train_data = pd.read_csv('data/train_df.csv')\n",
        "test_data = pd.read_csv('data/test_df.csv')\n",
        "sample_submission = pd.read_csv('data/sample_submission.csv')"
      ],
      "execution_count": 3,
      "outputs": []
    },
    {
      "cell_type": "code",
      "metadata": {
        "colab": {
          "base_uri": "https://localhost:8080/"
        },
        "id": "281kfrJmfL01",
        "outputId": "1babec16-cff5-4b8a-a467-71240d3aea0e"
      },
      "source": [
        "print(f\"len of train_data : {len(train_data)}, shape: {train_data.shape}\")\n",
        "print(f\"len of test_data : {len(test_data)}, shape: {test_data.shape}\")\n",
        "print(f\"len of submission_data : {len(sample_submission)}, shape: {sample_submission.shape}\")"
      ],
      "execution_count": 4,
      "outputs": [
        {
          "output_type": "stream",
          "text": [
            "len of train_data : 42000, shape: (42000, 785)\n",
            "len of test_data : 18000, shape: (18000, 785)\n",
            "len of submission_data : 18000, shape: (18000, 2)\n"
          ],
          "name": "stdout"
        }
      ]
    },
    {
      "cell_type": "markdown",
      "metadata": {
        "id": "Iu9kIsylfcDA"
      },
      "source": [
        "train 데이터의 경우는 28 * 28 픽셀인 (784) 사이즈에 더해 1개의 feature가 더 있었다. 또한 총 데이터 42000개로 이루어져 있다.\n",
        "\n",
        "test 데이터의 경우는 같은 피쳐 사이즈지만 총 18000개의 데이터로 이루어져 있다."
      ]
    },
    {
      "cell_type": "code",
      "metadata": {
        "colab": {
          "base_uri": "https://localhost:8080/",
          "height": 129
        },
        "id": "Mi3kQpbmgwe-",
        "outputId": "10346f84-fe2d-4839-fa70-fcd6ad942130"
      },
      "source": [
        "train_data.head(1)"
      ],
      "execution_count": null,
      "outputs": [
        {
          "output_type": "execute_result",
          "data": {
            "text/html": [
              "<div>\n",
              "<style scoped>\n",
              "    .dataframe tbody tr th:only-of-type {\n",
              "        vertical-align: middle;\n",
              "    }\n",
              "\n",
              "    .dataframe tbody tr th {\n",
              "        vertical-align: top;\n",
              "    }\n",
              "\n",
              "    .dataframe thead th {\n",
              "        text-align: right;\n",
              "    }\n",
              "</style>\n",
              "<table border=\"1\" class=\"dataframe\">\n",
              "  <thead>\n",
              "    <tr style=\"text-align: right;\">\n",
              "      <th></th>\n",
              "      <th>label</th>\n",
              "      <th>pixel0</th>\n",
              "      <th>pixel1</th>\n",
              "      <th>pixel2</th>\n",
              "      <th>pixel3</th>\n",
              "      <th>pixel4</th>\n",
              "      <th>pixel5</th>\n",
              "      <th>pixel6</th>\n",
              "      <th>pixel7</th>\n",
              "      <th>pixel8</th>\n",
              "      <th>pixel9</th>\n",
              "      <th>pixel10</th>\n",
              "      <th>pixel11</th>\n",
              "      <th>pixel12</th>\n",
              "      <th>pixel13</th>\n",
              "      <th>pixel14</th>\n",
              "      <th>pixel15</th>\n",
              "      <th>pixel16</th>\n",
              "      <th>pixel17</th>\n",
              "      <th>pixel18</th>\n",
              "      <th>pixel19</th>\n",
              "      <th>pixel20</th>\n",
              "      <th>pixel21</th>\n",
              "      <th>pixel22</th>\n",
              "      <th>pixel23</th>\n",
              "      <th>pixel24</th>\n",
              "      <th>pixel25</th>\n",
              "      <th>pixel26</th>\n",
              "      <th>pixel27</th>\n",
              "      <th>pixel28</th>\n",
              "      <th>pixel29</th>\n",
              "      <th>pixel30</th>\n",
              "      <th>pixel31</th>\n",
              "      <th>pixel32</th>\n",
              "      <th>pixel33</th>\n",
              "      <th>pixel34</th>\n",
              "      <th>pixel35</th>\n",
              "      <th>pixel36</th>\n",
              "      <th>pixel37</th>\n",
              "      <th>pixel38</th>\n",
              "      <th>...</th>\n",
              "      <th>pixel744</th>\n",
              "      <th>pixel745</th>\n",
              "      <th>pixel746</th>\n",
              "      <th>pixel747</th>\n",
              "      <th>pixel748</th>\n",
              "      <th>pixel749</th>\n",
              "      <th>pixel750</th>\n",
              "      <th>pixel751</th>\n",
              "      <th>pixel752</th>\n",
              "      <th>pixel753</th>\n",
              "      <th>pixel754</th>\n",
              "      <th>pixel755</th>\n",
              "      <th>pixel756</th>\n",
              "      <th>pixel757</th>\n",
              "      <th>pixel758</th>\n",
              "      <th>pixel759</th>\n",
              "      <th>pixel760</th>\n",
              "      <th>pixel761</th>\n",
              "      <th>pixel762</th>\n",
              "      <th>pixel763</th>\n",
              "      <th>pixel764</th>\n",
              "      <th>pixel765</th>\n",
              "      <th>pixel766</th>\n",
              "      <th>pixel767</th>\n",
              "      <th>pixel768</th>\n",
              "      <th>pixel769</th>\n",
              "      <th>pixel770</th>\n",
              "      <th>pixel771</th>\n",
              "      <th>pixel772</th>\n",
              "      <th>pixel773</th>\n",
              "      <th>pixel774</th>\n",
              "      <th>pixel775</th>\n",
              "      <th>pixel776</th>\n",
              "      <th>pixel777</th>\n",
              "      <th>pixel778</th>\n",
              "      <th>pixel779</th>\n",
              "      <th>pixel780</th>\n",
              "      <th>pixel781</th>\n",
              "      <th>pixel782</th>\n",
              "      <th>pixel783</th>\n",
              "    </tr>\n",
              "  </thead>\n",
              "  <tbody>\n",
              "    <tr>\n",
              "      <th>0</th>\n",
              "      <td>7</td>\n",
              "      <td>0</td>\n",
              "      <td>0</td>\n",
              "      <td>0</td>\n",
              "      <td>0</td>\n",
              "      <td>0</td>\n",
              "      <td>0</td>\n",
              "      <td>0</td>\n",
              "      <td>0</td>\n",
              "      <td>0</td>\n",
              "      <td>0</td>\n",
              "      <td>0</td>\n",
              "      <td>0</td>\n",
              "      <td>0</td>\n",
              "      <td>0</td>\n",
              "      <td>0</td>\n",
              "      <td>0</td>\n",
              "      <td>0</td>\n",
              "      <td>0</td>\n",
              "      <td>0</td>\n",
              "      <td>0</td>\n",
              "      <td>0</td>\n",
              "      <td>0</td>\n",
              "      <td>0</td>\n",
              "      <td>0</td>\n",
              "      <td>0</td>\n",
              "      <td>0</td>\n",
              "      <td>0</td>\n",
              "      <td>0</td>\n",
              "      <td>0</td>\n",
              "      <td>0</td>\n",
              "      <td>0</td>\n",
              "      <td>0</td>\n",
              "      <td>0</td>\n",
              "      <td>0</td>\n",
              "      <td>0</td>\n",
              "      <td>0</td>\n",
              "      <td>0</td>\n",
              "      <td>0</td>\n",
              "      <td>0</td>\n",
              "      <td>...</td>\n",
              "      <td>0</td>\n",
              "      <td>0</td>\n",
              "      <td>0</td>\n",
              "      <td>0</td>\n",
              "      <td>0</td>\n",
              "      <td>0</td>\n",
              "      <td>0</td>\n",
              "      <td>0</td>\n",
              "      <td>0</td>\n",
              "      <td>0</td>\n",
              "      <td>0</td>\n",
              "      <td>0</td>\n",
              "      <td>0</td>\n",
              "      <td>0</td>\n",
              "      <td>0</td>\n",
              "      <td>0</td>\n",
              "      <td>0</td>\n",
              "      <td>0</td>\n",
              "      <td>0</td>\n",
              "      <td>0</td>\n",
              "      <td>0</td>\n",
              "      <td>0</td>\n",
              "      <td>0</td>\n",
              "      <td>0</td>\n",
              "      <td>0</td>\n",
              "      <td>0</td>\n",
              "      <td>0</td>\n",
              "      <td>0</td>\n",
              "      <td>0</td>\n",
              "      <td>0</td>\n",
              "      <td>0</td>\n",
              "      <td>0</td>\n",
              "      <td>0</td>\n",
              "      <td>0</td>\n",
              "      <td>0</td>\n",
              "      <td>0</td>\n",
              "      <td>0</td>\n",
              "      <td>0</td>\n",
              "      <td>0</td>\n",
              "      <td>0</td>\n",
              "    </tr>\n",
              "  </tbody>\n",
              "</table>\n",
              "<p>1 rows × 785 columns</p>\n",
              "</div>"
            ],
            "text/plain": [
              "   label  pixel0  pixel1  pixel2  ...  pixel780  pixel781  pixel782  pixel783\n",
              "0      7       0       0       0  ...         0         0         0         0\n",
              "\n",
              "[1 rows x 785 columns]"
            ]
          },
          "metadata": {
            "tags": []
          },
          "execution_count": 5
        }
      ]
    },
    {
      "cell_type": "markdown",
      "metadata": {
        "id": "J54MHDOIg2qF"
      },
      "source": [
        "추가로 들어있는 1개의 feature 는 label 이었다."
      ]
    },
    {
      "cell_type": "code",
      "metadata": {
        "colab": {
          "base_uri": "https://localhost:8080/",
          "height": 204
        },
        "id": "LkijKZ3QfNjc",
        "outputId": "10d5653b-ebdc-456e-f1e7-1a7cfb7cd8d5"
      },
      "source": [
        "# 제출 형식 확인\n",
        "sample_submission.head()"
      ],
      "execution_count": null,
      "outputs": [
        {
          "output_type": "execute_result",
          "data": {
            "text/html": [
              "<div>\n",
              "<style scoped>\n",
              "    .dataframe tbody tr th:only-of-type {\n",
              "        vertical-align: middle;\n",
              "    }\n",
              "\n",
              "    .dataframe tbody tr th {\n",
              "        vertical-align: top;\n",
              "    }\n",
              "\n",
              "    .dataframe thead th {\n",
              "        text-align: right;\n",
              "    }\n",
              "</style>\n",
              "<table border=\"1\" class=\"dataframe\">\n",
              "  <thead>\n",
              "    <tr style=\"text-align: right;\">\n",
              "      <th></th>\n",
              "      <th>Id</th>\n",
              "      <th>Category</th>\n",
              "    </tr>\n",
              "  </thead>\n",
              "  <tbody>\n",
              "    <tr>\n",
              "      <th>0</th>\n",
              "      <td>57808</td>\n",
              "      <td>0</td>\n",
              "    </tr>\n",
              "    <tr>\n",
              "      <th>1</th>\n",
              "      <td>4960</td>\n",
              "      <td>0</td>\n",
              "    </tr>\n",
              "    <tr>\n",
              "      <th>2</th>\n",
              "      <td>35755</td>\n",
              "      <td>0</td>\n",
              "    </tr>\n",
              "    <tr>\n",
              "      <th>3</th>\n",
              "      <td>15543</td>\n",
              "      <td>0</td>\n",
              "    </tr>\n",
              "    <tr>\n",
              "      <th>4</th>\n",
              "      <td>48968</td>\n",
              "      <td>0</td>\n",
              "    </tr>\n",
              "  </tbody>\n",
              "</table>\n",
              "</div>"
            ],
            "text/plain": [
              "      Id  Category\n",
              "0  57808         0\n",
              "1   4960         0\n",
              "2  35755         0\n",
              "3  15543         0\n",
              "4  48968         0"
            ]
          },
          "metadata": {
            "tags": []
          },
          "execution_count": 6
        }
      ]
    },
    {
      "cell_type": "code",
      "metadata": {
        "colab": {
          "base_uri": "https://localhost:8080/",
          "height": 146
        },
        "id": "wO9VH0Snf1IY",
        "outputId": "efd41553-e092-4f61-9992-65a88ff33398"
      },
      "source": [
        "test_data.head(1)"
      ],
      "execution_count": null,
      "outputs": [
        {
          "output_type": "execute_result",
          "data": {
            "text/html": [
              "<div>\n",
              "<style scoped>\n",
              "    .dataframe tbody tr th:only-of-type {\n",
              "        vertical-align: middle;\n",
              "    }\n",
              "\n",
              "    .dataframe tbody tr th {\n",
              "        vertical-align: top;\n",
              "    }\n",
              "\n",
              "    .dataframe thead th {\n",
              "        text-align: right;\n",
              "    }\n",
              "</style>\n",
              "<table border=\"1\" class=\"dataframe\">\n",
              "  <thead>\n",
              "    <tr style=\"text-align: right;\">\n",
              "      <th></th>\n",
              "      <th>Unnamed: 0</th>\n",
              "      <th>pixel0</th>\n",
              "      <th>pixel1</th>\n",
              "      <th>pixel2</th>\n",
              "      <th>pixel3</th>\n",
              "      <th>pixel4</th>\n",
              "      <th>pixel5</th>\n",
              "      <th>pixel6</th>\n",
              "      <th>pixel7</th>\n",
              "      <th>pixel8</th>\n",
              "      <th>pixel9</th>\n",
              "      <th>pixel10</th>\n",
              "      <th>pixel11</th>\n",
              "      <th>pixel12</th>\n",
              "      <th>pixel13</th>\n",
              "      <th>pixel14</th>\n",
              "      <th>pixel15</th>\n",
              "      <th>pixel16</th>\n",
              "      <th>pixel17</th>\n",
              "      <th>pixel18</th>\n",
              "      <th>pixel19</th>\n",
              "      <th>pixel20</th>\n",
              "      <th>pixel21</th>\n",
              "      <th>pixel22</th>\n",
              "      <th>pixel23</th>\n",
              "      <th>pixel24</th>\n",
              "      <th>pixel25</th>\n",
              "      <th>pixel26</th>\n",
              "      <th>pixel27</th>\n",
              "      <th>pixel28</th>\n",
              "      <th>pixel29</th>\n",
              "      <th>pixel30</th>\n",
              "      <th>pixel31</th>\n",
              "      <th>pixel32</th>\n",
              "      <th>pixel33</th>\n",
              "      <th>pixel34</th>\n",
              "      <th>pixel35</th>\n",
              "      <th>pixel36</th>\n",
              "      <th>pixel37</th>\n",
              "      <th>pixel38</th>\n",
              "      <th>...</th>\n",
              "      <th>pixel744</th>\n",
              "      <th>pixel745</th>\n",
              "      <th>pixel746</th>\n",
              "      <th>pixel747</th>\n",
              "      <th>pixel748</th>\n",
              "      <th>pixel749</th>\n",
              "      <th>pixel750</th>\n",
              "      <th>pixel751</th>\n",
              "      <th>pixel752</th>\n",
              "      <th>pixel753</th>\n",
              "      <th>pixel754</th>\n",
              "      <th>pixel755</th>\n",
              "      <th>pixel756</th>\n",
              "      <th>pixel757</th>\n",
              "      <th>pixel758</th>\n",
              "      <th>pixel759</th>\n",
              "      <th>pixel760</th>\n",
              "      <th>pixel761</th>\n",
              "      <th>pixel762</th>\n",
              "      <th>pixel763</th>\n",
              "      <th>pixel764</th>\n",
              "      <th>pixel765</th>\n",
              "      <th>pixel766</th>\n",
              "      <th>pixel767</th>\n",
              "      <th>pixel768</th>\n",
              "      <th>pixel769</th>\n",
              "      <th>pixel770</th>\n",
              "      <th>pixel771</th>\n",
              "      <th>pixel772</th>\n",
              "      <th>pixel773</th>\n",
              "      <th>pixel774</th>\n",
              "      <th>pixel775</th>\n",
              "      <th>pixel776</th>\n",
              "      <th>pixel777</th>\n",
              "      <th>pixel778</th>\n",
              "      <th>pixel779</th>\n",
              "      <th>pixel780</th>\n",
              "      <th>pixel781</th>\n",
              "      <th>pixel782</th>\n",
              "      <th>pixel783</th>\n",
              "    </tr>\n",
              "  </thead>\n",
              "  <tbody>\n",
              "    <tr>\n",
              "      <th>0</th>\n",
              "      <td>57808</td>\n",
              "      <td>0</td>\n",
              "      <td>0</td>\n",
              "      <td>0</td>\n",
              "      <td>0</td>\n",
              "      <td>0</td>\n",
              "      <td>0</td>\n",
              "      <td>0</td>\n",
              "      <td>0</td>\n",
              "      <td>0</td>\n",
              "      <td>0</td>\n",
              "      <td>0</td>\n",
              "      <td>0</td>\n",
              "      <td>0</td>\n",
              "      <td>0</td>\n",
              "      <td>0</td>\n",
              "      <td>0</td>\n",
              "      <td>0</td>\n",
              "      <td>0</td>\n",
              "      <td>0</td>\n",
              "      <td>0</td>\n",
              "      <td>0</td>\n",
              "      <td>0</td>\n",
              "      <td>0</td>\n",
              "      <td>0</td>\n",
              "      <td>0</td>\n",
              "      <td>0</td>\n",
              "      <td>0</td>\n",
              "      <td>0</td>\n",
              "      <td>0</td>\n",
              "      <td>0</td>\n",
              "      <td>0</td>\n",
              "      <td>0</td>\n",
              "      <td>0</td>\n",
              "      <td>0</td>\n",
              "      <td>0</td>\n",
              "      <td>0</td>\n",
              "      <td>0</td>\n",
              "      <td>0</td>\n",
              "      <td>0</td>\n",
              "      <td>...</td>\n",
              "      <td>0</td>\n",
              "      <td>0</td>\n",
              "      <td>0</td>\n",
              "      <td>0</td>\n",
              "      <td>0</td>\n",
              "      <td>0</td>\n",
              "      <td>0</td>\n",
              "      <td>0</td>\n",
              "      <td>0</td>\n",
              "      <td>0</td>\n",
              "      <td>0</td>\n",
              "      <td>0</td>\n",
              "      <td>0</td>\n",
              "      <td>0</td>\n",
              "      <td>0</td>\n",
              "      <td>0</td>\n",
              "      <td>0</td>\n",
              "      <td>0</td>\n",
              "      <td>0</td>\n",
              "      <td>0</td>\n",
              "      <td>0</td>\n",
              "      <td>0</td>\n",
              "      <td>0</td>\n",
              "      <td>0</td>\n",
              "      <td>0</td>\n",
              "      <td>0</td>\n",
              "      <td>0</td>\n",
              "      <td>0</td>\n",
              "      <td>0</td>\n",
              "      <td>0</td>\n",
              "      <td>0</td>\n",
              "      <td>0</td>\n",
              "      <td>0</td>\n",
              "      <td>0</td>\n",
              "      <td>0</td>\n",
              "      <td>0</td>\n",
              "      <td>0</td>\n",
              "      <td>0</td>\n",
              "      <td>0</td>\n",
              "      <td>0</td>\n",
              "    </tr>\n",
              "  </tbody>\n",
              "</table>\n",
              "<p>1 rows × 785 columns</p>\n",
              "</div>"
            ],
            "text/plain": [
              "   Unnamed: 0  pixel0  pixel1  pixel2  ...  pixel780  pixel781  pixel782  pixel783\n",
              "0       57808       0       0       0  ...         0         0         0         0\n",
              "\n",
              "[1 rows x 785 columns]"
            ]
          },
          "metadata": {
            "tags": []
          },
          "execution_count": 7
        }
      ]
    },
    {
      "cell_type": "markdown",
      "metadata": {
        "id": "6nyYCChLhW0O"
      },
      "source": [
        "제출용 데이터에도 Unnamed:0 이라는 인덱스 데이터가 있는 것을 볼 수 있다."
      ]
    },
    {
      "cell_type": "code",
      "metadata": {
        "id": "Wk97Y25thScr"
      },
      "source": [
        "# 데이터 분할\n",
        "X = train_data.drop('label', axis=1).values\n",
        "y = train_data['label'].values\n",
        "\n",
        "Xt = test_data.iloc[:, 1:].values"
      ],
      "execution_count": 43,
      "outputs": []
    },
    {
      "cell_type": "code",
      "metadata": {
        "colab": {
          "base_uri": "https://localhost:8080/",
          "height": 94
        },
        "id": "aXhH0JMfhj9j",
        "outputId": "736abeb6-1a32-4b17-acb7-7444a24cbf55"
      },
      "source": [
        "# 체크\n",
        "\n",
        "pltsize = 1\n",
        "plt.figure(figsize = (10 * pltsize, pltsize))\n",
        "\n",
        "for i in range(10):\n",
        "  plt.subplot(1, 10, i + 1)\n",
        "  plt.axis('off')\n",
        "  plt.imshow(X[i].reshape(28, 28), cmap='gray')\n",
        "  plt.title(f\"class : {y[i]}\")"
      ],
      "execution_count": null,
      "outputs": [
        {
          "output_type": "display_data",
          "data": {
            "image/png": "[encoded data removed]",
            "text/plain": [
              "<Figure size 720x72 with 10 Axes>"
            ]
          },
          "metadata": {
            "tags": [],
            "needs_background": "light"
          }
        }
      ]
    },
    {
      "cell_type": "markdown",
      "metadata": {
        "id": "zXaGWkABiv5K"
      },
      "source": [
        "# Pytorch\n",
        "\n",
        "파이토치를 이용해서 과제를 수행해 보았다."
      ]
    },
    {
      "cell_type": "code",
      "metadata": {
        "id": "hmx45_78iZS_"
      },
      "source": [
        "# 패키지 임포트\n",
        "import torch\n",
        "import torch.nn as nn\n",
        "import torch.nn.functional as F\n",
        "from torchvision import transforms, datasets"
      ],
      "execution_count": 10,
      "outputs": []
    },
    {
      "cell_type": "code",
      "metadata": {
        "id": "iLy4N2MExwJf"
      },
      "source": [
        "# TPU사용시 임포트\n",
        "# import torch_xla\n",
        "# import torch_xla.core.xla_model as xm"
      ],
      "execution_count": 11,
      "outputs": []
    },
    {
      "cell_type": "code",
      "metadata": {
        "id": "6lNcEZHSzCk9"
      },
      "source": [
        "# TPU를 DEVICE에 설정\n",
        "# DEVICE = xm.xla_device()"
      ],
      "execution_count": 12,
      "outputs": []
    },
    {
      "cell_type": "code",
      "metadata": {
        "id": "LUzrV4eIi-85"
      },
      "source": [
        "# 하이퍼파라미터 설정\n",
        "DEVICE = 'cuda' if torch.cuda.is_available() else 'cpu'\n",
        "BATCH_SIZE = 32\n",
        "EPOCHS=50"
      ],
      "execution_count": 13,
      "outputs": []
    },
    {
      "cell_type": "code",
      "metadata": {
        "id": "NnnJvF4yjHZQ"
      },
      "source": [
        "print(f\"Using {DEVICE} on train & evauation\")"
      ],
      "execution_count": null,
      "outputs": []
    },
    {
      "cell_type": "markdown",
      "metadata": {
        "id": "aBWR0iZi60Ur"
      },
      "source": [
        "### 데이터 증강\n",
        "\n",
        "데이터에 특정 연산을 가해서 데이터의 수를 증가시키는 방법이다.\n",
        "\n",
        "학습용 데이터에 적용된 변형은 다음과 같다.\n",
        "- Normalize : 평균과 표준편차를 각각 0.5로 정규화했다.\n",
        "- RandomRotation : 이미지에 랜덤하게 45도 회전을 가한다.\n",
        "- RandomAffine : 이미지에 랜덤하게 어파인 변형을 가한다. 어파인 변형이란, 데이터의 이동, 회전, 크기 변환을 모두 포함한다.\n",
        "\n",
        "어파인 변형의 표현식은 다음 식이다.\n",
        "![어파인](https://t1.daumcdn.net/cfile/tistory/254B523951D959D702)"
      ]
    },
    {
      "cell_type": "code",
      "metadata": {
        "id": "IT-8L_zKjIDM"
      },
      "source": [
        "# 데이터 증강을 위해 trans 정의\n",
        "train_trans = transforms.Compose([\n",
        "                            transforms.Resize(224),\n",
        "                            transforms.RandomAffine(degrees=45, translate=(0.1, 0.1), scale=(0.8, 1.2)),\n",
        "                            transforms.RandomRotation(degrees=45),\n",
        "                            transforms.Normalize(mean=(0.5,), std=(0.5,))\n",
        "\n",
        "])\n",
        "\n",
        "\n",
        "val_trans = transforms.Compose([\n",
        "                            transforms.Resize(224),\n",
        "                            transforms.Normalize(mean=(0.5,), std=(0.5,))\n",
        "\n",
        "])"
      ],
      "execution_count": 14,
      "outputs": []
    },
    {
      "cell_type": "markdown",
      "metadata": {
        "id": "KX5sPbj7AQQd"
      },
      "source": [
        "데이터셋을 25퍼센트의 비중으로 분리한다."
      ]
    },
    {
      "cell_type": "code",
      "metadata": {
        "id": "3mml-H0EwHVC"
      },
      "source": [
        "from sklearn.model_selection import train_test_split\n",
        "X_train, X_val, y_train, y_val = train_test_split(X, y, test_size = 0.25, random_state=42)"
      ],
      "execution_count": 47,
      "outputs": []
    },
    {
      "cell_type": "code",
      "metadata": {
        "id": "nPDVIl9MvN2q"
      },
      "source": [
        "class MyDataset(torch.utils.data.Dataset):\n",
        "    def __init__(self, data, target, transform=None):\n",
        "        self.data = torch.from_numpy(data).float()\n",
        "        self.target = torch.from_numpy(target).long()\n",
        "        self.transform = transform\n",
        "        \n",
        "    def __getitem__(self, index):\n",
        "        x = self.data[index]\n",
        "        y = self.target[index]\n",
        "        \n",
        "        if self.transform:\n",
        "            x = self.transform(x)\n",
        "        \n",
        "        return x, y\n",
        "    \n",
        "    def __len__(self):\n",
        "        return len(self.data)"
      ],
      "execution_count": 15,
      "outputs": []
    },
    {
      "cell_type": "markdown",
      "metadata": {
        "id": "Hk2CyfY-ATVd"
      },
      "source": [
        "데이터 증강을 정의한 데이터로더를 정의한다."
      ]
    },
    {
      "cell_type": "code",
      "metadata": {
        "id": "QaGfzvDKtHAW"
      },
      "source": [
        "# 데이터를 입력하는 DataLoader 정의\n",
        "train_dataset = MyDataset(X_train.reshape(-1, 1, 28, 28), y_train, train_trans)\n",
        "train_dataloader = torch.utils.data.DataLoader(train_dataset, batch_size=BATCH_SIZE, shuffle=True)\n",
        "\n",
        "val_dataset = MyDataset(X_val.reshape(-1, 1, 28, 28), y_val, val_trans)\n",
        "val_dataloader = torch.utils.data.DataLoader(val_dataset, batch_size=BATCH_SIZE, shuffle=False)"
      ],
      "execution_count": 10,
      "outputs": []
    },
    {
      "cell_type": "code",
      "metadata": {
        "colab": {
          "base_uri": "https://localhost:8080/",
          "height": 111
        },
        "id": "rvx0_w1vwhEM",
        "outputId": "365de40c-ef39-42e1-8e89-a7159670d07c"
      },
      "source": [
        "# Augmentation 된 데이터를 확인한다.\n",
        "for x, y in train_dataloader:\n",
        "\n",
        "  print(f\"x : {x.shape}, y: {y.shape}\")\n",
        "  pltsize = 1\n",
        "  plt.figure(figsize = (10 * pltsize, pltsize))\n",
        "\n",
        "  for i in range(10):\n",
        "    plt.subplot(1, 10, i + 1)\n",
        "    plt.axis('off')\n",
        "    plt.imshow(x[i].reshape(224, 224), cmap='gray')\n",
        "    plt.title(f\"class : {y[i]}\")\n",
        "\n",
        "  \n",
        "  break"
      ],
      "execution_count": 16,
      "outputs": [
        {
          "output_type": "stream",
          "text": [
            "x : torch.Size([32, 1, 224, 224]), y: torch.Size([32])\n"
          ],
          "name": "stdout"
        },
        {
          "output_type": "display_data",
          "data": {
            "image/png": "[encoded data removed]",
            "text/plain": [
              "<Figure size 720x72 with 10 Axes>"
            ]
          },
          "metadata": {
            "tags": [],
            "needs_background": "light"
          }
        }
      ]
    },
    {
      "cell_type": "markdown",
      "metadata": {
        "id": "9L80CT6Dqv7v"
      },
      "source": [
        "## 전이학습 실시\n",
        "\n",
        "이미 학습된 유명한 모델의 가중치를 가져와서 훈련하면 높은 훈련 정확도를 달성할 수 있다.\n",
        "\n",
        "### 학습 결과 모델별 정확도는 다음과 같았다.\n",
        "- vgg16 : 98%\n",
        "- denseNet(resNet의 확장) : 95%\n",
        "- vgg19 + Batch Normalization + Image augmentation : 99.2%"
      ]
    },
    {
      "cell_type": "code",
      "metadata": {
        "id": "XUKIwcL7oVZ1"
      },
      "source": [
        "import torchvision.models"
      ],
      "execution_count": 6,
      "outputs": []
    },
    {
      "cell_type": "markdown",
      "metadata": {
        "id": "IApCvuoMApRa"
      },
      "source": [
        "VGG19 모델을 불러와 사용했다."
      ]
    },
    {
      "cell_type": "code",
      "metadata": {
        "id": "ONuh0sqEq7LK",
        "colab": {
          "base_uri": "https://localhost:8080/",
          "height": 103,
          "referenced_widgets": [
            "7b79d81fddb345ffa0352af5aa939e6c",
            "aea0a9714aaa436cb58a8a2be6064ec4",
            "067d38ad1f204152971af4472a870ab0",
            "f4fa38f02b98498c8a99801e415cf7ba",
            "3294b02a192a4cbe80776d6e734acba9",
            "7df31821ac2c44eb9686ce5420e71914",
            "8283061912f84732a86011896381fe88",
            "78248f21eec54c5fb9300d852d50160b"
          ]
        },
        "outputId": "c4fc11a1-157a-4a9a-da3f-b3879a97d07b"
      },
      "source": [
        "model = torchvision.models.vgg19(pretrained=True)\n",
        "for param in model.parameters():\n",
        "  param.requires_grad = False # 학습 불가 상태로 맞춤"
      ],
      "execution_count": 7,
      "outputs": [
        {
          "output_type": "stream",
          "text": [
            "Downloading: \"https://download.pytorch.org/models/vgg19-dcbb9e9d.pth\" to /root/.cache/torch/hub/checkpoints/vgg19-dcbb9e9d.pth\n"
          ],
          "name": "stderr"
        },
        {
          "output_type": "display_data",
          "data": {
            "application/vnd.jupyter.widget-view+json": {
              "model_id": "7b79d81fddb345ffa0352af5aa939e6c",
              "version_minor": 0,
              "version_major": 2
            },
            "text/plain": [
              "HBox(children=(FloatProgress(value=0.0, max=574673361.0), HTML(value='')))"
            ]
          },
          "metadata": {
            "tags": []
          }
        },
        {
          "output_type": "stream",
          "text": [
            "\n"
          ],
          "name": "stdout"
        }
      ]
    },
    {
      "cell_type": "code",
      "metadata": {
        "id": "5LbQneVTn7SU"
      },
      "source": [
        "model.classifier = nn.Sequential(\n",
        "    nn.Linear(in_features=25088, out_features=4096, bias=True),\n",
        "    nn.BatchNorm1d(4096),\n",
        "    nn.ReLU(inplace=True),\n",
        "    nn.Linear(in_features=4096, out_features=4096, bias=True),\n",
        "    nn.BatchNorm1d(4096),\n",
        "    nn.ReLU(inplace=True),\n",
        "    nn.Linear(in_features=4096, out_features=10, bias=True),\n",
        ")"
      ],
      "execution_count": 16,
      "outputs": []
    },
    {
      "cell_type": "code",
      "metadata": {
        "id": "1JxYK116a8vs"
      },
      "source": [
        "stacked_model = nn.Sequential(\n",
        "    nn.Conv2d(1, 3, kernel_size=(3, 3), stride=(1, 1), padding=(1, 1), bias=False),\n",
        "    nn.BatchNorm2d(3, eps=1e-05, momentum=0.1, affine=True, track_running_stats=True),\n",
        "    nn.ReLU(inplace=True),\n",
        "    model\n",
        ")"
      ],
      "execution_count": 17,
      "outputs": []
    },
    {
      "cell_type": "markdown",
      "metadata": {
        "id": "VXS_KRjtAiYx"
      },
      "source": [
        "가중치 초기화도 적용해 보았으나, 적용하지 않은 경우에 비해 성능이 1%정도 하락하는 경향이 있어서 이번에는 사용하지 않았다."
      ]
    },
    {
      "cell_type": "code",
      "metadata": {
        "id": "CsGPFyi2Tknp"
      },
      "source": [
        "# # 적용하지 않는게 살짝 높게 나오는 경향이 있어서 적용하지 않음.\n",
        "# import torch.nn.init as init\n",
        "# def weight_init(m):\n",
        "#   if isinstance(m, nn.Linear):\n",
        "#     init.kaiming_uniform_(m.weight.data)\n",
        "\n",
        "# stacked_model.apply"
      ],
      "execution_count": 16,
      "outputs": []
    },
    {
      "cell_type": "code",
      "metadata": {
        "colab": {
          "base_uri": "https://localhost:8080/"
        },
        "id": "GgltdbOgLF4a",
        "outputId": "f19a3553-ca56-4334-9b48-9d47f7644c1e"
      },
      "source": [
        "# 미리 학습된 모델 불러오기 (이어하기)\n",
        "stacked_model.load_state_dict(torch.load(\"/content/drive/MyDrive/trained_model/kannada_MNIST2.pt\"))"
      ],
      "execution_count": 44,
      "outputs": [
        {
          "output_type": "execute_result",
          "data": {
            "text/plain": [
              "<All keys matched successfully>"
            ]
          },
          "metadata": {
            "tags": []
          },
          "execution_count": 44
        }
      ]
    },
    {
      "cell_type": "code",
      "metadata": {
        "colab": {
          "base_uri": "https://localhost:8080/"
        },
        "id": "GxLUEt-GrWPZ",
        "outputId": "ca4e51f0-2530-4543-e3f3-1cbf9d2aa277"
      },
      "source": [
        "stacked_model.to(DEVICE)"
      ],
      "execution_count": 18,
      "outputs": [
        {
          "output_type": "execute_result",
          "data": {
            "text/plain": [
              "Sequential(\n",
              "  (0): Conv2d(1, 3, kernel_size=(3, 3), stride=(1, 1), padding=(1, 1), bias=False)\n",
              "  (1): BatchNorm2d(3, eps=1e-05, momentum=0.1, affine=True, track_running_stats=True)\n",
              "  (2): ReLU(inplace=True)\n",
              "  (3): VGG(\n",
              "    (features): Sequential(\n",
              "      (0): Conv2d(3, 64, kernel_size=(3, 3), stride=(1, 1), padding=(1, 1))\n",
              "      (1): ReLU(inplace=True)\n",
              "      (2): Conv2d(64, 64, kernel_size=(3, 3), stride=(1, 1), padding=(1, 1))\n",
              "      (3): ReLU(inplace=True)\n",
              "      (4): MaxPool2d(kernel_size=2, stride=2, padding=0, dilation=1, ceil_mode=False)\n",
              "      (5): Conv2d(64, 128, kernel_size=(3, 3), stride=(1, 1), padding=(1, 1))\n",
              "      (6): ReLU(inplace=True)\n",
              "      (7): Conv2d(128, 128, kernel_size=(3, 3), stride=(1, 1), padding=(1, 1))\n",
              "      (8): ReLU(inplace=True)\n",
              "      (9): MaxPool2d(kernel_size=2, stride=2, padding=0, dilation=1, ceil_mode=False)\n",
              "      (10): Conv2d(128, 256, kernel_size=(3, 3), stride=(1, 1), padding=(1, 1))\n",
              "      (11): ReLU(inplace=True)\n",
              "      (12): Conv2d(256, 256, kernel_size=(3, 3), stride=(1, 1), padding=(1, 1))\n",
              "      (13): ReLU(inplace=True)\n",
              "      (14): Conv2d(256, 256, kernel_size=(3, 3), stride=(1, 1), padding=(1, 1))\n",
              "      (15): ReLU(inplace=True)\n",
              "      (16): Conv2d(256, 256, kernel_size=(3, 3), stride=(1, 1), padding=(1, 1))\n",
              "      (17): ReLU(inplace=True)\n",
              "      (18): MaxPool2d(kernel_size=2, stride=2, padding=0, dilation=1, ceil_mode=False)\n",
              "      (19): Conv2d(256, 512, kernel_size=(3, 3), stride=(1, 1), padding=(1, 1))\n",
              "      (20): ReLU(inplace=True)\n",
              "      (21): Conv2d(512, 512, kernel_size=(3, 3), stride=(1, 1), padding=(1, 1))\n",
              "      (22): ReLU(inplace=True)\n",
              "      (23): Conv2d(512, 512, kernel_size=(3, 3), stride=(1, 1), padding=(1, 1))\n",
              "      (24): ReLU(inplace=True)\n",
              "      (25): Conv2d(512, 512, kernel_size=(3, 3), stride=(1, 1), padding=(1, 1))\n",
              "      (26): ReLU(inplace=True)\n",
              "      (27): MaxPool2d(kernel_size=2, stride=2, padding=0, dilation=1, ceil_mode=False)\n",
              "      (28): Conv2d(512, 512, kernel_size=(3, 3), stride=(1, 1), padding=(1, 1))\n",
              "      (29): ReLU(inplace=True)\n",
              "      (30): Conv2d(512, 512, kernel_size=(3, 3), stride=(1, 1), padding=(1, 1))\n",
              "      (31): ReLU(inplace=True)\n",
              "      (32): Conv2d(512, 512, kernel_size=(3, 3), stride=(1, 1), padding=(1, 1))\n",
              "      (33): ReLU(inplace=True)\n",
              "      (34): Conv2d(512, 512, kernel_size=(3, 3), stride=(1, 1), padding=(1, 1))\n",
              "      (35): ReLU(inplace=True)\n",
              "      (36): MaxPool2d(kernel_size=2, stride=2, padding=0, dilation=1, ceil_mode=False)\n",
              "    )\n",
              "    (avgpool): AdaptiveAvgPool2d(output_size=(7, 7))\n",
              "    (classifier): Sequential(\n",
              "      (0): Linear(in_features=25088, out_features=4096, bias=True)\n",
              "      (1): BatchNorm1d(4096, eps=1e-05, momentum=0.1, affine=True, track_running_stats=True)\n",
              "      (2): ReLU(inplace=True)\n",
              "      (3): Linear(in_features=4096, out_features=4096, bias=True)\n",
              "      (4): BatchNorm1d(4096, eps=1e-05, momentum=0.1, affine=True, track_running_stats=True)\n",
              "      (5): ReLU(inplace=True)\n",
              "      (6): Linear(in_features=4096, out_features=10, bias=True)\n",
              "    )\n",
              "  )\n",
              ")"
            ]
          },
          "metadata": {
            "tags": []
          },
          "execution_count": 18
        }
      ]
    },
    {
      "cell_type": "code",
      "metadata": {
        "id": "EkN7zu68soZo"
      },
      "source": [
        "optimizer = torch.optim.Adam(stacked_model.parameters(), lr = 0.01)\n",
        "criterion = nn.CrossEntropyLoss()"
      ],
      "execution_count": 17,
      "outputs": []
    },
    {
      "cell_type": "code",
      "metadata": {
        "id": "pQ9fPZ1NzWcS"
      },
      "source": [
        "def train(model, train_loader, optimizer, log_interval):\n",
        "  model.train()\n",
        "  for batch_idx, (image, label) in enumerate(train_loader):\n",
        "    image = image.to(DEVICE)\n",
        "    label = label.to(DEVICE)\n",
        "    optimizer.zero_grad()\n",
        "\n",
        "    output = model(image)\n",
        "    loss = criterion(output, label)\n",
        "    loss.backward()\n",
        "    optimizer.step()\n",
        "\n",
        "    if batch_idx % log_interval == 0:\n",
        "      print(f\"Epoch: {Epoch} Data: [{batch_idx * len(image)} / {len(train_loader.dataset)}] Loss: {loss.item():0.6f}\")\n",
        "  "
      ],
      "execution_count": 27,
      "outputs": []
    },
    {
      "cell_type": "code",
      "metadata": {
        "id": "B5WQHdQZ1O86"
      },
      "source": [
        "def evaluate(model, test_loader, best_accuracy):\n",
        "  model.eval()\n",
        "  test_loss = 0\n",
        "  correct = 0\n",
        "  \n",
        "\n",
        "  with torch.no_grad():\n",
        "    for image, label in test_loader:\n",
        "      image = image.to(DEVICE)\n",
        "      label = label.to(DEVICE)\n",
        "\n",
        "      output= model(image)\n",
        "      test_loss += criterion(output, label).item()\n",
        "      prediction = output.max(1, keepdim=True)[1]\n",
        "      correct += prediction.eq(label.view_as(prediction)).sum().item()\n",
        "\n",
        "  test_loss /= len(test_loader.dataset)\n",
        "  test_accuracy = 100 * correct / len(test_loader.dataset)\n",
        "\n",
        "  \n",
        "  if best_accuracy == None or test_accuracy >= best_accuracy:\n",
        "    torch.save(model.state_dict(), \"/content/drive/MyDrive/trained_model/kannada_MNIST2.pt\")\n",
        "    best_accuracy = test_accuracy\n",
        "    print(\"Model saved\")\n",
        "  test_acc.append(test_accuracy)\n",
        "  test_ls.append(test_loss)\n",
        "\n",
        "  print(f\"Test Epoch: {Epoch} Accuracy: {test_accuracy:0.6f}, Loss: {test_loss:.6f}\")\n",
        "\n",
        "  return best_accuracy"
      ],
      "execution_count": 28,
      "outputs": []
    },
    {
      "cell_type": "markdown",
      "metadata": {
        "id": "SD-9bHM6A_lk"
      },
      "source": [
        "### 학습률 감소\n",
        "learning rate decay를 사용하여, 5에폭 학습시마다 학습률에 0.1을 곱해 감소시켰다."
      ]
    },
    {
      "cell_type": "code",
      "metadata": {
        "id": "6G4RvsNmkkS6"
      },
      "source": [
        "from torch.optim import lr_scheduler\n",
        "exp_lr_scheduler = lr_scheduler.StepLR(optimizer, step_size=5, gamma=0.1)"
      ],
      "execution_count": 62,
      "outputs": []
    },
    {
      "cell_type": "code",
      "metadata": {
        "id": "5bBlo7ewiGc5"
      },
      "source": [
        "test_acc = []\n",
        "test_ls = []\n",
        "best_accuracy = 0\n"
      ],
      "execution_count": 62,
      "outputs": []
    },
    {
      "cell_type": "code",
      "metadata": {
        "id": "_La87Mj9oPx3"
      },
      "source": [
        "for Epoch in range(1, EPOCHS+1):\n",
        "  train(stacked_model, train_dataloader, optimizer, 100)\n",
        "  best_accuracy = evaluate(stacked_model, val_dataloader, best_accuracy)\n",
        "  exp_lr_scheduler.step()"
      ],
      "execution_count": null,
      "outputs": []
    },
    {
      "cell_type": "markdown",
      "metadata": {
        "id": "_aSuD40ZBfEY"
      },
      "source": [
        "### 제출용 데이터 생성 및 확인"
      ]
    },
    {
      "cell_type": "code",
      "metadata": {
        "id": "-tmZXcgW2MRL"
      },
      "source": [
        "test_dataset = MyDataset((Xt).reshape(-1, 1, 28, 28), y_train, val_trans)\n",
        "test_dataloader = torch.utils.data.DataLoader(test_dataset, batch_size=128, shuffle=False)"
      ],
      "execution_count": 89,
      "outputs": []
    },
    {
      "cell_type": "code",
      "metadata": {
        "id": "QLdXyq2a8vOG"
      },
      "source": [
        "output = None\n",
        "model.eval()\n",
        "with torch.no_grad():\n",
        "    for image, label in test_dataloader:\n",
        "      image = image.to(DEVICE)\n",
        "      if output is None:\n",
        "        output = torch.argmax(stacked_model(image), dim=1).cpu().numpy()\n",
        "      else:\n",
        "        output = np.concatenate([output, torch.argmax(stacked_model(image), dim=1).cpu().numpy()], axis=0)\n"
      ],
      "execution_count": 57,
      "outputs": []
    },
    {
      "cell_type": "code",
      "metadata": {
        "colab": {
          "base_uri": "https://localhost:8080/"
        },
        "id": "9sApmakYTon4",
        "outputId": "4e67414d-5248-4690-8d44-fdba3e158250"
      },
      "source": [
        "output"
      ],
      "execution_count": 50,
      "outputs": [
        {
          "output_type": "execute_result",
          "data": {
            "text/plain": [
              "array([8, 0, 5, ..., 3, 4, 1])"
            ]
          },
          "metadata": {
            "tags": []
          },
          "execution_count": 50
        }
      ]
    },
    {
      "cell_type": "code",
      "metadata": {
        "id": "Lx4IYK3c9lh4"
      },
      "source": [
        "table = pd.DataFrame({'id': test_data.iloc[:, 0], 'Category': output})\n",
        "# table\n",
        "table.to_csv('/content/drive/MyDrive/answer.csv', index=False)"
      ],
      "execution_count": 58,
      "outputs": []
    },
    {
      "cell_type": "markdown",
      "metadata": {
        "id": "fxbiNJV4mc8_"
      },
      "source": [
        "# 학습 과정 플롯\n",
        "\n",
        "가장 정확도가 높았던 모델을 기준으로 학습 정확도를 표시해 보았다."
      ]
    },
    {
      "cell_type": "code",
      "metadata": {
        "id": "ZWC__s7r-qsJ",
        "colab": {
          "base_uri": "https://localhost:8080/",
          "height": 295
        },
        "outputId": "85c6c263-ee22-40ff-c1f1-3ecfcda55a43"
      },
      "source": [
        "plt.title(\"Test Accuracy\")\n",
        "plt.plot(np.arange(0,len(test_acc)), test_acc)\n",
        "plt.xlabel(\"train Epoch\")\n",
        "plt.ylabel(\"Accuracy\")\n",
        "plt.show()"
      ],
      "execution_count": null,
      "outputs": [
        {
          "output_type": "display_data",
          "data": {
            "image/png": "[encoded data removed]",
            "text/plain": [
              "<Figure size 432x288 with 1 Axes>"
            ]
          },
          "metadata": {
            "tags": [],
            "needs_background": "light"
          }
        }
      ]
    },
    {
      "cell_type": "code",
      "metadata": {
        "id": "HYIGlcEpBWe2",
        "colab": {
          "base_uri": "https://localhost:8080/",
          "height": 295
        },
        "outputId": "6b372b70-345e-4834-80e7-f8ffc2b30df5"
      },
      "source": [
        "plt.title(\"Test loss\")\n",
        "plt.plot(np.arange(0,len(test_ls)), test_ls)\n",
        "plt.xlabel(\"train Epoch\")\n",
        "plt.ylabel(\"loss\")\n",
        "plt.show()"
      ],
      "execution_count": null,
      "outputs": [
        {
          "output_type": "display_data",
          "data": {
            "image/png": "[encoded data removed]",
            "text/plain": [
              "<Figure size 432x288 with 1 Axes>"
            ]
          },
          "metadata": {
            "tags": [],
            "needs_background": "light"
          }
        }
      ]
    },
    {
      "cell_type": "markdown",
      "metadata": {
        "id": "9sZbEcekBpVF"
      },
      "source": [
        "### 나중을 위한 그래프 저장"
      ]
    },
    {
      "cell_type": "code",
      "metadata": {
        "id": "4KLkCTx7KV51"
      },
      "source": [
        "df = pd.read_csv('/content/drive/MyDrive/lossGraph.csv')"
      ],
      "execution_count": null,
      "outputs": []
    },
    {
      "cell_type": "code",
      "metadata": {
        "id": "goLcWGJumXTK"
      },
      "source": [
        "df = pd.DataFrame({'acc_vgg16_bn': test_acc, 'loss_vgg16_bn': test_ls})"
      ],
      "execution_count": null,
      "outputs": []
    },
    {
      "cell_type": "code",
      "metadata": {
        "id": "ii9OVycumvTX"
      },
      "source": [
        "# df.to_csv('/content/drive/MyDrive/lossGraph.csv', index=False)"
      ],
      "execution_count": null,
      "outputs": []
    },
    {
      "cell_type": "markdown",
      "metadata": {
        "id": "kk93eTL3atyH"
      },
      "source": [
        "# Pseudo Labeling\n",
        "\n",
        "정확도를 올리는 방법 중 하나로는 Pseudo Labeling 이 있다.\n",
        "\n",
        "Label이 없는 데이터에 충분히 학습된 모델을 이용해 Labeling을 수행한 뒤 이를 다시 학습 데이터에 넣어 학습을 수행한다."
      ]
    },
    {
      "cell_type": "code",
      "metadata": {
        "id": "HpZ6AEG4mwS7"
      },
      "source": [
        "def pseudo_train(model, train_loader, optimizer, test_dataloader, log_interval):\n",
        "  model.train()\n",
        "  for batch_idx, (image, label) in enumerate(train_loader):\n",
        "    image = image.to(DEVICE)\n",
        "    label = label.to(DEVICE)\n",
        "    optimizer.zero_grad()\n",
        "\n",
        "    output = model(image)\n",
        "    loss = criterion(output, label)\n",
        "    loss.backward()\n",
        "    optimizer.step()\n",
        "\n",
        "    if batch_idx % log_interval == 0:\n",
        "      print(f\"Epoch: {Epoch} Data: [{batch_idx * len(image)} / {len(train_loader.dataset)}] Loss: {loss.item():0.6f}\")\n",
        "\n",
        "  print(\"make pseudo_label\")\n",
        "  pseudo_output = None\n",
        "  model.eval()\n",
        "  with torch.no_grad():\n",
        "      for image, label in test_dataloader:\n",
        "        image = image.to(DEVICE)\n",
        "        if pseudo_output is None:\n",
        "          pseudo_output = torch.argmax(stacked_model(image), dim=1).cpu().numpy()\n",
        "        else:\n",
        "          pseudo_output = np.concatenate([pseudo_output, torch.argmax(stacked_model(image), dim=1).cpu().numpy()], axis=0)\n",
        "\n",
        "  pseudo_y = np.concatenate([y_train, pseudo_output], axis=0)\n",
        "\n",
        "  pseudo_dataset = MyDataset(pseudo_X.reshape(-1, 1, 28, 28), pseudo_y, train_trans)\n",
        "  pseudo_dataloader = torch.utils.data.DataLoader(pseudo_dataset, batch_size=BATCH_SIZE, shuffle=True)\n",
        "\n",
        "    \n",
        "  return pseudo_dataloader"
      ],
      "execution_count": 28,
      "outputs": []
    },
    {
      "cell_type": "code",
      "metadata": {
        "id": "VPuXDbCItzz2"
      },
      "source": [
        "BATCH_SIZE = 128\n",
        "EPOCHS = 20"
      ],
      "execution_count": 21,
      "outputs": []
    },
    {
      "cell_type": "markdown",
      "metadata": {
        "id": "VGxdp0P9Bto-"
      },
      "source": [
        "제출된 답안 파일을 pseudo-label로 사용한다. 정확도가 99% 이상이 나온 것이기 때문에 사용해도 문제 없다."
      ]
    },
    {
      "cell_type": "code",
      "metadata": {
        "id": "lGBR6C2kjnof"
      },
      "source": [
        "old_answer = pd.read_csv('/content/drive/MyDrive/answer.csv') # 99.2% 로 튜닝된 데이터 불러옴\n",
        "pseudo_label = old_answer['Category'].values"
      ],
      "execution_count": 22,
      "outputs": []
    },
    {
      "cell_type": "markdown",
      "metadata": {
        "id": "_WXYKgAWB0X4"
      },
      "source": [
        "원래는 따로 gradient 를 계산해야 하나, 메모리 부족 이슈가 발생하여 라벨링된 데이터와 의사라벨링 데이터의 비중을 같게 두었다.\n",
        "\n",
        "이렇게 되면, 두 배열을 concatenate 해서 하나의 데이터로더로 사용할 수 있게 된다."
      ]
    },
    {
      "cell_type": "code",
      "metadata": {
        "id": "7Kx8Pxwb_NNt"
      },
      "source": [
        "pseudo_X = np.concatenate([X_train, Xt], axis=0)\n",
        "pseudo_y = np.concatenate([y_train, pseudo_label], axis=0)"
      ],
      "execution_count": 23,
      "outputs": []
    },
    {
      "cell_type": "code",
      "metadata": {
        "id": "8ZGg91gkuCPG"
      },
      "source": [
        "pseudo_dataset = MyDataset(pseudo_X.reshape(-1, 1, 28, 28), pseudo_y, train_trans)\n",
        "pseudo_dataloader = torch.utils.data.DataLoader(pseudo_dataset, batch_size=BATCH_SIZE, shuffle=True)\n",
        "\n",
        "test_dataset = MyDataset((Xt).reshape(-1, 1, 28, 28), y_train, val_trans)\n",
        "test_dataloader = torch.utils.data.DataLoader(test_dataset, batch_size=BATCH_SIZE, shuffle=False)"
      ],
      "execution_count": 24,
      "outputs": []
    },
    {
      "cell_type": "code",
      "metadata": {
        "id": "eb8WoYJvr9Ts"
      },
      "source": [
        "poptimizer = torch.optim.Adam(stacked_model.parameters(), lr = 0.01)\n",
        "pcriterion = nn.CrossEntropyLoss()\n",
        "\n",
        "from torch.optim import lr_scheduler\n",
        "pexp_lr_scheduler = lr_scheduler.StepLR(poptimizer, step_size=5, gamma=0.1)"
      ],
      "execution_count": 25,
      "outputs": []
    },
    {
      "cell_type": "markdown",
      "metadata": {
        "id": "7kCuNhJICEbp"
      },
      "source": [
        "의사레이블 데이터까지 포함하여 학습을 진행했다.\n",
        "\n",
        "다른 방법은 모두 같기 때문에 이전에 작성했던 학습 함수에 데이터로더만 바꿔서 사용할 수 있다."
      ]
    },
    {
      "cell_type": "code",
      "metadata": {
        "id": "tBP-hRrvYs6A"
      },
      "source": [
        "test_acc = []\n",
        "test_ls = []\n",
        "best_accuracy = 0"
      ],
      "execution_count": 26,
      "outputs": []
    },
    {
      "cell_type": "code",
      "metadata": {
        "colab": {
          "base_uri": "https://localhost:8080/",
          "height": 970
        },
        "id": "T9ue7-NfrqNN",
        "outputId": "de3f314f-4408-4296-9e59-f8e08ecad9ab"
      },
      "source": [
        "for Epoch in range(1, EPOCHS+1):\n",
        "  pseudo_dataloader = pseudo_train(stacked_model, pseudo_dataloader, poptimizer, test_dataloader, 100)\n",
        "  best_accuracy = evaluate(stacked_model, val_dataloader, best_accuracy)\n",
        "  pexp_lr_scheduler.step()"
      ],
      "execution_count": 40,
      "outputs": [
        {
          "output_type": "stream",
          "text": [
            "Epoch: 1 Data: [0 / 49500] Loss: 0.006138\n",
            "Epoch: 1 Data: [12800 / 49500] Loss: 0.017869\n",
            "Epoch: 1 Data: [25600 / 49500] Loss: 0.018672\n",
            "Epoch: 1 Data: [38400 / 49500] Loss: 0.016310\n",
            "make pseudo_label\n",
            "Test Epoch: 1 Accuracy: 99.057143, Loss: 0.001037\n",
            "Epoch: 2 Data: [0 / 49500] Loss: 0.038815\n",
            "Epoch: 2 Data: [12800 / 49500] Loss: 0.025288\n",
            "Epoch: 2 Data: [25600 / 49500] Loss: 0.071264\n",
            "Epoch: 2 Data: [38400 / 49500] Loss: 0.026958\n",
            "make pseudo_label\n",
            "Test Epoch: 2 Accuracy: 99.038095, Loss: 0.001021\n",
            "Epoch: 3 Data: [0 / 49500] Loss: 0.017920\n",
            "Epoch: 3 Data: [12800 / 49500] Loss: 0.029265\n",
            "Epoch: 3 Data: [25600 / 49500] Loss: 0.007184\n",
            "Epoch: 3 Data: [38400 / 49500] Loss: 0.010651\n",
            "make pseudo_label\n",
            "Test Epoch: 3 Accuracy: 99.047619, Loss: 0.001058\n",
            "Epoch: 4 Data: [0 / 49500] Loss: 0.026349\n",
            "Epoch: 4 Data: [12800 / 49500] Loss: 0.003178\n",
            "Epoch: 4 Data: [25600 / 49500] Loss: 0.067224\n",
            "Epoch: 4 Data: [38400 / 49500] Loss: 0.046249\n",
            "make pseudo_label\n",
            "Test Epoch: 4 Accuracy: 99.009524, Loss: 0.001044\n",
            "Epoch: 5 Data: [0 / 49500] Loss: 0.033661\n",
            "Epoch: 5 Data: [12800 / 49500] Loss: 0.089304\n",
            "Epoch: 5 Data: [25600 / 49500] Loss: 0.028422\n",
            "Epoch: 5 Data: [38400 / 49500] Loss: 0.047375\n",
            "make pseudo_label\n",
            "Test Epoch: 5 Accuracy: 99.057143, Loss: 0.001050\n",
            "Epoch: 6 Data: [0 / 49500] Loss: 0.022905\n",
            "Epoch: 6 Data: [12800 / 49500] Loss: 0.078091\n",
            "Epoch: 6 Data: [25600 / 49500] Loss: 0.074883\n",
            "Epoch: 6 Data: [38400 / 49500] Loss: 0.023026\n",
            "make pseudo_label\n"
          ],
          "name": "stdout"
        },
        {
          "output_type": "error",
          "ename": "KeyboardInterrupt",
          "evalue": "ignored",
          "traceback": [
            "\u001b[0;31m---------------------------------------------------------------------------\u001b[0m",
            "\u001b[0;31mKeyboardInterrupt\u001b[0m                         Traceback (most recent call last)",
            "\u001b[0;32m<ipython-input-40-01ea6c9e533d>\u001b[0m in \u001b[0;36m<module>\u001b[0;34m()\u001b[0m\n\u001b[1;32m      1\u001b[0m \u001b[0;32mfor\u001b[0m \u001b[0mEpoch\u001b[0m \u001b[0;32min\u001b[0m \u001b[0mrange\u001b[0m\u001b[0;34m(\u001b[0m\u001b[0;36m1\u001b[0m\u001b[0;34m,\u001b[0m \u001b[0mEPOCHS\u001b[0m\u001b[0;34m+\u001b[0m\u001b[0;36m1\u001b[0m\u001b[0;34m)\u001b[0m\u001b[0;34m:\u001b[0m\u001b[0;34m\u001b[0m\u001b[0;34m\u001b[0m\u001b[0m\n\u001b[0;32m----> 2\u001b[0;31m   \u001b[0mpseudo_dataloader\u001b[0m \u001b[0;34m=\u001b[0m \u001b[0mpseudo_train\u001b[0m\u001b[0;34m(\u001b[0m\u001b[0mstacked_model\u001b[0m\u001b[0;34m,\u001b[0m \u001b[0mpseudo_dataloader\u001b[0m\u001b[0;34m,\u001b[0m \u001b[0mpoptimizer\u001b[0m\u001b[0;34m,\u001b[0m \u001b[0mtest_dataloader\u001b[0m\u001b[0;34m,\u001b[0m \u001b[0;36m100\u001b[0m\u001b[0;34m)\u001b[0m\u001b[0;34m\u001b[0m\u001b[0;34m\u001b[0m\u001b[0m\n\u001b[0m\u001b[1;32m      3\u001b[0m   \u001b[0mbest_accuracy\u001b[0m \u001b[0;34m=\u001b[0m \u001b[0mevaluate\u001b[0m\u001b[0;34m(\u001b[0m\u001b[0mstacked_model\u001b[0m\u001b[0;34m,\u001b[0m \u001b[0mval_dataloader\u001b[0m\u001b[0;34m,\u001b[0m \u001b[0mbest_accuracy\u001b[0m\u001b[0;34m)\u001b[0m\u001b[0;34m\u001b[0m\u001b[0;34m\u001b[0m\u001b[0m\n\u001b[1;32m      4\u001b[0m   \u001b[0mpexp_lr_scheduler\u001b[0m\u001b[0;34m.\u001b[0m\u001b[0mstep\u001b[0m\u001b[0;34m(\u001b[0m\u001b[0;34m)\u001b[0m\u001b[0;34m\u001b[0m\u001b[0;34m\u001b[0m\u001b[0m\n",
            "\u001b[0;32m<ipython-input-28-0b3425dc9e86>\u001b[0m in \u001b[0;36mpseudo_train\u001b[0;34m(model, train_loader, optimizer, test_dataloader, log_interval)\u001b[0m\n\u001b[1;32m     18\u001b[0m   \u001b[0mmodel\u001b[0m\u001b[0;34m.\u001b[0m\u001b[0meval\u001b[0m\u001b[0;34m(\u001b[0m\u001b[0;34m)\u001b[0m\u001b[0;34m\u001b[0m\u001b[0;34m\u001b[0m\u001b[0m\n\u001b[1;32m     19\u001b[0m   \u001b[0;32mwith\u001b[0m \u001b[0mtorch\u001b[0m\u001b[0;34m.\u001b[0m\u001b[0mno_grad\u001b[0m\u001b[0;34m(\u001b[0m\u001b[0;34m)\u001b[0m\u001b[0;34m:\u001b[0m\u001b[0;34m\u001b[0m\u001b[0;34m\u001b[0m\u001b[0m\n\u001b[0;32m---> 20\u001b[0;31m       \u001b[0;32mfor\u001b[0m \u001b[0mimage\u001b[0m\u001b[0;34m,\u001b[0m \u001b[0mlabel\u001b[0m \u001b[0;32min\u001b[0m \u001b[0mtest_dataloader\u001b[0m\u001b[0;34m:\u001b[0m\u001b[0;34m\u001b[0m\u001b[0;34m\u001b[0m\u001b[0m\n\u001b[0m\u001b[1;32m     21\u001b[0m         \u001b[0mimage\u001b[0m \u001b[0;34m=\u001b[0m \u001b[0mimage\u001b[0m\u001b[0;34m.\u001b[0m\u001b[0mto\u001b[0m\u001b[0;34m(\u001b[0m\u001b[0mDEVICE\u001b[0m\u001b[0;34m)\u001b[0m\u001b[0;34m\u001b[0m\u001b[0;34m\u001b[0m\u001b[0m\n\u001b[1;32m     22\u001b[0m         \u001b[0;32mif\u001b[0m \u001b[0mpseudo_output\u001b[0m \u001b[0;32mis\u001b[0m \u001b[0;32mNone\u001b[0m\u001b[0;34m:\u001b[0m\u001b[0;34m\u001b[0m\u001b[0;34m\u001b[0m\u001b[0m\n",
            "\u001b[0;32m/usr/local/lib/python3.7/dist-packages/torch/utils/data/dataloader.py\u001b[0m in \u001b[0;36m__next__\u001b[0;34m(self)\u001b[0m\n\u001b[1;32m    515\u001b[0m             \u001b[0;32mif\u001b[0m \u001b[0mself\u001b[0m\u001b[0;34m.\u001b[0m\u001b[0m_sampler_iter\u001b[0m \u001b[0;32mis\u001b[0m \u001b[0;32mNone\u001b[0m\u001b[0;34m:\u001b[0m\u001b[0;34m\u001b[0m\u001b[0;34m\u001b[0m\u001b[0m\n\u001b[1;32m    516\u001b[0m                 \u001b[0mself\u001b[0m\u001b[0;34m.\u001b[0m\u001b[0m_reset\u001b[0m\u001b[0;34m(\u001b[0m\u001b[0;34m)\u001b[0m\u001b[0;34m\u001b[0m\u001b[0;34m\u001b[0m\u001b[0m\n\u001b[0;32m--> 517\u001b[0;31m             \u001b[0mdata\u001b[0m \u001b[0;34m=\u001b[0m \u001b[0mself\u001b[0m\u001b[0;34m.\u001b[0m\u001b[0m_next_data\u001b[0m\u001b[0;34m(\u001b[0m\u001b[0;34m)\u001b[0m\u001b[0;34m\u001b[0m\u001b[0;34m\u001b[0m\u001b[0m\n\u001b[0m\u001b[1;32m    518\u001b[0m             \u001b[0mself\u001b[0m\u001b[0;34m.\u001b[0m\u001b[0m_num_yielded\u001b[0m \u001b[0;34m+=\u001b[0m \u001b[0;36m1\u001b[0m\u001b[0;34m\u001b[0m\u001b[0;34m\u001b[0m\u001b[0m\n\u001b[1;32m    519\u001b[0m             \u001b[0;32mif\u001b[0m \u001b[0mself\u001b[0m\u001b[0;34m.\u001b[0m\u001b[0m_dataset_kind\u001b[0m \u001b[0;34m==\u001b[0m \u001b[0m_DatasetKind\u001b[0m\u001b[0;34m.\u001b[0m\u001b[0mIterable\u001b[0m \u001b[0;32mand\u001b[0m\u001b[0;31m \u001b[0m\u001b[0;31m\\\u001b[0m\u001b[0;34m\u001b[0m\u001b[0;34m\u001b[0m\u001b[0m\n",
            "\u001b[0;32m/usr/local/lib/python3.7/dist-packages/torch/utils/data/dataloader.py\u001b[0m in \u001b[0;36m_next_data\u001b[0;34m(self)\u001b[0m\n\u001b[1;32m    555\u001b[0m     \u001b[0;32mdef\u001b[0m \u001b[0m_next_data\u001b[0m\u001b[0;34m(\u001b[0m\u001b[0mself\u001b[0m\u001b[0;34m)\u001b[0m\u001b[0;34m:\u001b[0m\u001b[0;34m\u001b[0m\u001b[0;34m\u001b[0m\u001b[0m\n\u001b[1;32m    556\u001b[0m         \u001b[0mindex\u001b[0m \u001b[0;34m=\u001b[0m \u001b[0mself\u001b[0m\u001b[0;34m.\u001b[0m\u001b[0m_next_index\u001b[0m\u001b[0;34m(\u001b[0m\u001b[0;34m)\u001b[0m  \u001b[0;31m# may raise StopIteration\u001b[0m\u001b[0;34m\u001b[0m\u001b[0;34m\u001b[0m\u001b[0m\n\u001b[0;32m--> 557\u001b[0;31m         \u001b[0mdata\u001b[0m \u001b[0;34m=\u001b[0m \u001b[0mself\u001b[0m\u001b[0;34m.\u001b[0m\u001b[0m_dataset_fetcher\u001b[0m\u001b[0;34m.\u001b[0m\u001b[0mfetch\u001b[0m\u001b[0;34m(\u001b[0m\u001b[0mindex\u001b[0m\u001b[0;34m)\u001b[0m  \u001b[0;31m# may raise StopIteration\u001b[0m\u001b[0;34m\u001b[0m\u001b[0;34m\u001b[0m\u001b[0m\n\u001b[0m\u001b[1;32m    558\u001b[0m         \u001b[0;32mif\u001b[0m \u001b[0mself\u001b[0m\u001b[0;34m.\u001b[0m\u001b[0m_pin_memory\u001b[0m\u001b[0;34m:\u001b[0m\u001b[0;34m\u001b[0m\u001b[0;34m\u001b[0m\u001b[0m\n\u001b[1;32m    559\u001b[0m             \u001b[0mdata\u001b[0m \u001b[0;34m=\u001b[0m \u001b[0m_utils\u001b[0m\u001b[0;34m.\u001b[0m\u001b[0mpin_memory\u001b[0m\u001b[0;34m.\u001b[0m\u001b[0mpin_memory\u001b[0m\u001b[0;34m(\u001b[0m\u001b[0mdata\u001b[0m\u001b[0;34m)\u001b[0m\u001b[0;34m\u001b[0m\u001b[0;34m\u001b[0m\u001b[0m\n",
            "\u001b[0;32m/usr/local/lib/python3.7/dist-packages/torch/utils/data/_utils/fetch.py\u001b[0m in \u001b[0;36mfetch\u001b[0;34m(self, possibly_batched_index)\u001b[0m\n\u001b[1;32m     42\u001b[0m     \u001b[0;32mdef\u001b[0m \u001b[0mfetch\u001b[0m\u001b[0;34m(\u001b[0m\u001b[0mself\u001b[0m\u001b[0;34m,\u001b[0m \u001b[0mpossibly_batched_index\u001b[0m\u001b[0;34m)\u001b[0m\u001b[0;34m:\u001b[0m\u001b[0;34m\u001b[0m\u001b[0;34m\u001b[0m\u001b[0m\n\u001b[1;32m     43\u001b[0m         \u001b[0;32mif\u001b[0m \u001b[0mself\u001b[0m\u001b[0;34m.\u001b[0m\u001b[0mauto_collation\u001b[0m\u001b[0;34m:\u001b[0m\u001b[0;34m\u001b[0m\u001b[0;34m\u001b[0m\u001b[0m\n\u001b[0;32m---> 44\u001b[0;31m             \u001b[0mdata\u001b[0m \u001b[0;34m=\u001b[0m \u001b[0;34m[\u001b[0m\u001b[0mself\u001b[0m\u001b[0;34m.\u001b[0m\u001b[0mdataset\u001b[0m\u001b[0;34m[\u001b[0m\u001b[0midx\u001b[0m\u001b[0;34m]\u001b[0m \u001b[0;32mfor\u001b[0m \u001b[0midx\u001b[0m \u001b[0;32min\u001b[0m \u001b[0mpossibly_batched_index\u001b[0m\u001b[0;34m]\u001b[0m\u001b[0;34m\u001b[0m\u001b[0;34m\u001b[0m\u001b[0m\n\u001b[0m\u001b[1;32m     45\u001b[0m         \u001b[0;32melse\u001b[0m\u001b[0;34m:\u001b[0m\u001b[0;34m\u001b[0m\u001b[0;34m\u001b[0m\u001b[0m\n\u001b[1;32m     46\u001b[0m             \u001b[0mdata\u001b[0m \u001b[0;34m=\u001b[0m \u001b[0mself\u001b[0m\u001b[0;34m.\u001b[0m\u001b[0mdataset\u001b[0m\u001b[0;34m[\u001b[0m\u001b[0mpossibly_batched_index\u001b[0m\u001b[0;34m]\u001b[0m\u001b[0;34m\u001b[0m\u001b[0;34m\u001b[0m\u001b[0m\n",
            "\u001b[0;32m/usr/local/lib/python3.7/dist-packages/torch/utils/data/_utils/fetch.py\u001b[0m in \u001b[0;36m<listcomp>\u001b[0;34m(.0)\u001b[0m\n\u001b[1;32m     42\u001b[0m     \u001b[0;32mdef\u001b[0m \u001b[0mfetch\u001b[0m\u001b[0;34m(\u001b[0m\u001b[0mself\u001b[0m\u001b[0;34m,\u001b[0m \u001b[0mpossibly_batched_index\u001b[0m\u001b[0;34m)\u001b[0m\u001b[0;34m:\u001b[0m\u001b[0;34m\u001b[0m\u001b[0;34m\u001b[0m\u001b[0m\n\u001b[1;32m     43\u001b[0m         \u001b[0;32mif\u001b[0m \u001b[0mself\u001b[0m\u001b[0;34m.\u001b[0m\u001b[0mauto_collation\u001b[0m\u001b[0;34m:\u001b[0m\u001b[0;34m\u001b[0m\u001b[0;34m\u001b[0m\u001b[0m\n\u001b[0;32m---> 44\u001b[0;31m             \u001b[0mdata\u001b[0m \u001b[0;34m=\u001b[0m \u001b[0;34m[\u001b[0m\u001b[0mself\u001b[0m\u001b[0;34m.\u001b[0m\u001b[0mdataset\u001b[0m\u001b[0;34m[\u001b[0m\u001b[0midx\u001b[0m\u001b[0;34m]\u001b[0m \u001b[0;32mfor\u001b[0m \u001b[0midx\u001b[0m \u001b[0;32min\u001b[0m \u001b[0mpossibly_batched_index\u001b[0m\u001b[0;34m]\u001b[0m\u001b[0;34m\u001b[0m\u001b[0;34m\u001b[0m\u001b[0m\n\u001b[0m\u001b[1;32m     45\u001b[0m         \u001b[0;32melse\u001b[0m\u001b[0;34m:\u001b[0m\u001b[0;34m\u001b[0m\u001b[0;34m\u001b[0m\u001b[0m\n\u001b[1;32m     46\u001b[0m             \u001b[0mdata\u001b[0m \u001b[0;34m=\u001b[0m \u001b[0mself\u001b[0m\u001b[0;34m.\u001b[0m\u001b[0mdataset\u001b[0m\u001b[0;34m[\u001b[0m\u001b[0mpossibly_batched_index\u001b[0m\u001b[0;34m]\u001b[0m\u001b[0;34m\u001b[0m\u001b[0;34m\u001b[0m\u001b[0m\n",
            "\u001b[0;32m<ipython-input-9-b69605842dce>\u001b[0m in \u001b[0;36m__getitem__\u001b[0;34m(self, index)\u001b[0m\n\u001b[1;32m     10\u001b[0m \u001b[0;34m\u001b[0m\u001b[0m\n\u001b[1;32m     11\u001b[0m         \u001b[0;32mif\u001b[0m \u001b[0mself\u001b[0m\u001b[0;34m.\u001b[0m\u001b[0mtransform\u001b[0m\u001b[0;34m:\u001b[0m\u001b[0;34m\u001b[0m\u001b[0;34m\u001b[0m\u001b[0m\n\u001b[0;32m---> 12\u001b[0;31m             \u001b[0mx\u001b[0m \u001b[0;34m=\u001b[0m \u001b[0mself\u001b[0m\u001b[0;34m.\u001b[0m\u001b[0mtransform\u001b[0m\u001b[0;34m(\u001b[0m\u001b[0mx\u001b[0m\u001b[0;34m)\u001b[0m\u001b[0;34m\u001b[0m\u001b[0;34m\u001b[0m\u001b[0m\n\u001b[0m\u001b[1;32m     13\u001b[0m \u001b[0;34m\u001b[0m\u001b[0m\n\u001b[1;32m     14\u001b[0m         \u001b[0;32mreturn\u001b[0m \u001b[0mx\u001b[0m\u001b[0;34m,\u001b[0m \u001b[0my\u001b[0m\u001b[0;34m\u001b[0m\u001b[0;34m\u001b[0m\u001b[0m\n",
            "\u001b[0;32m/usr/local/lib/python3.7/dist-packages/torchvision/transforms/transforms.py\u001b[0m in \u001b[0;36m__call__\u001b[0;34m(self, img)\u001b[0m\n\u001b[1;32m     58\u001b[0m     \u001b[0;32mdef\u001b[0m \u001b[0m__call__\u001b[0m\u001b[0;34m(\u001b[0m\u001b[0mself\u001b[0m\u001b[0;34m,\u001b[0m \u001b[0mimg\u001b[0m\u001b[0;34m)\u001b[0m\u001b[0;34m:\u001b[0m\u001b[0;34m\u001b[0m\u001b[0;34m\u001b[0m\u001b[0m\n\u001b[1;32m     59\u001b[0m         \u001b[0;32mfor\u001b[0m \u001b[0mt\u001b[0m \u001b[0;32min\u001b[0m \u001b[0mself\u001b[0m\u001b[0;34m.\u001b[0m\u001b[0mtransforms\u001b[0m\u001b[0;34m:\u001b[0m\u001b[0;34m\u001b[0m\u001b[0;34m\u001b[0m\u001b[0m\n\u001b[0;32m---> 60\u001b[0;31m             \u001b[0mimg\u001b[0m \u001b[0;34m=\u001b[0m \u001b[0mt\u001b[0m\u001b[0;34m(\u001b[0m\u001b[0mimg\u001b[0m\u001b[0;34m)\u001b[0m\u001b[0;34m\u001b[0m\u001b[0;34m\u001b[0m\u001b[0m\n\u001b[0m\u001b[1;32m     61\u001b[0m         \u001b[0;32mreturn\u001b[0m \u001b[0mimg\u001b[0m\u001b[0;34m\u001b[0m\u001b[0;34m\u001b[0m\u001b[0m\n\u001b[1;32m     62\u001b[0m \u001b[0;34m\u001b[0m\u001b[0m\n",
            "\u001b[0;32m/usr/local/lib/python3.7/dist-packages/torch/nn/modules/module.py\u001b[0m in \u001b[0;36m_call_impl\u001b[0;34m(self, *input, **kwargs)\u001b[0m\n\u001b[1;32m    887\u001b[0m             \u001b[0mresult\u001b[0m \u001b[0;34m=\u001b[0m \u001b[0mself\u001b[0m\u001b[0;34m.\u001b[0m\u001b[0m_slow_forward\u001b[0m\u001b[0;34m(\u001b[0m\u001b[0;34m*\u001b[0m\u001b[0minput\u001b[0m\u001b[0;34m,\u001b[0m \u001b[0;34m**\u001b[0m\u001b[0mkwargs\u001b[0m\u001b[0;34m)\u001b[0m\u001b[0;34m\u001b[0m\u001b[0;34m\u001b[0m\u001b[0m\n\u001b[1;32m    888\u001b[0m         \u001b[0;32melse\u001b[0m\u001b[0;34m:\u001b[0m\u001b[0;34m\u001b[0m\u001b[0;34m\u001b[0m\u001b[0m\n\u001b[0;32m--> 889\u001b[0;31m             \u001b[0mresult\u001b[0m \u001b[0;34m=\u001b[0m \u001b[0mself\u001b[0m\u001b[0;34m.\u001b[0m\u001b[0mforward\u001b[0m\u001b[0;34m(\u001b[0m\u001b[0;34m*\u001b[0m\u001b[0minput\u001b[0m\u001b[0;34m,\u001b[0m \u001b[0;34m**\u001b[0m\u001b[0mkwargs\u001b[0m\u001b[0;34m)\u001b[0m\u001b[0;34m\u001b[0m\u001b[0;34m\u001b[0m\u001b[0m\n\u001b[0m\u001b[1;32m    890\u001b[0m         for hook in itertools.chain(\n\u001b[1;32m    891\u001b[0m                 \u001b[0m_global_forward_hooks\u001b[0m\u001b[0;34m.\u001b[0m\u001b[0mvalues\u001b[0m\u001b[0;34m(\u001b[0m\u001b[0;34m)\u001b[0m\u001b[0;34m,\u001b[0m\u001b[0;34m\u001b[0m\u001b[0;34m\u001b[0m\u001b[0m\n",
            "\u001b[0;32m/usr/local/lib/python3.7/dist-packages/torchvision/transforms/transforms.py\u001b[0m in \u001b[0;36mforward\u001b[0;34m(self, tensor)\u001b[0m\n\u001b[1;32m    219\u001b[0m             \u001b[0mTensor\u001b[0m\u001b[0;34m:\u001b[0m \u001b[0mNormalized\u001b[0m \u001b[0mTensor\u001b[0m \u001b[0mimage\u001b[0m\u001b[0;34m.\u001b[0m\u001b[0;34m\u001b[0m\u001b[0;34m\u001b[0m\u001b[0m\n\u001b[1;32m    220\u001b[0m         \"\"\"\n\u001b[0;32m--> 221\u001b[0;31m         \u001b[0;32mreturn\u001b[0m \u001b[0mF\u001b[0m\u001b[0;34m.\u001b[0m\u001b[0mnormalize\u001b[0m\u001b[0;34m(\u001b[0m\u001b[0mtensor\u001b[0m\u001b[0;34m,\u001b[0m \u001b[0mself\u001b[0m\u001b[0;34m.\u001b[0m\u001b[0mmean\u001b[0m\u001b[0;34m,\u001b[0m \u001b[0mself\u001b[0m\u001b[0;34m.\u001b[0m\u001b[0mstd\u001b[0m\u001b[0;34m,\u001b[0m \u001b[0mself\u001b[0m\u001b[0;34m.\u001b[0m\u001b[0minplace\u001b[0m\u001b[0;34m)\u001b[0m\u001b[0;34m\u001b[0m\u001b[0;34m\u001b[0m\u001b[0m\n\u001b[0m\u001b[1;32m    222\u001b[0m \u001b[0;34m\u001b[0m\u001b[0m\n\u001b[1;32m    223\u001b[0m     \u001b[0;32mdef\u001b[0m \u001b[0m__repr__\u001b[0m\u001b[0;34m(\u001b[0m\u001b[0mself\u001b[0m\u001b[0;34m)\u001b[0m\u001b[0;34m:\u001b[0m\u001b[0;34m\u001b[0m\u001b[0;34m\u001b[0m\u001b[0m\n",
            "\u001b[0;32m/usr/local/lib/python3.7/dist-packages/torchvision/transforms/functional.py\u001b[0m in \u001b[0;36mnormalize\u001b[0;34m(tensor, mean, std, inplace)\u001b[0m\n\u001b[1;32m    328\u001b[0m     \u001b[0mmean\u001b[0m \u001b[0;34m=\u001b[0m \u001b[0mtorch\u001b[0m\u001b[0;34m.\u001b[0m\u001b[0mas_tensor\u001b[0m\u001b[0;34m(\u001b[0m\u001b[0mmean\u001b[0m\u001b[0;34m,\u001b[0m \u001b[0mdtype\u001b[0m\u001b[0;34m=\u001b[0m\u001b[0mdtype\u001b[0m\u001b[0;34m,\u001b[0m \u001b[0mdevice\u001b[0m\u001b[0;34m=\u001b[0m\u001b[0mtensor\u001b[0m\u001b[0;34m.\u001b[0m\u001b[0mdevice\u001b[0m\u001b[0;34m)\u001b[0m\u001b[0;34m\u001b[0m\u001b[0;34m\u001b[0m\u001b[0m\n\u001b[1;32m    329\u001b[0m     \u001b[0mstd\u001b[0m \u001b[0;34m=\u001b[0m \u001b[0mtorch\u001b[0m\u001b[0;34m.\u001b[0m\u001b[0mas_tensor\u001b[0m\u001b[0;34m(\u001b[0m\u001b[0mstd\u001b[0m\u001b[0;34m,\u001b[0m \u001b[0mdtype\u001b[0m\u001b[0;34m=\u001b[0m\u001b[0mdtype\u001b[0m\u001b[0;34m,\u001b[0m \u001b[0mdevice\u001b[0m\u001b[0;34m=\u001b[0m\u001b[0mtensor\u001b[0m\u001b[0;34m.\u001b[0m\u001b[0mdevice\u001b[0m\u001b[0;34m)\u001b[0m\u001b[0;34m\u001b[0m\u001b[0;34m\u001b[0m\u001b[0m\n\u001b[0;32m--> 330\u001b[0;31m     \u001b[0;32mif\u001b[0m \u001b[0;34m(\u001b[0m\u001b[0mstd\u001b[0m \u001b[0;34m==\u001b[0m \u001b[0;36m0\u001b[0m\u001b[0;34m)\u001b[0m\u001b[0;34m.\u001b[0m\u001b[0many\u001b[0m\u001b[0;34m(\u001b[0m\u001b[0;34m)\u001b[0m\u001b[0;34m:\u001b[0m\u001b[0;34m\u001b[0m\u001b[0;34m\u001b[0m\u001b[0m\n\u001b[0m\u001b[1;32m    331\u001b[0m         \u001b[0;32mraise\u001b[0m \u001b[0mValueError\u001b[0m\u001b[0;34m(\u001b[0m\u001b[0;34m'std evaluated to zero after conversion to {}, leading to division by zero.'\u001b[0m\u001b[0;34m.\u001b[0m\u001b[0mformat\u001b[0m\u001b[0;34m(\u001b[0m\u001b[0mdtype\u001b[0m\u001b[0;34m)\u001b[0m\u001b[0;34m)\u001b[0m\u001b[0;34m\u001b[0m\u001b[0;34m\u001b[0m\u001b[0m\n\u001b[1;32m    332\u001b[0m     \u001b[0;32mif\u001b[0m \u001b[0mmean\u001b[0m\u001b[0;34m.\u001b[0m\u001b[0mndim\u001b[0m \u001b[0;34m==\u001b[0m \u001b[0;36m1\u001b[0m\u001b[0;34m:\u001b[0m\u001b[0;34m\u001b[0m\u001b[0;34m\u001b[0m\u001b[0m\n",
            "\u001b[0;31mKeyboardInterrupt\u001b[0m: "
          ]
        }
      ]
    },
    {
      "cell_type": "markdown",
      "metadata": {
        "id": "BwLzgHtroqSf"
      },
      "source": [
        "적용 결과 너무 많이 학습한 경우 정확도가 오히려 떨어지는 모습을 보였다."
      ]
    },
    {
      "cell_type": "markdown",
      "metadata": {
        "id": "VdBYH88Mn2h8"
      },
      "source": [
        "# Unfair Method\n",
        "\n",
        "[Kaggle](https://www.kaggle.com/tonysun94/pytorch-1-0-1-on-mnist-acc-99-8) 에서 참고한 방법.\n",
        "\n",
        "테스트 데이터가 아닌 더 많은 데이터로 예측할 수 있다.\n",
        "\n",
        "컴페티션 데이터가 아니라 외부 데이터를 사용한 것이기 때문에 공정하지 못한 방법으로 설명하고 있다.\n"
      ]
    },
    {
      "cell_type": "code",
      "metadata": {
        "id": "4_WqACH57ylC"
      },
      "source": [
        "new_X_train = np.load('/content/drive/MyDrive/Datasets/Kannada_MNIST/X_kannada_MNIST_train.npz')\n",
        "new_y_train = np.load('/content/drive/MyDrive/Datasets/Kannada_MNIST/y_kannada_MNIST_train.npz')\n",
        "\n",
        "new_X_val = np.load('/content/drive/MyDrive/Datasets/Kannada_MNIST/X_kannada_MNIST_test.npz')\n",
        "new_y_val = np.load('/content/drive/MyDrive/Datasets/Kannada_MNIST/y_kannada_MNIST_test.npz')"
      ],
      "execution_count": 22,
      "outputs": []
    },
    {
      "cell_type": "code",
      "metadata": {
        "id": "otBrSW8NoxpC"
      },
      "source": [
        "new_X_train = new_X_train['arr_0']\n",
        "new_y_train = new_y_train['arr_0']\n",
        "new_X_val = new_X_val['arr_0']\n",
        "new_y_val = new_y_val['arr_0']"
      ],
      "execution_count": 23,
      "outputs": []
    },
    {
      "cell_type": "code",
      "metadata": {
        "id": "9NwMyaCxoeJe"
      },
      "source": [
        "# 데이터를 입력하는 DataLoader 정의\n",
        "new_train_dataset = MyDataset(new_X_train.reshape(-1, 1, 28, 28), new_y_train, train_trans)\n",
        "new_train_dataloader = torch.utils.data.DataLoader(new_train_dataset, batch_size=BATCH_SIZE, shuffle=True)\n",
        "\n",
        "new_val_dataset = MyDataset(new_X_val.reshape(-1, 1, 28, 28), new_y_val, val_trans)\n",
        "new_val_dataloader = torch.utils.data.DataLoader(new_val_dataset, batch_size=BATCH_SIZE, shuffle=False)"
      ],
      "execution_count": 97,
      "outputs": []
    },
    {
      "cell_type": "code",
      "metadata": {
        "id": "7yiALu2oqCC_"
      },
      "source": [
        "optimizer = torch.optim.Adam(stacked_model.parameters(), lr = 0.01)\n",
        "criterion = nn.CrossEntropyLoss()\n",
        "\n",
        "from torch.optim import lr_scheduler\n",
        "exp_lr_scheduler = lr_scheduler.StepLR(optimizer, step_size=5, gamma=0.1)"
      ],
      "execution_count": 25,
      "outputs": []
    },
    {
      "cell_type": "code",
      "metadata": {
        "id": "7qPA94rUtvPA"
      },
      "source": [
        "test_acc = []\n",
        "test_ls = []\n",
        "best_accuracy = 0"
      ],
      "execution_count": 30,
      "outputs": []
    },
    {
      "cell_type": "code",
      "metadata": {
        "id": "db7SIFbwpq5s"
      },
      "source": [
        "for Epoch in range(0, 40):\n",
        "  train(stacked_model, new_train_dataloader, optimizer, 100)\n",
        "  best_accuracy = evaluate(stacked_model, new_val_dataloader, best_accuracy)\n",
        "  exp_lr_scheduler.step()"
      ],
      "execution_count": null,
      "outputs": []
    },
    {
      "cell_type": "markdown",
      "metadata": {
        "id": "w6I7UdKk6Hy9"
      },
      "source": [
        "학습 결과 기존 정확도보다 높은 정확도를 달성하는 것을 확인했다.\n",
        "\n",
        "99.5% 정도의 정확도가 나오며, 학습이 진행될 때마다 정확도가 올라가는 것으로 보아, 시간만 있으면 상당한 정확도를 달성할 것으로 보인다."
      ]
    },
    {
      "cell_type": "markdown",
      "metadata": {
        "id": "dkuEFlHNPdV7"
      },
      "source": [
        "# 기초적인 CNN"
      ]
    },
    {
      "cell_type": "code",
      "metadata": {
        "colab": {
          "base_uri": "https://localhost:8080/"
        },
        "id": "O0EZuLM3qGMW",
        "outputId": "0f01b7c9-e798-439f-af75-12133b6747c3"
      },
      "source": [
        "# 모듈 정의\n",
        "class CNN(nn.Module):\n",
        "\n",
        "    def __init__(self):\n",
        "        super(CNN, self).__init__()\n",
        "        self.conv1 = nn.Conv2d(1, 6, 3)\n",
        "        self.conv2 = nn.Conv2d(6, 16, 3)\n",
        "        self.fc1 = nn.Linear(16 * 6 * 6, 120)\n",
        "        self.fc2 = nn.Linear(120, 84)\n",
        "        self.fc3 = nn.Linear(84, 10)\n",
        "        self.bn1 = nn.BatchNorm2d(6)\n",
        "        self.bn2 = nn.BatchNorm2d(16)\n",
        "        self.bn3 = nn.BatchNorm1d(120)\n",
        "        self.bn4 = nn.BatchNorm1d(84)\n",
        "  \n",
        "\n",
        "\n",
        "    def forward(self, x):\n",
        "        # (2, 2) 크기 윈도우에 대해 맥스 풀링(max pooling)\n",
        "        x = F.max_pool2d(F.relu(self.bn1(self.conv1(x))), (2, 2))\n",
        "        x = F.max_pool2d(F.relu(self.bn2(self.conv2(x))), 2)\n",
        "        x = x.view(-1, self.num_flat_features(x))\n",
        "        x = F.relu(self.bn3(self.fc1(x)))\n",
        "        x = F.relu(self.bn4(self.fc2(x)))\n",
        "        x = self.fc3(x)\n",
        "        return x\n",
        "\n",
        "    def num_flat_features(self, x):\n",
        "        size = x.size()[1:]  # 배치 차원을 제외한 모든 차원\n",
        "        num_features = 1\n",
        "        for s in size:\n",
        "            num_features *= s\n",
        "        return num_features\n",
        "\n",
        "\n",
        "net = CNN()\n",
        "print(net)\n"
      ],
      "execution_count": 99,
      "outputs": [
        {
          "output_type": "stream",
          "text": [
            "CNN(\n",
            "  (conv1): Conv2d(1, 6, kernel_size=(3, 3), stride=(1, 1))\n",
            "  (conv2): Conv2d(6, 16, kernel_size=(3, 3), stride=(1, 1))\n",
            "  (fc1): Linear(in_features=576, out_features=120, bias=True)\n",
            "  (fc2): Linear(in_features=120, out_features=84, bias=True)\n",
            "  (fc3): Linear(in_features=84, out_features=10, bias=True)\n",
            "  (bn1): BatchNorm2d(6, eps=1e-05, momentum=0.1, affine=True, track_running_stats=True)\n",
            "  (bn2): BatchNorm2d(16, eps=1e-05, momentum=0.1, affine=True, track_running_stats=True)\n",
            "  (bn3): BatchNorm1d(120, eps=1e-05, momentum=0.1, affine=True, track_running_stats=True)\n",
            "  (bn4): BatchNorm1d(84, eps=1e-05, momentum=0.1, affine=True, track_running_stats=True)\n",
            ")\n"
          ],
          "name": "stdout"
        }
      ]
    },
    {
      "cell_type": "code",
      "metadata": {
        "colab": {
          "base_uri": "https://localhost:8080/"
        },
        "id": "ZKYpeL3VRZmB",
        "outputId": "081cba3c-26cf-40cc-e828-031c3d18d613"
      },
      "source": [
        "net.to(DEVICE)"
      ],
      "execution_count": 100,
      "outputs": [
        {
          "output_type": "execute_result",
          "data": {
            "text/plain": [
              "CNN(\n",
              "  (conv1): Conv2d(1, 6, kernel_size=(3, 3), stride=(1, 1))\n",
              "  (conv2): Conv2d(6, 16, kernel_size=(3, 3), stride=(1, 1))\n",
              "  (fc1): Linear(in_features=576, out_features=120, bias=True)\n",
              "  (fc2): Linear(in_features=120, out_features=84, bias=True)\n",
              "  (fc3): Linear(in_features=84, out_features=10, bias=True)\n",
              "  (bn1): BatchNorm2d(6, eps=1e-05, momentum=0.1, affine=True, track_running_stats=True)\n",
              "  (bn2): BatchNorm2d(16, eps=1e-05, momentum=0.1, affine=True, track_running_stats=True)\n",
              "  (bn3): BatchNorm1d(120, eps=1e-05, momentum=0.1, affine=True, track_running_stats=True)\n",
              "  (bn4): BatchNorm1d(84, eps=1e-05, momentum=0.1, affine=True, track_running_stats=True)\n",
              ")"
            ]
          },
          "metadata": {
            "tags": []
          },
          "execution_count": 100
        }
      ]
    },
    {
      "cell_type": "code",
      "metadata": {
        "id": "4VaPUYycRnaa"
      },
      "source": [
        "# 데이터 증강을 위해 trans 정의\n",
        "train_trans = transforms.Compose([\n",
        "                            transforms.Resize(32),\n",
        "                            transforms.RandomAffine(degrees=45, translate=(0.1, 0.1), scale=(0.8, 1.2)),\n",
        "                            transforms.RandomRotation(degrees=45),\n",
        "                            transforms.Normalize(mean=(0.5,), std=(0.5,))\n",
        "\n",
        "])\n",
        "\n",
        "\n",
        "val_trans = transforms.Compose([\n",
        "                            transforms.Resize(32),\n",
        "                            transforms.Normalize(mean=(0.5,), std=(0.5,))\n",
        "\n",
        "])"
      ],
      "execution_count": 101,
      "outputs": []
    },
    {
      "cell_type": "code",
      "metadata": {
        "id": "ynKQnfdZR1NV"
      },
      "source": [
        "# 데이터를 입력하는 DataLoader 정의\n",
        "train_dataset = MyDataset(X_train.reshape(-1, 1, 28, 28), y_train, train_trans)\n",
        "train_dataloader = torch.utils.data.DataLoader(train_dataset, batch_size=BATCH_SIZE, shuffle=True)\n",
        "\n",
        "val_dataset = MyDataset(X_val.reshape(-1, 1, 28, 28), y_val, val_trans)\n",
        "val_dataloader = torch.utils.data.DataLoader(val_dataset, batch_size=BATCH_SIZE, shuffle=False)"
      ],
      "execution_count": 78,
      "outputs": []
    },
    {
      "cell_type": "code",
      "metadata": {
        "id": "R3J2JXTtRZKa"
      },
      "source": [
        "optimizer = torch.optim.Adam(net.parameters(), lr = 0.01)\n",
        "criterion = nn.CrossEntropyLoss()\n",
        "\n",
        "from torch.optim import lr_scheduler\n",
        "exp_lr_scheduler = lr_scheduler.StepLR(optimizer, step_size=5, gamma=0.1)"
      ],
      "execution_count": 102,
      "outputs": []
    },
    {
      "cell_type": "code",
      "metadata": {
        "id": "GAHI4CPvUzov"
      },
      "source": [
        "test_acc = []\n",
        "test_ls = []\n",
        "best_accuracy = 0"
      ],
      "execution_count": 103,
      "outputs": []
    },
    {
      "cell_type": "code",
      "metadata": {
        "colab": {
          "base_uri": "https://localhost:8080/",
          "height": 1000
        },
        "id": "CzCiVGwFRP_D",
        "outputId": "fee5d7d3-831f-4e7d-a65a-3627e050f33d"
      },
      "source": [
        "for Epoch in range(1, EPOCHS+1):\n",
        "  train(net, train_dataloader, optimizer, 100)\n",
        "  best_accuracy = evaluate(net, val_dataloader, best_accuracy)\n",
        "  exp_lr_scheduler.step()"
      ],
      "execution_count": 92,
      "outputs": [
        {
          "output_type": "stream",
          "text": [
            "Epoch: 1 Data: [0 / 31500] Loss: 0.085152\n",
            "Epoch: 1 Data: [12800 / 31500] Loss: 0.064232\n",
            "Epoch: 1 Data: [25600 / 31500] Loss: 0.042523\n",
            "Test Epoch: 1 Accuracy: 99.019048, Loss: 0.000242\n",
            "Epoch: 2 Data: [0 / 31500] Loss: 0.079983\n",
            "Epoch: 2 Data: [12800 / 31500] Loss: 0.090997\n",
            "Epoch: 2 Data: [25600 / 31500] Loss: 0.054462\n",
            "Test Epoch: 2 Accuracy: 99.000000, Loss: 0.000262\n",
            "Epoch: 3 Data: [0 / 31500] Loss: 0.090084\n",
            "Epoch: 3 Data: [12800 / 31500] Loss: 0.077518\n",
            "Epoch: 3 Data: [25600 / 31500] Loss: 0.084770\n",
            "Test Epoch: 3 Accuracy: 98.952381, Loss: 0.000272\n",
            "Epoch: 4 Data: [0 / 31500] Loss: 0.096782\n",
            "Epoch: 4 Data: [12800 / 31500] Loss: 0.113146\n",
            "Epoch: 4 Data: [25600 / 31500] Loss: 0.083382\n",
            "Test Epoch: 4 Accuracy: 98.876190, Loss: 0.000283\n",
            "Epoch: 5 Data: [0 / 31500] Loss: 0.139702\n",
            "Epoch: 5 Data: [12800 / 31500] Loss: 0.089759\n",
            "Epoch: 5 Data: [25600 / 31500] Loss: 0.080697\n",
            "Test Epoch: 5 Accuracy: 98.971429, Loss: 0.000265\n",
            "Epoch: 6 Data: [0 / 31500] Loss: 0.116378\n",
            "Epoch: 6 Data: [12800 / 31500] Loss: 0.099763\n",
            "Epoch: 6 Data: [25600 / 31500] Loss: 0.160465\n",
            "Test Epoch: 6 Accuracy: 98.914286, Loss: 0.000281\n",
            "Epoch: 7 Data: [0 / 31500] Loss: 0.046518\n",
            "Epoch: 7 Data: [12800 / 31500] Loss: 0.079586\n",
            "Epoch: 7 Data: [25600 / 31500] Loss: 0.104872\n",
            "Test Epoch: 7 Accuracy: 98.885714, Loss: 0.000288\n",
            "Epoch: 8 Data: [0 / 31500] Loss: 0.107275\n",
            "Epoch: 8 Data: [12800 / 31500] Loss: 0.097366\n",
            "Epoch: 8 Data: [25600 / 31500] Loss: 0.098553\n",
            "Test Epoch: 8 Accuracy: 98.990476, Loss: 0.000245\n",
            "Epoch: 9 Data: [0 / 31500] Loss: 0.033391\n",
            "Epoch: 9 Data: [12800 / 31500] Loss: 0.067381\n",
            "Epoch: 9 Data: [25600 / 31500] Loss: 0.156419\n",
            "Test Epoch: 9 Accuracy: 99.000000, Loss: 0.000251\n",
            "Epoch: 10 Data: [0 / 31500] Loss: 0.124379\n",
            "Epoch: 10 Data: [12800 / 31500] Loss: 0.151478\n",
            "Epoch: 10 Data: [25600 / 31500] Loss: 0.197467\n",
            "Test Epoch: 10 Accuracy: 98.847619, Loss: 0.000280\n",
            "Epoch: 11 Data: [0 / 31500] Loss: 0.120227\n",
            "Epoch: 11 Data: [12800 / 31500] Loss: 0.070285\n",
            "Epoch: 11 Data: [25600 / 31500] Loss: 0.070131\n",
            "Test Epoch: 11 Accuracy: 98.914286, Loss: 0.000266\n",
            "Epoch: 12 Data: [0 / 31500] Loss: 0.053301\n",
            "Epoch: 12 Data: [12800 / 31500] Loss: 0.056266\n",
            "Epoch: 12 Data: [25600 / 31500] Loss: 0.058131\n",
            "Test Epoch: 12 Accuracy: 98.952381, Loss: 0.000264\n",
            "Epoch: 13 Data: [0 / 31500] Loss: 0.058213\n",
            "Epoch: 13 Data: [12800 / 31500] Loss: 0.052400\n",
            "Epoch: 13 Data: [25600 / 31500] Loss: 0.114805\n"
          ],
          "name": "stdout"
        },
        {
          "output_type": "error",
          "ename": "KeyboardInterrupt",
          "evalue": "ignored",
          "traceback": [
            "\u001b[0;31m---------------------------------------------------------------------------\u001b[0m",
            "\u001b[0;31mKeyboardInterrupt\u001b[0m                         Traceback (most recent call last)",
            "\u001b[0;32m<ipython-input-92-164bab4942d8>\u001b[0m in \u001b[0;36m<module>\u001b[0;34m()\u001b[0m\n\u001b[1;32m      1\u001b[0m \u001b[0;32mfor\u001b[0m \u001b[0mEpoch\u001b[0m \u001b[0;32min\u001b[0m \u001b[0mrange\u001b[0m\u001b[0;34m(\u001b[0m\u001b[0;36m1\u001b[0m\u001b[0;34m,\u001b[0m \u001b[0mEPOCHS\u001b[0m\u001b[0;34m+\u001b[0m\u001b[0;36m1\u001b[0m\u001b[0;34m)\u001b[0m\u001b[0;34m:\u001b[0m\u001b[0;34m\u001b[0m\u001b[0;34m\u001b[0m\u001b[0m\n\u001b[0;32m----> 2\u001b[0;31m   \u001b[0mtrain\u001b[0m\u001b[0;34m(\u001b[0m\u001b[0mnet\u001b[0m\u001b[0;34m,\u001b[0m \u001b[0mtrain_dataloader\u001b[0m\u001b[0;34m,\u001b[0m \u001b[0moptimizer\u001b[0m\u001b[0;34m,\u001b[0m \u001b[0;36m100\u001b[0m\u001b[0;34m)\u001b[0m\u001b[0;34m\u001b[0m\u001b[0;34m\u001b[0m\u001b[0m\n\u001b[0m\u001b[1;32m      3\u001b[0m   \u001b[0mbest_accuracy\u001b[0m \u001b[0;34m=\u001b[0m \u001b[0mevaluate\u001b[0m\u001b[0;34m(\u001b[0m\u001b[0mnet\u001b[0m\u001b[0;34m,\u001b[0m \u001b[0mval_dataloader\u001b[0m\u001b[0;34m,\u001b[0m \u001b[0mbest_accuracy\u001b[0m\u001b[0;34m)\u001b[0m\u001b[0;34m\u001b[0m\u001b[0;34m\u001b[0m\u001b[0m\n\u001b[1;32m      4\u001b[0m   \u001b[0mexp_lr_scheduler\u001b[0m\u001b[0;34m.\u001b[0m\u001b[0mstep\u001b[0m\u001b[0;34m(\u001b[0m\u001b[0;34m)\u001b[0m\u001b[0;34m\u001b[0m\u001b[0;34m\u001b[0m\u001b[0m\n",
            "\u001b[0;32m<ipython-input-27-ab1e3dd91be7>\u001b[0m in \u001b[0;36mtrain\u001b[0;34m(model, train_loader, optimizer, log_interval)\u001b[0m\n\u001b[1;32m      1\u001b[0m \u001b[0;32mdef\u001b[0m \u001b[0mtrain\u001b[0m\u001b[0;34m(\u001b[0m\u001b[0mmodel\u001b[0m\u001b[0;34m,\u001b[0m \u001b[0mtrain_loader\u001b[0m\u001b[0;34m,\u001b[0m \u001b[0moptimizer\u001b[0m\u001b[0;34m,\u001b[0m \u001b[0mlog_interval\u001b[0m\u001b[0;34m)\u001b[0m\u001b[0;34m:\u001b[0m\u001b[0;34m\u001b[0m\u001b[0;34m\u001b[0m\u001b[0m\n\u001b[1;32m      2\u001b[0m   \u001b[0mmodel\u001b[0m\u001b[0;34m.\u001b[0m\u001b[0mtrain\u001b[0m\u001b[0;34m(\u001b[0m\u001b[0;34m)\u001b[0m\u001b[0;34m\u001b[0m\u001b[0;34m\u001b[0m\u001b[0m\n\u001b[0;32m----> 3\u001b[0;31m   \u001b[0;32mfor\u001b[0m \u001b[0mbatch_idx\u001b[0m\u001b[0;34m,\u001b[0m \u001b[0;34m(\u001b[0m\u001b[0mimage\u001b[0m\u001b[0;34m,\u001b[0m \u001b[0mlabel\u001b[0m\u001b[0;34m)\u001b[0m \u001b[0;32min\u001b[0m \u001b[0menumerate\u001b[0m\u001b[0;34m(\u001b[0m\u001b[0mtrain_loader\u001b[0m\u001b[0;34m)\u001b[0m\u001b[0;34m:\u001b[0m\u001b[0;34m\u001b[0m\u001b[0;34m\u001b[0m\u001b[0m\n\u001b[0m\u001b[1;32m      4\u001b[0m     \u001b[0mimage\u001b[0m \u001b[0;34m=\u001b[0m \u001b[0mimage\u001b[0m\u001b[0;34m.\u001b[0m\u001b[0mto\u001b[0m\u001b[0;34m(\u001b[0m\u001b[0mDEVICE\u001b[0m\u001b[0;34m)\u001b[0m\u001b[0;34m\u001b[0m\u001b[0;34m\u001b[0m\u001b[0m\n\u001b[1;32m      5\u001b[0m     \u001b[0mlabel\u001b[0m \u001b[0;34m=\u001b[0m \u001b[0mlabel\u001b[0m\u001b[0;34m.\u001b[0m\u001b[0mto\u001b[0m\u001b[0;34m(\u001b[0m\u001b[0mDEVICE\u001b[0m\u001b[0;34m)\u001b[0m\u001b[0;34m\u001b[0m\u001b[0;34m\u001b[0m\u001b[0m\n",
            "\u001b[0;32m/usr/local/lib/python3.7/dist-packages/torch/utils/data/dataloader.py\u001b[0m in \u001b[0;36m__next__\u001b[0;34m(self)\u001b[0m\n\u001b[1;32m    515\u001b[0m             \u001b[0;32mif\u001b[0m \u001b[0mself\u001b[0m\u001b[0;34m.\u001b[0m\u001b[0m_sampler_iter\u001b[0m \u001b[0;32mis\u001b[0m \u001b[0;32mNone\u001b[0m\u001b[0;34m:\u001b[0m\u001b[0;34m\u001b[0m\u001b[0;34m\u001b[0m\u001b[0m\n\u001b[1;32m    516\u001b[0m                 \u001b[0mself\u001b[0m\u001b[0;34m.\u001b[0m\u001b[0m_reset\u001b[0m\u001b[0;34m(\u001b[0m\u001b[0;34m)\u001b[0m\u001b[0;34m\u001b[0m\u001b[0;34m\u001b[0m\u001b[0m\n\u001b[0;32m--> 517\u001b[0;31m             \u001b[0mdata\u001b[0m \u001b[0;34m=\u001b[0m \u001b[0mself\u001b[0m\u001b[0;34m.\u001b[0m\u001b[0m_next_data\u001b[0m\u001b[0;34m(\u001b[0m\u001b[0;34m)\u001b[0m\u001b[0;34m\u001b[0m\u001b[0;34m\u001b[0m\u001b[0m\n\u001b[0m\u001b[1;32m    518\u001b[0m             \u001b[0mself\u001b[0m\u001b[0;34m.\u001b[0m\u001b[0m_num_yielded\u001b[0m \u001b[0;34m+=\u001b[0m \u001b[0;36m1\u001b[0m\u001b[0;34m\u001b[0m\u001b[0;34m\u001b[0m\u001b[0m\n\u001b[1;32m    519\u001b[0m             \u001b[0;32mif\u001b[0m \u001b[0mself\u001b[0m\u001b[0;34m.\u001b[0m\u001b[0m_dataset_kind\u001b[0m \u001b[0;34m==\u001b[0m \u001b[0m_DatasetKind\u001b[0m\u001b[0;34m.\u001b[0m\u001b[0mIterable\u001b[0m \u001b[0;32mand\u001b[0m\u001b[0;31m \u001b[0m\u001b[0;31m\\\u001b[0m\u001b[0;34m\u001b[0m\u001b[0;34m\u001b[0m\u001b[0m\n",
            "\u001b[0;32m/usr/local/lib/python3.7/dist-packages/torch/utils/data/dataloader.py\u001b[0m in \u001b[0;36m_next_data\u001b[0;34m(self)\u001b[0m\n\u001b[1;32m    555\u001b[0m     \u001b[0;32mdef\u001b[0m \u001b[0m_next_data\u001b[0m\u001b[0;34m(\u001b[0m\u001b[0mself\u001b[0m\u001b[0;34m)\u001b[0m\u001b[0;34m:\u001b[0m\u001b[0;34m\u001b[0m\u001b[0;34m\u001b[0m\u001b[0m\n\u001b[1;32m    556\u001b[0m         \u001b[0mindex\u001b[0m \u001b[0;34m=\u001b[0m \u001b[0mself\u001b[0m\u001b[0;34m.\u001b[0m\u001b[0m_next_index\u001b[0m\u001b[0;34m(\u001b[0m\u001b[0;34m)\u001b[0m  \u001b[0;31m# may raise StopIteration\u001b[0m\u001b[0;34m\u001b[0m\u001b[0;34m\u001b[0m\u001b[0m\n\u001b[0;32m--> 557\u001b[0;31m         \u001b[0mdata\u001b[0m \u001b[0;34m=\u001b[0m \u001b[0mself\u001b[0m\u001b[0;34m.\u001b[0m\u001b[0m_dataset_fetcher\u001b[0m\u001b[0;34m.\u001b[0m\u001b[0mfetch\u001b[0m\u001b[0;34m(\u001b[0m\u001b[0mindex\u001b[0m\u001b[0;34m)\u001b[0m  \u001b[0;31m# may raise StopIteration\u001b[0m\u001b[0;34m\u001b[0m\u001b[0;34m\u001b[0m\u001b[0m\n\u001b[0m\u001b[1;32m    558\u001b[0m         \u001b[0;32mif\u001b[0m \u001b[0mself\u001b[0m\u001b[0;34m.\u001b[0m\u001b[0m_pin_memory\u001b[0m\u001b[0;34m:\u001b[0m\u001b[0;34m\u001b[0m\u001b[0;34m\u001b[0m\u001b[0m\n\u001b[1;32m    559\u001b[0m             \u001b[0mdata\u001b[0m \u001b[0;34m=\u001b[0m \u001b[0m_utils\u001b[0m\u001b[0;34m.\u001b[0m\u001b[0mpin_memory\u001b[0m\u001b[0;34m.\u001b[0m\u001b[0mpin_memory\u001b[0m\u001b[0;34m(\u001b[0m\u001b[0mdata\u001b[0m\u001b[0;34m)\u001b[0m\u001b[0;34m\u001b[0m\u001b[0;34m\u001b[0m\u001b[0m\n",
            "\u001b[0;32m/usr/local/lib/python3.7/dist-packages/torch/utils/data/_utils/fetch.py\u001b[0m in \u001b[0;36mfetch\u001b[0;34m(self, possibly_batched_index)\u001b[0m\n\u001b[1;32m     42\u001b[0m     \u001b[0;32mdef\u001b[0m \u001b[0mfetch\u001b[0m\u001b[0;34m(\u001b[0m\u001b[0mself\u001b[0m\u001b[0;34m,\u001b[0m \u001b[0mpossibly_batched_index\u001b[0m\u001b[0;34m)\u001b[0m\u001b[0;34m:\u001b[0m\u001b[0;34m\u001b[0m\u001b[0;34m\u001b[0m\u001b[0m\n\u001b[1;32m     43\u001b[0m         \u001b[0;32mif\u001b[0m \u001b[0mself\u001b[0m\u001b[0;34m.\u001b[0m\u001b[0mauto_collation\u001b[0m\u001b[0;34m:\u001b[0m\u001b[0;34m\u001b[0m\u001b[0;34m\u001b[0m\u001b[0m\n\u001b[0;32m---> 44\u001b[0;31m             \u001b[0mdata\u001b[0m \u001b[0;34m=\u001b[0m \u001b[0;34m[\u001b[0m\u001b[0mself\u001b[0m\u001b[0;34m.\u001b[0m\u001b[0mdataset\u001b[0m\u001b[0;34m[\u001b[0m\u001b[0midx\u001b[0m\u001b[0;34m]\u001b[0m \u001b[0;32mfor\u001b[0m \u001b[0midx\u001b[0m \u001b[0;32min\u001b[0m \u001b[0mpossibly_batched_index\u001b[0m\u001b[0;34m]\u001b[0m\u001b[0;34m\u001b[0m\u001b[0;34m\u001b[0m\u001b[0m\n\u001b[0m\u001b[1;32m     45\u001b[0m         \u001b[0;32melse\u001b[0m\u001b[0;34m:\u001b[0m\u001b[0;34m\u001b[0m\u001b[0;34m\u001b[0m\u001b[0m\n\u001b[1;32m     46\u001b[0m             \u001b[0mdata\u001b[0m \u001b[0;34m=\u001b[0m \u001b[0mself\u001b[0m\u001b[0;34m.\u001b[0m\u001b[0mdataset\u001b[0m\u001b[0;34m[\u001b[0m\u001b[0mpossibly_batched_index\u001b[0m\u001b[0;34m]\u001b[0m\u001b[0;34m\u001b[0m\u001b[0;34m\u001b[0m\u001b[0m\n",
            "\u001b[0;32m/usr/local/lib/python3.7/dist-packages/torch/utils/data/_utils/fetch.py\u001b[0m in \u001b[0;36m<listcomp>\u001b[0;34m(.0)\u001b[0m\n\u001b[1;32m     42\u001b[0m     \u001b[0;32mdef\u001b[0m \u001b[0mfetch\u001b[0m\u001b[0;34m(\u001b[0m\u001b[0mself\u001b[0m\u001b[0;34m,\u001b[0m \u001b[0mpossibly_batched_index\u001b[0m\u001b[0;34m)\u001b[0m\u001b[0;34m:\u001b[0m\u001b[0;34m\u001b[0m\u001b[0;34m\u001b[0m\u001b[0m\n\u001b[1;32m     43\u001b[0m         \u001b[0;32mif\u001b[0m \u001b[0mself\u001b[0m\u001b[0;34m.\u001b[0m\u001b[0mauto_collation\u001b[0m\u001b[0;34m:\u001b[0m\u001b[0;34m\u001b[0m\u001b[0;34m\u001b[0m\u001b[0m\n\u001b[0;32m---> 44\u001b[0;31m             \u001b[0mdata\u001b[0m \u001b[0;34m=\u001b[0m \u001b[0;34m[\u001b[0m\u001b[0mself\u001b[0m\u001b[0;34m.\u001b[0m\u001b[0mdataset\u001b[0m\u001b[0;34m[\u001b[0m\u001b[0midx\u001b[0m\u001b[0;34m]\u001b[0m \u001b[0;32mfor\u001b[0m \u001b[0midx\u001b[0m \u001b[0;32min\u001b[0m \u001b[0mpossibly_batched_index\u001b[0m\u001b[0;34m]\u001b[0m\u001b[0;34m\u001b[0m\u001b[0;34m\u001b[0m\u001b[0m\n\u001b[0m\u001b[1;32m     45\u001b[0m         \u001b[0;32melse\u001b[0m\u001b[0;34m:\u001b[0m\u001b[0;34m\u001b[0m\u001b[0;34m\u001b[0m\u001b[0m\n\u001b[1;32m     46\u001b[0m             \u001b[0mdata\u001b[0m \u001b[0;34m=\u001b[0m \u001b[0mself\u001b[0m\u001b[0;34m.\u001b[0m\u001b[0mdataset\u001b[0m\u001b[0;34m[\u001b[0m\u001b[0mpossibly_batched_index\u001b[0m\u001b[0;34m]\u001b[0m\u001b[0;34m\u001b[0m\u001b[0;34m\u001b[0m\u001b[0m\n",
            "\u001b[0;32m<ipython-input-15-b69605842dce>\u001b[0m in \u001b[0;36m__getitem__\u001b[0;34m(self, index)\u001b[0m\n\u001b[1;32m     10\u001b[0m \u001b[0;34m\u001b[0m\u001b[0m\n\u001b[1;32m     11\u001b[0m         \u001b[0;32mif\u001b[0m \u001b[0mself\u001b[0m\u001b[0;34m.\u001b[0m\u001b[0mtransform\u001b[0m\u001b[0;34m:\u001b[0m\u001b[0;34m\u001b[0m\u001b[0;34m\u001b[0m\u001b[0m\n\u001b[0;32m---> 12\u001b[0;31m             \u001b[0mx\u001b[0m \u001b[0;34m=\u001b[0m \u001b[0mself\u001b[0m\u001b[0;34m.\u001b[0m\u001b[0mtransform\u001b[0m\u001b[0;34m(\u001b[0m\u001b[0mx\u001b[0m\u001b[0;34m)\u001b[0m\u001b[0;34m\u001b[0m\u001b[0;34m\u001b[0m\u001b[0m\n\u001b[0m\u001b[1;32m     13\u001b[0m \u001b[0;34m\u001b[0m\u001b[0m\n\u001b[1;32m     14\u001b[0m         \u001b[0;32mreturn\u001b[0m \u001b[0mx\u001b[0m\u001b[0;34m,\u001b[0m \u001b[0my\u001b[0m\u001b[0;34m\u001b[0m\u001b[0;34m\u001b[0m\u001b[0m\n",
            "\u001b[0;32m/usr/local/lib/python3.7/dist-packages/torchvision/transforms/transforms.py\u001b[0m in \u001b[0;36m__call__\u001b[0;34m(self, img)\u001b[0m\n\u001b[1;32m     58\u001b[0m     \u001b[0;32mdef\u001b[0m \u001b[0m__call__\u001b[0m\u001b[0;34m(\u001b[0m\u001b[0mself\u001b[0m\u001b[0;34m,\u001b[0m \u001b[0mimg\u001b[0m\u001b[0;34m)\u001b[0m\u001b[0;34m:\u001b[0m\u001b[0;34m\u001b[0m\u001b[0;34m\u001b[0m\u001b[0m\n\u001b[1;32m     59\u001b[0m         \u001b[0;32mfor\u001b[0m \u001b[0mt\u001b[0m \u001b[0;32min\u001b[0m \u001b[0mself\u001b[0m\u001b[0;34m.\u001b[0m\u001b[0mtransforms\u001b[0m\u001b[0;34m:\u001b[0m\u001b[0;34m\u001b[0m\u001b[0;34m\u001b[0m\u001b[0m\n\u001b[0;32m---> 60\u001b[0;31m             \u001b[0mimg\u001b[0m \u001b[0;34m=\u001b[0m \u001b[0mt\u001b[0m\u001b[0;34m(\u001b[0m\u001b[0mimg\u001b[0m\u001b[0;34m)\u001b[0m\u001b[0;34m\u001b[0m\u001b[0;34m\u001b[0m\u001b[0m\n\u001b[0m\u001b[1;32m     61\u001b[0m         \u001b[0;32mreturn\u001b[0m \u001b[0mimg\u001b[0m\u001b[0;34m\u001b[0m\u001b[0;34m\u001b[0m\u001b[0m\n\u001b[1;32m     62\u001b[0m \u001b[0;34m\u001b[0m\u001b[0m\n",
            "\u001b[0;32m/usr/local/lib/python3.7/dist-packages/torch/nn/modules/module.py\u001b[0m in \u001b[0;36m_call_impl\u001b[0;34m(self, *input, **kwargs)\u001b[0m\n\u001b[1;32m    887\u001b[0m             \u001b[0mresult\u001b[0m \u001b[0;34m=\u001b[0m \u001b[0mself\u001b[0m\u001b[0;34m.\u001b[0m\u001b[0m_slow_forward\u001b[0m\u001b[0;34m(\u001b[0m\u001b[0;34m*\u001b[0m\u001b[0minput\u001b[0m\u001b[0;34m,\u001b[0m \u001b[0;34m**\u001b[0m\u001b[0mkwargs\u001b[0m\u001b[0;34m)\u001b[0m\u001b[0;34m\u001b[0m\u001b[0;34m\u001b[0m\u001b[0m\n\u001b[1;32m    888\u001b[0m         \u001b[0;32melse\u001b[0m\u001b[0;34m:\u001b[0m\u001b[0;34m\u001b[0m\u001b[0;34m\u001b[0m\u001b[0m\n\u001b[0;32m--> 889\u001b[0;31m             \u001b[0mresult\u001b[0m \u001b[0;34m=\u001b[0m \u001b[0mself\u001b[0m\u001b[0;34m.\u001b[0m\u001b[0mforward\u001b[0m\u001b[0;34m(\u001b[0m\u001b[0;34m*\u001b[0m\u001b[0minput\u001b[0m\u001b[0;34m,\u001b[0m \u001b[0;34m**\u001b[0m\u001b[0mkwargs\u001b[0m\u001b[0;34m)\u001b[0m\u001b[0;34m\u001b[0m\u001b[0;34m\u001b[0m\u001b[0m\n\u001b[0m\u001b[1;32m    890\u001b[0m         for hook in itertools.chain(\n\u001b[1;32m    891\u001b[0m                 \u001b[0m_global_forward_hooks\u001b[0m\u001b[0;34m.\u001b[0m\u001b[0mvalues\u001b[0m\u001b[0;34m(\u001b[0m\u001b[0;34m)\u001b[0m\u001b[0;34m,\u001b[0m\u001b[0;34m\u001b[0m\u001b[0;34m\u001b[0m\u001b[0m\n",
            "\u001b[0;32m/usr/local/lib/python3.7/dist-packages/torchvision/transforms/transforms.py\u001b[0m in \u001b[0;36mforward\u001b[0;34m(self, img)\u001b[0m\n\u001b[1;32m   1417\u001b[0m         \u001b[0mret\u001b[0m \u001b[0;34m=\u001b[0m \u001b[0mself\u001b[0m\u001b[0;34m.\u001b[0m\u001b[0mget_params\u001b[0m\u001b[0;34m(\u001b[0m\u001b[0mself\u001b[0m\u001b[0;34m.\u001b[0m\u001b[0mdegrees\u001b[0m\u001b[0;34m,\u001b[0m \u001b[0mself\u001b[0m\u001b[0;34m.\u001b[0m\u001b[0mtranslate\u001b[0m\u001b[0;34m,\u001b[0m \u001b[0mself\u001b[0m\u001b[0;34m.\u001b[0m\u001b[0mscale\u001b[0m\u001b[0;34m,\u001b[0m \u001b[0mself\u001b[0m\u001b[0;34m.\u001b[0m\u001b[0mshear\u001b[0m\u001b[0;34m,\u001b[0m \u001b[0mimg_size\u001b[0m\u001b[0;34m)\u001b[0m\u001b[0;34m\u001b[0m\u001b[0;34m\u001b[0m\u001b[0m\n\u001b[1;32m   1418\u001b[0m \u001b[0;34m\u001b[0m\u001b[0m\n\u001b[0;32m-> 1419\u001b[0;31m         \u001b[0;32mreturn\u001b[0m \u001b[0mF\u001b[0m\u001b[0;34m.\u001b[0m\u001b[0maffine\u001b[0m\u001b[0;34m(\u001b[0m\u001b[0mimg\u001b[0m\u001b[0;34m,\u001b[0m \u001b[0;34m*\u001b[0m\u001b[0mret\u001b[0m\u001b[0;34m,\u001b[0m \u001b[0minterpolation\u001b[0m\u001b[0;34m=\u001b[0m\u001b[0mself\u001b[0m\u001b[0;34m.\u001b[0m\u001b[0minterpolation\u001b[0m\u001b[0;34m,\u001b[0m \u001b[0mfill\u001b[0m\u001b[0;34m=\u001b[0m\u001b[0mfill\u001b[0m\u001b[0;34m)\u001b[0m\u001b[0;34m\u001b[0m\u001b[0;34m\u001b[0m\u001b[0m\n\u001b[0m\u001b[1;32m   1420\u001b[0m \u001b[0;34m\u001b[0m\u001b[0m\n\u001b[1;32m   1421\u001b[0m     \u001b[0;32mdef\u001b[0m \u001b[0m__repr__\u001b[0m\u001b[0;34m(\u001b[0m\u001b[0mself\u001b[0m\u001b[0;34m)\u001b[0m\u001b[0;34m:\u001b[0m\u001b[0;34m\u001b[0m\u001b[0;34m\u001b[0m\u001b[0m\n",
            "\u001b[0;32m/usr/local/lib/python3.7/dist-packages/torchvision/transforms/functional.py\u001b[0m in \u001b[0;36maffine\u001b[0;34m(img, angle, translate, scale, shear, interpolation, fill, resample, fillcolor)\u001b[0m\n\u001b[1;32m   1073\u001b[0m     \u001b[0mtranslate_f\u001b[0m \u001b[0;34m=\u001b[0m \u001b[0;34m[\u001b[0m\u001b[0;36m1.0\u001b[0m \u001b[0;34m*\u001b[0m \u001b[0mt\u001b[0m \u001b[0;32mfor\u001b[0m \u001b[0mt\u001b[0m \u001b[0;32min\u001b[0m \u001b[0mtranslate\u001b[0m\u001b[0;34m]\u001b[0m\u001b[0;34m\u001b[0m\u001b[0;34m\u001b[0m\u001b[0m\n\u001b[1;32m   1074\u001b[0m     \u001b[0mmatrix\u001b[0m \u001b[0;34m=\u001b[0m \u001b[0m_get_inverse_affine_matrix\u001b[0m\u001b[0;34m(\u001b[0m\u001b[0;34m[\u001b[0m\u001b[0;36m0.0\u001b[0m\u001b[0;34m,\u001b[0m \u001b[0;36m0.0\u001b[0m\u001b[0;34m]\u001b[0m\u001b[0;34m,\u001b[0m \u001b[0mangle\u001b[0m\u001b[0;34m,\u001b[0m \u001b[0mtranslate_f\u001b[0m\u001b[0;34m,\u001b[0m \u001b[0mscale\u001b[0m\u001b[0;34m,\u001b[0m \u001b[0mshear\u001b[0m\u001b[0;34m)\u001b[0m\u001b[0;34m\u001b[0m\u001b[0;34m\u001b[0m\u001b[0m\n\u001b[0;32m-> 1075\u001b[0;31m     \u001b[0;32mreturn\u001b[0m \u001b[0mF_t\u001b[0m\u001b[0;34m.\u001b[0m\u001b[0maffine\u001b[0m\u001b[0;34m(\u001b[0m\u001b[0mimg\u001b[0m\u001b[0;34m,\u001b[0m \u001b[0mmatrix\u001b[0m\u001b[0;34m=\u001b[0m\u001b[0mmatrix\u001b[0m\u001b[0;34m,\u001b[0m \u001b[0minterpolation\u001b[0m\u001b[0;34m=\u001b[0m\u001b[0minterpolation\u001b[0m\u001b[0;34m.\u001b[0m\u001b[0mvalue\u001b[0m\u001b[0;34m,\u001b[0m \u001b[0mfill\u001b[0m\u001b[0;34m=\u001b[0m\u001b[0mfill\u001b[0m\u001b[0;34m)\u001b[0m\u001b[0;34m\u001b[0m\u001b[0;34m\u001b[0m\u001b[0m\n\u001b[0m\u001b[1;32m   1076\u001b[0m \u001b[0;34m\u001b[0m\u001b[0m\n\u001b[1;32m   1077\u001b[0m \u001b[0;34m\u001b[0m\u001b[0m\n",
            "\u001b[0;32m/usr/local/lib/python3.7/dist-packages/torchvision/transforms/functional_tensor.py\u001b[0m in \u001b[0;36maffine\u001b[0;34m(img, matrix, interpolation, fill)\u001b[0m\n\u001b[1;32m    649\u001b[0m \u001b[0;34m\u001b[0m\u001b[0m\n\u001b[1;32m    650\u001b[0m     \u001b[0mdtype\u001b[0m \u001b[0;34m=\u001b[0m \u001b[0mimg\u001b[0m\u001b[0;34m.\u001b[0m\u001b[0mdtype\u001b[0m \u001b[0;32mif\u001b[0m \u001b[0mtorch\u001b[0m\u001b[0;34m.\u001b[0m\u001b[0mis_floating_point\u001b[0m\u001b[0;34m(\u001b[0m\u001b[0mimg\u001b[0m\u001b[0;34m)\u001b[0m \u001b[0;32melse\u001b[0m \u001b[0mtorch\u001b[0m\u001b[0;34m.\u001b[0m\u001b[0mfloat32\u001b[0m\u001b[0;34m\u001b[0m\u001b[0;34m\u001b[0m\u001b[0m\n\u001b[0;32m--> 651\u001b[0;31m     \u001b[0mtheta\u001b[0m \u001b[0;34m=\u001b[0m \u001b[0mtorch\u001b[0m\u001b[0;34m.\u001b[0m\u001b[0mtensor\u001b[0m\u001b[0;34m(\u001b[0m\u001b[0mmatrix\u001b[0m\u001b[0;34m,\u001b[0m \u001b[0mdtype\u001b[0m\u001b[0;34m=\u001b[0m\u001b[0mdtype\u001b[0m\u001b[0;34m,\u001b[0m \u001b[0mdevice\u001b[0m\u001b[0;34m=\u001b[0m\u001b[0mimg\u001b[0m\u001b[0;34m.\u001b[0m\u001b[0mdevice\u001b[0m\u001b[0;34m)\u001b[0m\u001b[0;34m.\u001b[0m\u001b[0mreshape\u001b[0m\u001b[0;34m(\u001b[0m\u001b[0;36m1\u001b[0m\u001b[0;34m,\u001b[0m \u001b[0;36m2\u001b[0m\u001b[0;34m,\u001b[0m \u001b[0;36m3\u001b[0m\u001b[0;34m)\u001b[0m\u001b[0;34m\u001b[0m\u001b[0;34m\u001b[0m\u001b[0m\n\u001b[0m\u001b[1;32m    652\u001b[0m     \u001b[0mshape\u001b[0m \u001b[0;34m=\u001b[0m \u001b[0mimg\u001b[0m\u001b[0;34m.\u001b[0m\u001b[0mshape\u001b[0m\u001b[0;34m\u001b[0m\u001b[0;34m\u001b[0m\u001b[0m\n\u001b[1;32m    653\u001b[0m     \u001b[0;31m# grid will be generated on the same device as theta and img\u001b[0m\u001b[0;34m\u001b[0m\u001b[0;34m\u001b[0m\u001b[0;34m\u001b[0m\u001b[0m\n",
            "\u001b[0;31mKeyboardInterrupt\u001b[0m: "
          ]
        }
      ]
    },
    {
      "cell_type": "code",
      "metadata": {
        "colab": {
          "base_uri": "https://localhost:8080/"
        },
        "id": "MlQFGHKORvXi",
        "outputId": "56bab6aa-79cd-4d8e-f1fd-fcadf41d14cb"
      },
      "source": [
        "net.load_state_dict(torch.load(\"/content/drive/MyDrive/trained_model/kannada_MNIST2.pt\"))"
      ],
      "execution_count": 86,
      "outputs": [
        {
          "output_type": "execute_result",
          "data": {
            "text/plain": [
              "<All keys matched successfully>"
            ]
          },
          "metadata": {
            "tags": []
          },
          "execution_count": 86
        }
      ]
    },
    {
      "cell_type": "code",
      "metadata": {
        "id": "7rJrq6IzZzcO"
      },
      "source": [
        "output = None\n",
        "model.eval()\n",
        "with torch.no_grad():\n",
        "    for image, label in test_dataloader:\n",
        "      image = image.to(DEVICE)\n",
        "      if output is None:\n",
        "        output = torch.argmax(net(image), dim=1).cpu().numpy()\n",
        "      else:\n",
        "        output = np.concatenate([output, torch.argmax(net(image), dim=1).cpu().numpy()], axis=0)"
      ],
      "execution_count": 90,
      "outputs": []
    },
    {
      "cell_type": "code",
      "metadata": {
        "id": "FxKQbawZZ_Gx"
      },
      "source": [
        "table = pd.DataFrame({'id': test_data.iloc[:, 0], 'Category': output})\n",
        "# table\n",
        "table.to_csv('/content/drive/MyDrive/answer.csv', index=False)"
      ],
      "execution_count": 91,
      "outputs": []
    },
    {
      "cell_type": "code",
      "metadata": {
        "colab": {
          "base_uri": "https://localhost:8080/"
        },
        "id": "uk_r2BxqcJ11",
        "outputId": "d411ce4e-1309-4c1d-ab33-bde92ba346e3"
      },
      "source": [
        "for Epoch in range(0, 40):\n",
        "  train(net, new_train_dataloader, optimizer, 100)\n",
        "  best_accuracy = evaluate(net, new_val_dataloader, best_accuracy)\n",
        "  exp_lr_scheduler.step()"
      ],
      "execution_count": null,
      "outputs": [
        {
          "output_type": "stream",
          "text": [
            "Epoch: 0 Data: [0 / 60000] Loss: 2.354891\n",
            "Epoch: 0 Data: [12800 / 60000] Loss: 0.387120\n",
            "Epoch: 0 Data: [25600 / 60000] Loss: 0.333898\n",
            "Epoch: 0 Data: [38400 / 60000] Loss: 0.220968\n",
            "Epoch: 0 Data: [51200 / 60000] Loss: 0.245726\n",
            "Model saved\n",
            "Test Epoch: 0 Accuracy: 91.230000, Loss: 0.002215\n",
            "Epoch: 1 Data: [0 / 60000] Loss: 0.155685\n",
            "Epoch: 1 Data: [12800 / 60000] Loss: 0.161837\n",
            "Epoch: 1 Data: [25600 / 60000] Loss: 0.097219\n",
            "Epoch: 1 Data: [38400 / 60000] Loss: 0.195229\n",
            "Epoch: 1 Data: [51200 / 60000] Loss: 0.125479\n",
            "Model saved\n",
            "Test Epoch: 1 Accuracy: 92.500000, Loss: 0.001982\n",
            "Epoch: 2 Data: [0 / 60000] Loss: 0.172126\n",
            "Epoch: 2 Data: [12800 / 60000] Loss: 0.200635\n",
            "Epoch: 2 Data: [25600 / 60000] Loss: 0.110594\n",
            "Epoch: 2 Data: [38400 / 60000] Loss: 0.214496\n",
            "Epoch: 2 Data: [51200 / 60000] Loss: 0.150063\n",
            "Model saved\n",
            "Test Epoch: 2 Accuracy: 94.420000, Loss: 0.001530\n",
            "Epoch: 3 Data: [0 / 60000] Loss: 0.105373\n",
            "Epoch: 3 Data: [12800 / 60000] Loss: 0.147776\n",
            "Epoch: 3 Data: [25600 / 60000] Loss: 0.044886\n",
            "Epoch: 3 Data: [38400 / 60000] Loss: 0.174947\n",
            "Epoch: 3 Data: [51200 / 60000] Loss: 0.100597\n",
            "Test Epoch: 3 Accuracy: 93.670000, Loss: 0.001789\n",
            "Epoch: 4 Data: [0 / 60000] Loss: 0.216705\n",
            "Epoch: 4 Data: [12800 / 60000] Loss: 0.112662\n",
            "Epoch: 4 Data: [25600 / 60000] Loss: 0.138146\n",
            "Epoch: 4 Data: [38400 / 60000] Loss: 0.147252\n",
            "Epoch: 4 Data: [51200 / 60000] Loss: 0.074973\n",
            "Model saved\n",
            "Test Epoch: 4 Accuracy: 95.390000, Loss: 0.001217\n",
            "Epoch: 5 Data: [0 / 60000] Loss: 0.161429\n",
            "Epoch: 5 Data: [12800 / 60000] Loss: 0.037321\n",
            "Epoch: 5 Data: [25600 / 60000] Loss: 0.127242\n",
            "Epoch: 5 Data: [38400 / 60000] Loss: 0.069990\n",
            "Epoch: 5 Data: [51200 / 60000] Loss: 0.061149\n",
            "Model saved\n",
            "Test Epoch: 5 Accuracy: 95.950000, Loss: 0.001016\n",
            "Epoch: 6 Data: [0 / 60000] Loss: 0.104060\n",
            "Epoch: 6 Data: [12800 / 60000] Loss: 0.045391\n",
            "Epoch: 6 Data: [25600 / 60000] Loss: 0.124612\n",
            "Epoch: 6 Data: [38400 / 60000] Loss: 0.034466\n",
            "Epoch: 6 Data: [51200 / 60000] Loss: 0.060420\n",
            "Model saved\n",
            "Test Epoch: 6 Accuracy: 96.080000, Loss: 0.001052\n",
            "Epoch: 7 Data: [0 / 60000] Loss: 0.027797\n",
            "Epoch: 7 Data: [12800 / 60000] Loss: 0.041101\n",
            "Epoch: 7 Data: [25600 / 60000] Loss: 0.060160\n",
            "Epoch: 7 Data: [38400 / 60000] Loss: 0.098035\n",
            "Epoch: 7 Data: [51200 / 60000] Loss: 0.072558\n",
            "Model saved\n",
            "Test Epoch: 7 Accuracy: 96.130000, Loss: 0.001016\n",
            "Epoch: 8 Data: [0 / 60000] Loss: 0.072644\n",
            "Epoch: 8 Data: [12800 / 60000] Loss: 0.108127\n",
            "Epoch: 8 Data: [25600 / 60000] Loss: 0.107384\n",
            "Epoch: 8 Data: [38400 / 60000] Loss: 0.109871\n",
            "Epoch: 8 Data: [51200 / 60000] Loss: 0.101477\n",
            "Model saved\n",
            "Test Epoch: 8 Accuracy: 96.340000, Loss: 0.000998\n",
            "Epoch: 9 Data: [0 / 60000] Loss: 0.076698\n",
            "Epoch: 9 Data: [12800 / 60000] Loss: 0.050643\n",
            "Epoch: 9 Data: [25600 / 60000] Loss: 0.064871\n",
            "Epoch: 9 Data: [38400 / 60000] Loss: 0.120154\n",
            "Epoch: 9 Data: [51200 / 60000] Loss: 0.131110\n",
            "Model saved\n",
            "Test Epoch: 9 Accuracy: 96.370000, Loss: 0.000992\n",
            "Epoch: 10 Data: [0 / 60000] Loss: 0.149647\n",
            "Epoch: 10 Data: [12800 / 60000] Loss: 0.029808\n",
            "Epoch: 10 Data: [25600 / 60000] Loss: 0.100160\n",
            "Epoch: 10 Data: [38400 / 60000] Loss: 0.048309\n",
            "Epoch: 10 Data: [51200 / 60000] Loss: 0.070172\n",
            "Test Epoch: 10 Accuracy: 96.140000, Loss: 0.001061\n",
            "Epoch: 11 Data: [0 / 60000] Loss: 0.038503\n",
            "Epoch: 11 Data: [12800 / 60000] Loss: 0.056608\n",
            "Epoch: 11 Data: [25600 / 60000] Loss: 0.039418\n",
            "Epoch: 11 Data: [38400 / 60000] Loss: 0.102684\n",
            "Epoch: 11 Data: [51200 / 60000] Loss: 0.114142\n",
            "Model saved\n",
            "Test Epoch: 11 Accuracy: 96.460000, Loss: 0.000969\n",
            "Epoch: 12 Data: [0 / 60000] Loss: 0.063849\n",
            "Epoch: 12 Data: [12800 / 60000] Loss: 0.083690\n",
            "Epoch: 12 Data: [25600 / 60000] Loss: 0.053111\n",
            "Epoch: 12 Data: [38400 / 60000] Loss: 0.085475\n",
            "Epoch: 12 Data: [51200 / 60000] Loss: 0.042815\n",
            "Test Epoch: 12 Accuracy: 96.340000, Loss: 0.000959\n",
            "Epoch: 13 Data: [0 / 60000] Loss: 0.073019\n",
            "Epoch: 13 Data: [12800 / 60000] Loss: 0.082897\n",
            "Epoch: 13 Data: [25600 / 60000] Loss: 0.053408\n",
            "Epoch: 13 Data: [38400 / 60000] Loss: 0.026758\n",
            "Epoch: 13 Data: [51200 / 60000] Loss: 0.064861\n",
            "Test Epoch: 13 Accuracy: 96.360000, Loss: 0.000966\n",
            "Epoch: 14 Data: [0 / 60000] Loss: 0.149287\n",
            "Epoch: 14 Data: [12800 / 60000] Loss: 0.042995\n",
            "Epoch: 14 Data: [25600 / 60000] Loss: 0.068925\n",
            "Epoch: 14 Data: [38400 / 60000] Loss: 0.044268\n",
            "Epoch: 14 Data: [51200 / 60000] Loss: 0.088802\n",
            "Test Epoch: 14 Accuracy: 96.340000, Loss: 0.000989\n",
            "Epoch: 15 Data: [0 / 60000] Loss: 0.066332\n",
            "Epoch: 15 Data: [12800 / 60000] Loss: 0.072299\n",
            "Epoch: 15 Data: [25600 / 60000] Loss: 0.033860\n",
            "Epoch: 15 Data: [38400 / 60000] Loss: 0.036232\n",
            "Epoch: 15 Data: [51200 / 60000] Loss: 0.094875\n",
            "Test Epoch: 15 Accuracy: 96.310000, Loss: 0.000997\n",
            "Epoch: 16 Data: [0 / 60000] Loss: 0.060865\n",
            "Epoch: 16 Data: [12800 / 60000] Loss: 0.062233\n",
            "Epoch: 16 Data: [25600 / 60000] Loss: 0.085031\n",
            "Epoch: 16 Data: [38400 / 60000] Loss: 0.057578\n",
            "Epoch: 16 Data: [51200 / 60000] Loss: 0.066384\n",
            "Test Epoch: 16 Accuracy: 96.250000, Loss: 0.001011\n",
            "Epoch: 17 Data: [0 / 60000] Loss: 0.025460\n",
            "Epoch: 17 Data: [12800 / 60000] Loss: 0.030663\n",
            "Epoch: 17 Data: [25600 / 60000] Loss: 0.029149\n",
            "Epoch: 17 Data: [38400 / 60000] Loss: 0.033397\n",
            "Epoch: 17 Data: [51200 / 60000] Loss: 0.085278\n",
            "Test Epoch: 17 Accuracy: 96.340000, Loss: 0.000993\n",
            "Epoch: 18 Data: [0 / 60000] Loss: 0.017674\n",
            "Epoch: 18 Data: [12800 / 60000] Loss: 0.029929\n",
            "Epoch: 18 Data: [25600 / 60000] Loss: 0.075886\n",
            "Epoch: 18 Data: [38400 / 60000] Loss: 0.047671\n",
            "Epoch: 18 Data: [51200 / 60000] Loss: 0.050038\n",
            "Test Epoch: 18 Accuracy: 96.390000, Loss: 0.000978\n",
            "Epoch: 19 Data: [0 / 60000] Loss: 0.036508\n",
            "Epoch: 19 Data: [12800 / 60000] Loss: 0.016716\n",
            "Epoch: 19 Data: [25600 / 60000] Loss: 0.061106\n",
            "Epoch: 19 Data: [38400 / 60000] Loss: 0.041368\n",
            "Epoch: 19 Data: [51200 / 60000] Loss: 0.032116\n",
            "Test Epoch: 19 Accuracy: 96.280000, Loss: 0.000968\n",
            "Epoch: 20 Data: [0 / 60000] Loss: 0.048228\n",
            "Epoch: 20 Data: [12800 / 60000] Loss: 0.089943\n",
            "Epoch: 20 Data: [25600 / 60000] Loss: 0.039040\n",
            "Epoch: 20 Data: [38400 / 60000] Loss: 0.070550\n",
            "Epoch: 20 Data: [51200 / 60000] Loss: 0.046907\n",
            "Test Epoch: 20 Accuracy: 96.310000, Loss: 0.000983\n",
            "Epoch: 21 Data: [0 / 60000] Loss: 0.103104\n",
            "Epoch: 21 Data: [12800 / 60000] Loss: 0.032232\n",
            "Epoch: 21 Data: [25600 / 60000] Loss: 0.030499\n",
            "Epoch: 21 Data: [38400 / 60000] Loss: 0.043820\n",
            "Epoch: 21 Data: [51200 / 60000] Loss: 0.038551\n",
            "Test Epoch: 21 Accuracy: 96.240000, Loss: 0.001000\n",
            "Epoch: 22 Data: [0 / 60000] Loss: 0.024238\n",
            "Epoch: 22 Data: [12800 / 60000] Loss: 0.023225\n",
            "Epoch: 22 Data: [25600 / 60000] Loss: 0.020953\n",
            "Epoch: 22 Data: [38400 / 60000] Loss: 0.048171\n",
            "Epoch: 22 Data: [51200 / 60000] Loss: 0.025719\n",
            "Model saved\n",
            "Test Epoch: 22 Accuracy: 96.500000, Loss: 0.000937\n",
            "Epoch: 23 Data: [0 / 60000] Loss: 0.067044\n",
            "Epoch: 23 Data: [12800 / 60000] Loss: 0.053505\n",
            "Epoch: 23 Data: [25600 / 60000] Loss: 0.055108\n",
            "Epoch: 23 Data: [38400 / 60000] Loss: 0.146471\n",
            "Epoch: 23 Data: [51200 / 60000] Loss: 0.063681\n",
            "Test Epoch: 23 Accuracy: 96.230000, Loss: 0.000997\n",
            "Epoch: 24 Data: [0 / 60000] Loss: 0.120435\n",
            "Epoch: 24 Data: [12800 / 60000] Loss: 0.022905\n",
            "Epoch: 24 Data: [25600 / 60000] Loss: 0.062446\n",
            "Epoch: 24 Data: [38400 / 60000] Loss: 0.046729\n",
            "Epoch: 24 Data: [51200 / 60000] Loss: 0.109245\n",
            "Test Epoch: 24 Accuracy: 96.210000, Loss: 0.001008\n",
            "Epoch: 25 Data: [0 / 60000] Loss: 0.107461\n",
            "Epoch: 25 Data: [12800 / 60000] Loss: 0.050916\n",
            "Epoch: 25 Data: [25600 / 60000] Loss: 0.026071\n",
            "Epoch: 25 Data: [38400 / 60000] Loss: 0.099933\n",
            "Epoch: 25 Data: [51200 / 60000] Loss: 0.077550\n",
            "Test Epoch: 25 Accuracy: 96.350000, Loss: 0.000958\n",
            "Epoch: 26 Data: [0 / 60000] Loss: 0.042802\n",
            "Epoch: 26 Data: [12800 / 60000] Loss: 0.091225\n",
            "Epoch: 26 Data: [25600 / 60000] Loss: 0.028773\n",
            "Epoch: 26 Data: [38400 / 60000] Loss: 0.087123\n",
            "Epoch: 26 Data: [51200 / 60000] Loss: 0.075507\n",
            "Test Epoch: 26 Accuracy: 96.410000, Loss: 0.000966\n",
            "Epoch: 27 Data: [0 / 60000] Loss: 0.096925\n",
            "Epoch: 27 Data: [12800 / 60000] Loss: 0.100029\n",
            "Epoch: 27 Data: [25600 / 60000] Loss: 0.129341\n",
            "Epoch: 27 Data: [38400 / 60000] Loss: 0.040173\n",
            "Epoch: 27 Data: [51200 / 60000] Loss: 0.052297\n",
            "Test Epoch: 27 Accuracy: 96.290000, Loss: 0.001006\n",
            "Epoch: 28 Data: [0 / 60000] Loss: 0.071000\n",
            "Epoch: 28 Data: [12800 / 60000] Loss: 0.048990\n",
            "Epoch: 28 Data: [25600 / 60000] Loss: 0.092396\n",
            "Epoch: 28 Data: [38400 / 60000] Loss: 0.054088\n",
            "Epoch: 28 Data: [51200 / 60000] Loss: 0.044272\n",
            "Test Epoch: 28 Accuracy: 96.420000, Loss: 0.000953\n",
            "Epoch: 29 Data: [0 / 60000] Loss: 0.121862\n",
            "Epoch: 29 Data: [12800 / 60000] Loss: 0.022141\n",
            "Epoch: 29 Data: [25600 / 60000] Loss: 0.057212\n",
            "Epoch: 29 Data: [38400 / 60000] Loss: 0.163035\n",
            "Epoch: 29 Data: [51200 / 60000] Loss: 0.078388\n",
            "Model saved\n",
            "Test Epoch: 29 Accuracy: 96.530000, Loss: 0.000944\n",
            "Epoch: 30 Data: [0 / 60000] Loss: 0.062193\n",
            "Epoch: 30 Data: [12800 / 60000] Loss: 0.036502\n",
            "Epoch: 30 Data: [25600 / 60000] Loss: 0.062878\n",
            "Epoch: 30 Data: [38400 / 60000] Loss: 0.027152\n",
            "Epoch: 30 Data: [51200 / 60000] Loss: 0.140350\n",
            "Test Epoch: 30 Accuracy: 96.410000, Loss: 0.000990\n",
            "Epoch: 31 Data: [0 / 60000] Loss: 0.070433\n",
            "Epoch: 31 Data: [12800 / 60000] Loss: 0.057593\n",
            "Epoch: 31 Data: [25600 / 60000] Loss: 0.059376\n",
            "Epoch: 31 Data: [38400 / 60000] Loss: 0.091632\n",
            "Epoch: 31 Data: [51200 / 60000] Loss: 0.046185\n",
            "Test Epoch: 31 Accuracy: 96.300000, Loss: 0.000982\n",
            "Epoch: 32 Data: [0 / 60000] Loss: 0.054816\n",
            "Epoch: 32 Data: [12800 / 60000] Loss: 0.044368\n",
            "Epoch: 32 Data: [25600 / 60000] Loss: 0.057163\n",
            "Epoch: 32 Data: [38400 / 60000] Loss: 0.051515\n",
            "Epoch: 32 Data: [51200 / 60000] Loss: 0.079540\n",
            "Test Epoch: 32 Accuracy: 96.270000, Loss: 0.001014\n",
            "Epoch: 33 Data: [0 / 60000] Loss: 0.034656\n",
            "Epoch: 33 Data: [12800 / 60000] Loss: 0.043281\n",
            "Epoch: 33 Data: [25600 / 60000] Loss: 0.108505\n",
            "Epoch: 33 Data: [38400 / 60000] Loss: 0.057618\n",
            "Epoch: 33 Data: [51200 / 60000] Loss: 0.020798\n",
            "Test Epoch: 33 Accuracy: 96.420000, Loss: 0.000960\n",
            "Epoch: 34 Data: [0 / 60000] Loss: 0.035571\n",
            "Epoch: 34 Data: [12800 / 60000] Loss: 0.150813\n",
            "Epoch: 34 Data: [25600 / 60000] Loss: 0.050462\n",
            "Epoch: 34 Data: [38400 / 60000] Loss: 0.105630\n",
            "Epoch: 34 Data: [51200 / 60000] Loss: 0.064171\n",
            "Test Epoch: 34 Accuracy: 96.420000, Loss: 0.000950\n",
            "Epoch: 35 Data: [0 / 60000] Loss: 0.054972\n",
            "Epoch: 35 Data: [12800 / 60000] Loss: 0.085477\n",
            "Epoch: 35 Data: [25600 / 60000] Loss: 0.060148\n",
            "Epoch: 35 Data: [38400 / 60000] Loss: 0.045127\n",
            "Epoch: 35 Data: [51200 / 60000] Loss: 0.098825\n",
            "Test Epoch: 35 Accuracy: 96.140000, Loss: 0.001059\n",
            "Epoch: 36 Data: [0 / 60000] Loss: 0.099808\n",
            "Epoch: 36 Data: [12800 / 60000] Loss: 0.052453\n",
            "Epoch: 36 Data: [25600 / 60000] Loss: 0.095343\n",
            "Epoch: 36 Data: [38400 / 60000] Loss: 0.108368\n"
          ],
          "name": "stdout"
        }
      ]
    },
    {
      "cell_type": "markdown",
      "metadata": {
        "id": "Jdr1EiC6jgBt"
      },
      "source": [
        "학습 결과 90%의 정확도를 가지는 것을 확인했다."
      ]
    },
    {
      "cell_type": "code",
      "metadata": {
        "id": "epy2vNHnaa2N"
      },
      "source": [
        ""
      ],
      "execution_count": null,
      "outputs": []
    }
  ]
}