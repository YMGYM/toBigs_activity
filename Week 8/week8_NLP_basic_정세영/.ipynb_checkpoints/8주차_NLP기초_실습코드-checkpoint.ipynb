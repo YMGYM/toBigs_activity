{
 "cells": [
  {
   "cell_type": "markdown",
   "metadata": {},
   "source": [
    "# 텍스트 기초 실습코드"
   ]
  },
  {
   "cell_type": "code",
   "execution_count": 28,
   "metadata": {},
   "outputs": [],
   "source": [
    "# 필요한 모듈 불러오기\n",
    "import numpy as np\n",
    "import pandas as pd\n",
    "from konlpy.tag import *\n",
    "from gensim.models import Word2Vec, FastText"
   ]
  },
  {
   "cell_type": "code",
   "execution_count": 2,
   "metadata": {},
   "outputs": [],
   "source": [
    "# Tokenizer 선언\n",
    "twitter = Okt()\n",
    "komoran = Komoran()\n",
    "kkma = Kkma()"
   ]
  },
  {
   "cell_type": "markdown",
   "metadata": {},
   "source": [
    "참고로 Khaiii는 윈도우 환경에서 돌아가지 않으니 Colab이나 Mac OS를 사용하시면 됩니다."
   ]
  },
  {
   "cell_type": "code",
   "execution_count": 3,
   "metadata": {},
   "outputs": [],
   "source": [
    "text = '은빛하늘 하얀 꿈 하얀 둥지 틀고 아장아장 작은 설렘 첫눈이 내린다.'"
   ]
  },
  {
   "cell_type": "markdown",
   "metadata": {},
   "source": [
    "## 명사 추출"
   ]
  },
  {
   "cell_type": "code",
   "execution_count": 4,
   "metadata": {},
   "outputs": [
    {
     "data": {
      "text/plain": [
       "['은빛', '하늘', '꿈', '둥지', '틀', '눈', '린다']"
      ]
     },
     "execution_count": 4,
     "metadata": {},
     "output_type": "execute_result"
    }
   ],
   "source": [
    "# twitter(Okt)\n",
    "twitter.nouns(text)"
   ]
  },
  {
   "cell_type": "code",
   "execution_count": 5,
   "metadata": {},
   "outputs": [
    {
     "data": {
      "text/plain": [
       "['은빛', '하늘', '꿈', '둥지', '아', '장', '아', '장', '눈이 내린다']"
      ]
     },
     "execution_count": 5,
     "metadata": {},
     "output_type": "execute_result"
    }
   ],
   "source": [
    "# komoran\n",
    "komoran.nouns(text)"
   ]
  },
  {
   "cell_type": "code",
   "execution_count": 6,
   "metadata": {},
   "outputs": [
    {
     "data": {
      "text/plain": [
       "['은빛', '은빛하늘', '하늘', '꿈', '둥지', '설', '설렘', '렘', '첫눈']"
      ]
     },
     "execution_count": 6,
     "metadata": {},
     "output_type": "execute_result"
    }
   ],
   "source": [
    "# kkma\n",
    "kkma.nouns(text)"
   ]
  },
  {
   "cell_type": "markdown",
   "metadata": {},
   "source": [
    "## 형태소 추출"
   ]
  },
  {
   "cell_type": "code",
   "execution_count": 56,
   "metadata": {},
   "outputs": [
    {
     "data": {
      "text/plain": [
       "['은빛',\n",
       " '하늘',\n",
       " '하얀',\n",
       " '꿈',\n",
       " '하얀',\n",
       " '둥지',\n",
       " '틀',\n",
       " '고',\n",
       " '아장아장',\n",
       " '작은',\n",
       " '설렘',\n",
       " '첫',\n",
       " '눈',\n",
       " '이',\n",
       " '내',\n",
       " '린다',\n",
       " '.']"
      ]
     },
     "execution_count": 56,
     "metadata": {},
     "output_type": "execute_result"
    }
   ],
   "source": [
    "# twitter(Okt)\n",
    "twitter.morphs(text)"
   ]
  },
  {
   "cell_type": "code",
   "execution_count": 57,
   "metadata": {},
   "outputs": [
    {
     "data": {
      "text/plain": [
       "['은빛',\n",
       " '하늘',\n",
       " '하얗',\n",
       " 'ㄴ',\n",
       " '꿈',\n",
       " '하얗',\n",
       " 'ㄴ',\n",
       " '둥지',\n",
       " '틀',\n",
       " '고',\n",
       " '아',\n",
       " '장',\n",
       " '아',\n",
       " '장',\n",
       " '작',\n",
       " '은',\n",
       " '설레',\n",
       " 'ㅁ',\n",
       " '첫',\n",
       " '눈이 내린다',\n",
       " '.']"
      ]
     },
     "execution_count": 57,
     "metadata": {},
     "output_type": "execute_result"
    }
   ],
   "source": [
    "# komoran\n",
    "komoran.morphs(text)"
   ]
  },
  {
   "cell_type": "code",
   "execution_count": 58,
   "metadata": {},
   "outputs": [
    {
     "data": {
      "text/plain": [
       "['은빛',\n",
       " '하늘',\n",
       " '하얗',\n",
       " 'ㄴ',\n",
       " '꿈',\n",
       " '하얗',\n",
       " 'ㄴ',\n",
       " '둥지',\n",
       " '틀',\n",
       " '고',\n",
       " '아장아장',\n",
       " '작',\n",
       " '은',\n",
       " '설',\n",
       " '렘',\n",
       " '첫눈',\n",
       " '이',\n",
       " '내리',\n",
       " 'ㄴ다',\n",
       " '.']"
      ]
     },
     "execution_count": 58,
     "metadata": {},
     "output_type": "execute_result"
    }
   ],
   "source": [
    "# kkma\n",
    "kkma.morphs(text)"
   ]
  },
  {
   "cell_type": "markdown",
   "metadata": {},
   "source": [
    "## 형태소 품사 태깅"
   ]
  },
  {
   "cell_type": "code",
   "execution_count": 59,
   "metadata": {
    "scrolled": true
   },
   "outputs": [
    {
     "data": {
      "text/plain": [
       "[('은빛', 'Noun'),\n",
       " ('하늘', 'Noun'),\n",
       " ('하얀', 'Adjective'),\n",
       " ('꿈', 'Noun'),\n",
       " ('하얀', 'Adjective'),\n",
       " ('둥지', 'Noun'),\n",
       " ('틀', 'Noun'),\n",
       " ('고', 'Josa'),\n",
       " ('아장아장', 'Adverb'),\n",
       " ('작은', 'Adjective'),\n",
       " ('설렘', 'Adjective'),\n",
       " ('첫', 'Modifier'),\n",
       " ('눈', 'Noun'),\n",
       " ('이', 'Josa'),\n",
       " ('내', 'Determiner'),\n",
       " ('린다', 'Noun'),\n",
       " ('.', 'Punctuation')]"
      ]
     },
     "execution_count": 59,
     "metadata": {},
     "output_type": "execute_result"
    }
   ],
   "source": [
    "# twitter(Okt)\n",
    "twitter.pos(text)"
   ]
  },
  {
   "cell_type": "code",
   "execution_count": 60,
   "metadata": {},
   "outputs": [
    {
     "data": {
      "text/plain": [
       "[('은빛', 'NNG'),\n",
       " ('하늘', 'NNP'),\n",
       " ('하얗', 'VA'),\n",
       " ('ㄴ', 'ETM'),\n",
       " ('꿈', 'NNG'),\n",
       " ('하얗', 'VA'),\n",
       " ('ㄴ', 'ETM'),\n",
       " ('둥지', 'NNP'),\n",
       " ('틀', 'VV'),\n",
       " ('고', 'EC'),\n",
       " ('아', 'NNP'),\n",
       " ('장', 'NNP'),\n",
       " ('아', 'NNP'),\n",
       " ('장', 'NNP'),\n",
       " ('작', 'VA'),\n",
       " ('은', 'ETM'),\n",
       " ('설레', 'VV'),\n",
       " ('ㅁ', 'ETN'),\n",
       " ('첫', 'MM'),\n",
       " ('눈이 내린다', 'NNP'),\n",
       " ('.', 'SF')]"
      ]
     },
     "execution_count": 60,
     "metadata": {},
     "output_type": "execute_result"
    }
   ],
   "source": [
    "# komoran\n",
    "komoran.pos(text)"
   ]
  },
  {
   "cell_type": "code",
   "execution_count": 61,
   "metadata": {},
   "outputs": [
    {
     "data": {
      "text/plain": [
       "[('은빛', 'NNG'),\n",
       " ('하늘', 'NNG'),\n",
       " ('하얗', 'VA'),\n",
       " ('ㄴ', 'ETD'),\n",
       " ('꿈', 'NNG'),\n",
       " ('하얗', 'VA'),\n",
       " ('ㄴ', 'ETD'),\n",
       " ('둥지', 'NNG'),\n",
       " ('틀', 'VV'),\n",
       " ('고', 'ECE'),\n",
       " ('아장아장', 'MAG'),\n",
       " ('작', 'VA'),\n",
       " ('은', 'ETD'),\n",
       " ('설', 'NNG'),\n",
       " ('렘', 'NNM'),\n",
       " ('첫눈', 'NNG'),\n",
       " ('이', 'JKS'),\n",
       " ('내리', 'VV'),\n",
       " ('ㄴ다', 'EFN'),\n",
       " ('.', 'SF')]"
      ]
     },
     "execution_count": 61,
     "metadata": {},
     "output_type": "execute_result"
    }
   ],
   "source": [
    "# kkma\n",
    "kkma.pos(text)"
   ]
  },
  {
   "cell_type": "markdown",
   "metadata": {},
   "source": [
    "# Word Embedding"
   ]
  },
  {
   "cell_type": "code",
   "execution_count": 3,
   "metadata": {},
   "outputs": [],
   "source": [
    "text = \"\"\"\n",
    "깊은 겨울 추위 속에도 창가에서면\n",
    "이 따뜻한 햇살 안에 어둠처럼 웅크린\n",
    "주기적인 우울이 온통 충만해 목이 멘다\n",
    "달큼한 커피향을 즐기고\n",
    "지리한 시간의 거울 앞에 서서\n",
    "젊음이 하나씩 매몰된 자리마다\n",
    "추한 늙음이 자리 잡은 여백은\n",
    "황홀한 빛살로 분주하지만\n",
    "그래도 나의 시간은\n",
    "한적하기만 한 것이어서 행복한 것이다\n",
    "내 모습을 보며 지금 당신은 울고 있는가\n",
    "울지 마라\n",
    "바라보는 그로 족하다는 말처럼\n",
    "아픈 게 어디 있느냐\n",
    "영혼에 접어놓은 그 서러운 가슴을 펼치면\n",
    "저 시린 강변 어디쯤 가오리 연이\n",
    "바람 에다 파르르 고적한 떨림들\n",
    "어찌 아무렇지도 않단 말이냐\n",
    "인생이 아무리 비워내는 것이라 해도\n",
    "외로움은 긴 꼬리로 하늘에 펄럭이고\n",
    "사랑이 값없이 거저 주는 것이라 해도\n",
    "소유하고픈 욕심이야 왜 없겠느냐\n",
    "지고한 그대의 안부마다\n",
    "제 살을 찢으며 보고 파지는\n",
    "그도 고통인 것이다\n",
    "가난한 수의를 베고 누운\n",
    "이 따듯한 햇볕도 그리움인 것이다\n",
    "지극한 사랑인 것이다\n",
    "그러므로 비워내는 건 무엇이건 외로운 법이다\n",
    "\"\"\""
   ]
  },
  {
   "cell_type": "markdown",
   "metadata": {},
   "source": [
    "## Tokenize"
   ]
  },
  {
   "cell_type": "code",
   "execution_count": 4,
   "metadata": {},
   "outputs": [],
   "source": [
    "def make_corpus(text):\n",
    "    corpus = []\n",
    "    for s in text.split('\\n'):\n",
    "        corpus.append(['/'.join(p) for p in twitter.pos(s)]) # 토큰별 품사 태깅된 말뭉치 만들기\n",
    "    return corpus\n",
    "\n",
    "def make_corpus_rm_stopwords(text):\n",
    "    corpus = []\n",
    "    for s in text.split('\\n'):\n",
    "        corpus.append(['/'.join(p) for p in twitter.pos(s) if p[1] != \"Josa\"]) # 임베딩에 필요없는 조사를 불용어로 취급\n",
    "    return corpus"
   ]
  },
  {
   "cell_type": "code",
   "execution_count": 10,
   "metadata": {},
   "outputs": [],
   "source": [
    "# 토큰 모음집 만들기\n",
    "corpus = make_corpus(text)"
   ]
  },
  {
   "cell_type": "code",
   "execution_count": 11,
   "metadata": {
    "scrolled": true
   },
   "outputs": [
    {
     "data": {
      "text/plain": [
       "[[],\n",
       " ['깊은/Adjective',\n",
       "  '겨울/Noun',\n",
       "  '추위/Noun',\n",
       "  '속/Noun',\n",
       "  '에도/Josa',\n",
       "  '창가/Noun',\n",
       "  '에/Josa',\n",
       "  '서면/Noun'],\n",
       " ['이/Noun',\n",
       "  '따뜻한/Adjective',\n",
       "  '햇살/Noun',\n",
       "  '안/Noun',\n",
       "  '에/Josa',\n",
       "  '어둠/Noun',\n",
       "  '처럼/Josa',\n",
       "  '웅크린/Verb'],\n",
       " ['주/Modifier',\n",
       "  '기적/Noun',\n",
       "  '인/Josa',\n",
       "  '우울/Noun',\n",
       "  '이/Josa',\n",
       "  '온통/Noun',\n",
       "  '충만/Noun',\n",
       "  '해/Verb',\n",
       "  '목/Noun',\n",
       "  '이/Josa',\n",
       "  '멘다/Verb'],\n",
       " ['달큼한/Adjective', '커피/Noun', '향/Noun', '을/Josa', '즐기고/Verb'],\n",
       " ['지리한/Adjective',\n",
       "  '시간/Noun',\n",
       "  '의/Josa',\n",
       "  '거울/Noun',\n",
       "  '앞/Noun',\n",
       "  '에/Josa',\n",
       "  '서서/Noun'],\n",
       " ['젊음/Noun',\n",
       "  '이/Josa',\n",
       "  '하나/Noun',\n",
       "  '씩/Suffix',\n",
       "  '매몰/Noun',\n",
       "  '된/Verb',\n",
       "  '자리/Noun',\n",
       "  '마다/Josa'],\n",
       " ['추한/Adjective',\n",
       "  '늙음/Noun',\n",
       "  '이/Josa',\n",
       "  '자리/Noun',\n",
       "  '잡은/Verb',\n",
       "  '여백/Noun',\n",
       "  '은/Josa'],\n",
       " ['황홀한/Adjective', '빛/Noun', '살로/Noun', '분주하지만/Adjective'],\n",
       " ['그래도/Adverb', '나/Noun', '의/Josa', '시간/Noun', '은/Josa'],\n",
       " ['한적하기만/Adjective',\n",
       "  '한/Verb',\n",
       "  '것/Noun',\n",
       "  '이어서/Josa',\n",
       "  '행복한/Adjective',\n",
       "  '것/Noun',\n",
       "  '이다/Josa'],\n",
       " ['내/Noun',\n",
       "  '모습/Noun',\n",
       "  '을/Josa',\n",
       "  '보며/Verb',\n",
       "  '지금/Noun',\n",
       "  '당신/Noun',\n",
       "  '은/Josa',\n",
       "  '울/Noun',\n",
       "  '고/Josa',\n",
       "  '있는가/Adjective'],\n",
       " ['울/Noun', '지/Josa', '마라/Adjective'],\n",
       " ['바라보는/Verb', '그로/Noun', '족/Noun', '하다는/Verb', '말/Noun', '처럼/Josa'],\n",
       " ['아픈/Adjective', '게/Noun', '어디/Noun', '있느냐/Adjective'],\n",
       " ['영혼/Noun',\n",
       "  '에/Josa',\n",
       "  '접어놓은/Verb',\n",
       "  '그/Noun',\n",
       "  '서러운/Adjective',\n",
       "  '가슴/Noun',\n",
       "  '을/Josa',\n",
       "  '펼치면/Verb'],\n",
       " ['저/Noun',\n",
       "  '시린/Adjective',\n",
       "  '강변/Noun',\n",
       "  '어디/Noun',\n",
       "  '쯤/Suffix',\n",
       "  '가오리/Noun',\n",
       "  '연/Noun',\n",
       "  '이/Josa'],\n",
       " ['바람/Noun',\n",
       "  '에다/Josa',\n",
       "  '파르르/Adverb',\n",
       "  '고적/Noun',\n",
       "  '한/Josa',\n",
       "  '떨림/Verb',\n",
       "  '들/Verb'],\n",
       " ['어찌/Noun', '아무렇지도/Adjective', '않단/Verb', '말/Noun', '이냐/Josa'],\n",
       " ['인생/Noun',\n",
       "  '이/Josa',\n",
       "  '아무리/Adverb',\n",
       "  '비워내는/Verb',\n",
       "  '것/Noun',\n",
       "  '이라/Josa',\n",
       "  '해도/Noun'],\n",
       " ['외로움/Noun',\n",
       "  '은/Josa',\n",
       "  '긴/Verb',\n",
       "  '꼬리/Noun',\n",
       "  '로/Josa',\n",
       "  '하늘/Noun',\n",
       "  '에/Josa',\n",
       "  '펄럭/Noun',\n",
       "  '이고/Josa'],\n",
       " ['사랑/Noun',\n",
       "  '이/Josa',\n",
       "  '값/Noun',\n",
       "  '없이/Adverb',\n",
       "  '거저/Noun',\n",
       "  '주는/Verb',\n",
       "  '것/Noun',\n",
       "  '이라/Josa',\n",
       "  '해도/Noun'],\n",
       " ['소유/Noun', '하고픈/Verb', '욕심/Noun', '이야/Josa', '왜/Noun', '없겠느냐/Adjective'],\n",
       " ['지고/Noun', '한/Josa', '그대/Noun', '의/Josa', '안부/Noun', '마다/Josa'],\n",
       " ['제/Noun', '살/Noun', '을/Josa', '찢으며/Verb', '보고/Noun', '파지는/Verb'],\n",
       " ['그/Noun', '도/Josa', '고통/Noun', '인/Josa', '것/Noun', '이다/Josa'],\n",
       " ['가난한/Adjective', '수의/Noun', '를/Josa', '베고/Verb', '누운/Noun'],\n",
       " ['이/Noun',\n",
       "  '따듯/Verb',\n",
       "  '한/Determiner',\n",
       "  '햇볕/Noun',\n",
       "  '도/Josa',\n",
       "  '그리움/Noun',\n",
       "  '인/Josa',\n",
       "  '것/Noun',\n",
       "  '이다/Josa'],\n",
       " ['지극/Noun', '한/Josa', '사랑/Noun', '인/Josa', '것/Noun', '이다/Josa'],\n",
       " ['그러므로/Conjunction',\n",
       "  '비워내는/Verb',\n",
       "  '건/Noun',\n",
       "  '무엇/Noun',\n",
       "  '이건/Noun',\n",
       "  '외로운/Adjective',\n",
       "  '법/Noun',\n",
       "  '이다/Josa'],\n",
       " []]"
      ]
     },
     "execution_count": 11,
     "metadata": {},
     "output_type": "execute_result"
    }
   ],
   "source": [
    "corpus"
   ]
  },
  {
   "cell_type": "code",
   "execution_count": 5,
   "metadata": {},
   "outputs": [],
   "source": [
    "# 특수문자(여기서는 조사를) 제거\n",
    "corpus = make_corpus_rm_stopwords(text)"
   ]
  },
  {
   "cell_type": "code",
   "execution_count": 67,
   "metadata": {
    "scrolled": true
   },
   "outputs": [
    {
     "data": {
      "text/plain": [
       "[[],\n",
       " ['깊은/Adjective', '겨울/Noun', '추위/Noun', '속/Noun', '창가/Noun', '서면/Noun'],\n",
       " ['이/Noun', '따뜻한/Adjective', '햇살/Noun', '안/Noun', '어둠/Noun', '웅크린/Verb'],\n",
       " ['주/Modifier',\n",
       "  '기적/Noun',\n",
       "  '우울/Noun',\n",
       "  '온통/Noun',\n",
       "  '충만/Noun',\n",
       "  '해/Verb',\n",
       "  '목/Noun',\n",
       "  '멘다/Verb'],\n",
       " ['달큼한/Adjective', '커피/Noun', '향/Noun', '즐기고/Verb'],\n",
       " ['지리한/Adjective', '시간/Noun', '거울/Noun', '앞/Noun', '서서/Noun'],\n",
       " ['젊음/Noun', '하나/Noun', '씩/Suffix', '매몰/Noun', '된/Verb', '자리/Noun'],\n",
       " ['추한/Adjective', '늙음/Noun', '자리/Noun', '잡은/Verb', '여백/Noun'],\n",
       " ['황홀한/Adjective', '빛/Noun', '살로/Noun', '분주하지만/Adjective'],\n",
       " ['그래도/Adverb', '나/Noun', '시간/Noun'],\n",
       " ['한적하기만/Adjective', '한/Verb', '것/Noun', '행복한/Adjective', '것/Noun'],\n",
       " ['내/Noun',\n",
       "  '모습/Noun',\n",
       "  '보며/Verb',\n",
       "  '지금/Noun',\n",
       "  '당신/Noun',\n",
       "  '울/Noun',\n",
       "  '있는가/Adjective'],\n",
       " ['울/Noun', '마라/Adjective'],\n",
       " ['바라보는/Verb', '그로/Noun', '족/Noun', '하다는/Verb', '말/Noun'],\n",
       " ['아픈/Adjective', '게/Noun', '어디/Noun', '있느냐/Adjective'],\n",
       " ['영혼/Noun', '접어놓은/Verb', '그/Noun', '서러운/Adjective', '가슴/Noun', '펼치면/Verb'],\n",
       " ['저/Noun',\n",
       "  '시린/Adjective',\n",
       "  '강변/Noun',\n",
       "  '어디/Noun',\n",
       "  '쯤/Suffix',\n",
       "  '가오리/Noun',\n",
       "  '연/Noun'],\n",
       " ['바람/Noun', '파르르/Adverb', '고적/Noun', '떨림/Verb', '들/Verb'],\n",
       " ['어찌/Noun', '아무렇지도/Adjective', '않단/Verb', '말/Noun'],\n",
       " ['인생/Noun', '아무리/Adverb', '비워내는/Verb', '것/Noun', '해도/Noun'],\n",
       " ['외로움/Noun', '긴/Verb', '꼬리/Noun', '하늘/Noun', '펄럭/Noun'],\n",
       " ['사랑/Noun', '값/Noun', '없이/Adverb', '거저/Noun', '주는/Verb', '것/Noun', '해도/Noun'],\n",
       " ['소유/Noun', '하고픈/Verb', '욕심/Noun', '왜/Noun', '없겠느냐/Adjective'],\n",
       " ['지고/Noun', '그대/Noun', '안부/Noun'],\n",
       " ['제/Noun', '살/Noun', '찢으며/Verb', '보고/Noun', '파지는/Verb'],\n",
       " ['그/Noun', '고통/Noun', '것/Noun'],\n",
       " ['가난한/Adjective', '수의/Noun', '베고/Verb', '누운/Noun'],\n",
       " ['이/Noun', '따듯/Verb', '한/Determiner', '햇볕/Noun', '그리움/Noun', '것/Noun'],\n",
       " ['지극/Noun', '사랑/Noun', '것/Noun'],\n",
       " ['그러므로/Conjunction',\n",
       "  '비워내는/Verb',\n",
       "  '건/Noun',\n",
       "  '무엇/Noun',\n",
       "  '이건/Noun',\n",
       "  '외로운/Adjective',\n",
       "  '법/Noun'],\n",
       " []]"
      ]
     },
     "execution_count": 67,
     "metadata": {},
     "output_type": "execute_result"
    }
   ],
   "source": [
    "corpus"
   ]
  },
  {
   "cell_type": "markdown",
   "metadata": {},
   "source": [
    "## Train"
   ]
  },
  {
   "cell_type": "code",
   "execution_count": 14,
   "metadata": {},
   "outputs": [],
   "source": [
    "# 임베딩 모델로 Skip-gram 모델 생성\n",
    "Skip_Gram_model = Word2Vec(corpus, size=2, window=3, min_count=1, workers=1, iter=1000, sg=1)"
   ]
  },
  {
   "cell_type": "markdown",
   "metadata": {},
   "source": [
    "### parameter\n",
    "\n",
    "- corpus format : [[\"my\", \"name\", \"is\", \"jamie\"], [\"jamie\", \"is\", \"cute\"]]\n",
    "- size : 임베딩 차원\n",
    "- window : 윈도우 사이즈\n",
    "- min_count : 고려할 단어의 최소 빈도 기준\n",
    "- workers : cpu core 수\n",
    "- iter : 반복 학습 횟수(epoch)\n",
    "- sg : 0 -> CBOW, 1 -> Skip-Gram\n"
   ]
  },
  {
   "cell_type": "markdown",
   "metadata": {},
   "source": [
    "## Test & Result"
   ]
  },
  {
   "cell_type": "code",
   "execution_count": 24,
   "metadata": {},
   "outputs": [
    {
     "data": {
      "text/plain": [
       "['것/Noun',\n",
       " '이/Noun',\n",
       " '시간/Noun',\n",
       " '자리/Noun',\n",
       " '울/Noun',\n",
       " '말/Noun',\n",
       " '어디/Noun',\n",
       " '그/Noun',\n",
       " '비워내는/Verb',\n",
       " '해도/Noun',\n",
       " '사랑/Noun',\n",
       " '깊은/Adjective',\n",
       " '겨울/Noun',\n",
       " '추위/Noun',\n",
       " '속/Noun',\n",
       " '창가/Noun',\n",
       " '서면/Noun',\n",
       " '따뜻한/Adjective',\n",
       " '햇살/Noun',\n",
       " '안/Noun',\n",
       " '어둠/Noun',\n",
       " '웅크린/Verb',\n",
       " '주/Modifier',\n",
       " '기적/Noun',\n",
       " '우울/Noun',\n",
       " '온통/Noun',\n",
       " '충만/Noun',\n",
       " '해/Verb',\n",
       " '목/Noun',\n",
       " '멘다/Verb',\n",
       " '달큼한/Adjective',\n",
       " '커피/Noun',\n",
       " '향/Noun',\n",
       " '즐기고/Verb',\n",
       " '지리한/Adjective',\n",
       " '거울/Noun',\n",
       " '앞/Noun',\n",
       " '서서/Noun',\n",
       " '젊음/Noun',\n",
       " '하나/Noun',\n",
       " '씩/Suffix',\n",
       " '매몰/Noun',\n",
       " '된/Verb',\n",
       " '추한/Adjective',\n",
       " '늙음/Noun',\n",
       " '잡은/Verb',\n",
       " '여백/Noun',\n",
       " '황홀한/Adjective',\n",
       " '빛/Noun',\n",
       " '살로/Noun',\n",
       " '분주하지만/Adjective',\n",
       " '그래도/Adverb',\n",
       " '나/Noun',\n",
       " '한적하기만/Adjective',\n",
       " '한/Verb',\n",
       " '행복한/Adjective',\n",
       " '내/Noun',\n",
       " '모습/Noun',\n",
       " '보며/Verb',\n",
       " '지금/Noun',\n",
       " '당신/Noun',\n",
       " '있는가/Adjective',\n",
       " '마라/Adjective',\n",
       " '바라보는/Verb',\n",
       " '그로/Noun',\n",
       " '족/Noun',\n",
       " '하다는/Verb',\n",
       " '아픈/Adjective',\n",
       " '게/Noun',\n",
       " '있느냐/Adjective',\n",
       " '영혼/Noun',\n",
       " '접어놓은/Verb',\n",
       " '서러운/Adjective',\n",
       " '가슴/Noun',\n",
       " '펼치면/Verb',\n",
       " '저/Noun',\n",
       " '시린/Adjective',\n",
       " '강변/Noun',\n",
       " '쯤/Suffix',\n",
       " '가오리/Noun',\n",
       " '연/Noun',\n",
       " '바람/Noun',\n",
       " '파르르/Adverb',\n",
       " '고적/Noun',\n",
       " '떨림/Verb',\n",
       " '들/Verb',\n",
       " '어찌/Noun',\n",
       " '아무렇지도/Adjective',\n",
       " '않단/Verb',\n",
       " '인생/Noun',\n",
       " '아무리/Adverb',\n",
       " '외로움/Noun',\n",
       " '긴/Verb',\n",
       " '꼬리/Noun',\n",
       " '하늘/Noun',\n",
       " '펄럭/Noun',\n",
       " '값/Noun',\n",
       " '없이/Adverb',\n",
       " '거저/Noun',\n",
       " '주는/Verb',\n",
       " '소유/Noun',\n",
       " '하고픈/Verb',\n",
       " '욕심/Noun',\n",
       " '왜/Noun',\n",
       " '없겠느냐/Adjective',\n",
       " '지고/Noun',\n",
       " '그대/Noun',\n",
       " '안부/Noun',\n",
       " '제/Noun',\n",
       " '살/Noun',\n",
       " '찢으며/Verb',\n",
       " '보고/Noun',\n",
       " '파지는/Verb',\n",
       " '고통/Noun',\n",
       " '가난한/Adjective',\n",
       " '수의/Noun',\n",
       " '베고/Verb',\n",
       " '누운/Noun',\n",
       " '따듯/Verb',\n",
       " '한/Determiner',\n",
       " '햇볕/Noun',\n",
       " '그리움/Noun',\n",
       " '지극/Noun',\n",
       " '그러므로/Conjunction',\n",
       " '건/Noun',\n",
       " '무엇/Noun',\n",
       " '이건/Noun',\n",
       " '외로운/Adjective',\n",
       " '법/Noun']"
      ]
     },
     "execution_count": 24,
     "metadata": {},
     "output_type": "execute_result"
    }
   ],
   "source": [
    "#index2word는 모델의 사전에 있는 단어 명을 담은 리스트\n",
    "words = Skip_Gram_model.wv.index2word # one-hot encoding 알아서 해줌 \n",
    "words"
   ]
  },
  {
   "cell_type": "code",
   "execution_count": 25,
   "metadata": {},
   "outputs": [
    {
     "data": {
      "text/plain": [
       "array([[ 1.3850216e+00, -3.6663610e-01],\n",
       "       [ 2.2963948e+00, -4.4394067e-01],\n",
       "       [ 8.2929641e-01, -6.3215721e-01],\n",
       "       [-1.6729246e-01, -2.4271743e+00],\n",
       "       [-2.5390801e-01, -2.5303438e+00],\n",
       "       [ 1.0054769e-01, -1.4700309e+00],\n",
       "       [-6.2935147e-03, -2.0945060e+00],\n",
       "       [ 7.3854822e-01, -7.7008784e-01],\n",
       "       [ 2.5960858e+00, -4.2139408e-01],\n",
       "       [ 1.9946607e+00, -3.3478633e-01],\n",
       "       [ 1.6522553e+00, -2.6748952e-01],\n",
       "       [-2.8629951e-02, -2.2206724e+00],\n",
       "       [-6.9108732e-02, -2.2749414e+00],\n",
       "       [-2.8705295e-02, -2.2692192e+00],\n",
       "       [-7.0758902e-02, -2.4087534e+00],\n",
       "       [-6.4079419e-02, -2.2475636e+00],\n",
       "       [-1.6527841e-02, -2.2490232e+00],\n",
       "       [ 2.5535016e+00, -4.6168113e-01],\n",
       "       [ 2.6307745e+00, -4.6457812e-01],\n",
       "       [ 2.8231828e+00, -4.8027062e-01],\n",
       "       [ 2.6955884e+00, -4.8409694e-01],\n",
       "       [ 2.6301138e+00, -4.5412016e-01],\n",
       "       [ 2.7473326e+00, -8.1512880e-01],\n",
       "       [ 2.6540105e+00, -7.9967207e-01],\n",
       "       [ 2.8303523e+00, -8.0043030e-01],\n",
       "       [ 3.0413296e+00, -8.3219641e-01],\n",
       "       [ 2.9791005e+00, -8.1383753e-01],\n",
       "       [ 3.0801921e+00, -8.5419971e-01],\n",
       "       [ 2.8472884e+00, -8.0394500e-01],\n",
       "       [ 2.6317756e+00, -8.0594826e-01],\n",
       "       [ 5.0849926e-01, -9.6438777e-01],\n",
       "       [ 5.7692444e-01, -8.7922496e-01],\n",
       "       [ 5.1436085e-01, -9.4509184e-01],\n",
       "       [ 5.4862684e-01, -9.2650622e-01],\n",
       "       [ 9.8729843e-01, -6.6976506e-01],\n",
       "       [ 9.1916877e-01, -6.8218988e-01],\n",
       "       [ 9.8145652e-01, -6.5994549e-01],\n",
       "       [ 9.9204522e-01, -6.9214857e-01],\n",
       "       [-2.7489230e-01, -2.8774607e+00],\n",
       "       [-3.2252684e-01, -3.0001419e+00],\n",
       "       [-3.7258932e-01, -3.2153208e+00],\n",
       "       [-3.3563331e-01, -3.1032364e+00],\n",
       "       [-3.4143505e-01, -3.0101366e+00],\n",
       "       [-3.1969380e-02, -1.8017634e+00],\n",
       "       [-3.0385904e-02, -1.7660708e+00],\n",
       "       [-4.1139431e-02, -1.7499365e+00],\n",
       "       [-2.3105618e-02, -1.7630974e+00],\n",
       "       [ 1.2234519e+00, -4.9464494e-01],\n",
       "       [ 1.1425357e+00, -5.0917268e-01],\n",
       "       [ 1.1743735e+00, -4.9156186e-01],\n",
       "       [ 1.1708236e+00, -5.1289409e-01],\n",
       "       [ 8.0246460e-01, -5.1910621e-01],\n",
       "       [ 5.9741724e-01, -6.2509608e-01],\n",
       "       [ 1.0732152e+00, -4.0410569e-01],\n",
       "       [ 1.0590316e+00, -3.7980717e-01],\n",
       "       [ 1.0675933e+00, -4.1469771e-01],\n",
       "       [-3.7110835e-01, -3.3989065e+00],\n",
       "       [-3.9150819e-01, -3.7296491e+00],\n",
       "       [-4.4284624e-01, -3.8599954e+00],\n",
       "       [-4.5184207e-01, -3.9678037e+00],\n",
       "       [-4.0509894e-01, -3.7145100e+00],\n",
       "       [-3.8485458e-01, -3.4225760e+00],\n",
       "       [-2.0446177e-01, -1.6111557e+00],\n",
       "       [ 3.2340802e-02, -1.6080375e+00],\n",
       "       [ 2.1078281e-02, -1.5929916e+00],\n",
       "       [ 6.3294239e-02, -1.5387874e+00],\n",
       "       [ 3.5583028e-03, -1.6685733e+00],\n",
       "       [ 9.9794939e-02, -1.4942127e+00],\n",
       "       [ 1.2961566e-01, -1.4594293e+00],\n",
       "       [ 1.5959132e-01, -1.4424671e+00],\n",
       "       [ 7.3097152e-01, -9.6609950e-01],\n",
       "       [ 6.9202042e-01, -9.7490752e-01],\n",
       "       [ 7.0900625e-01, -9.7501290e-01],\n",
       "       [ 6.9633204e-01, -9.7896183e-01],\n",
       "       [ 7.2636533e-01, -9.8316842e-01],\n",
       "       [-1.2147986e-02, -2.4448774e+00],\n",
       "       [-3.9254934e-02, -2.4478068e+00],\n",
       "       [-3.8845960e-02, -2.5233126e+00],\n",
       "       [-7.5764962e-02, -2.5028677e+00],\n",
       "       [-2.9752411e-02, -2.4862485e+00],\n",
       "       [-4.6786219e-03, -2.4077384e+00],\n",
       "       [ 1.7125951e+00, -5.4707175e-01],\n",
       "       [ 1.7517426e+00, -5.3033113e-01],\n",
       "       [ 1.7937500e+00, -5.4555362e-01],\n",
       "       [ 1.6714116e+00, -5.6194329e-01],\n",
       "       [ 1.8688437e+00, -5.5372107e-01],\n",
       "       [ 1.2100136e-01, -1.3419588e+00],\n",
       "       [ 1.7366678e-01, -1.2416581e+00],\n",
       "       [ 8.4559985e-02, -1.3103149e+00],\n",
       "       [ 1.7931197e+00, -2.9120213e-01],\n",
       "       [ 1.7521207e+00, -2.9544276e-01],\n",
       "       [ 8.3756551e-02, -2.0251207e+00],\n",
       "       [ 4.1288178e-02, -2.1288011e+00],\n",
       "       [ 2.0648571e-02, -2.0235231e+00],\n",
       "       [ 2.0807099e-02, -2.0791743e+00],\n",
       "       [ 4.7162954e-02, -2.0528517e+00],\n",
       "       [ 2.1200686e+00, -3.1239358e-01],\n",
       "       [ 2.1494873e+00, -3.4032959e-01],\n",
       "       [ 2.1894202e+00, -3.1153518e-01],\n",
       "       [ 2.1529822e+00, -2.9459101e-01],\n",
       "       [-1.8888026e-01, -2.4033179e+00],\n",
       "       [-1.9733448e-01, -2.6159482e+00],\n",
       "       [-2.3745403e-01, -2.5242317e+00],\n",
       "       [-2.0987853e-01, -2.6132486e+00],\n",
       "       [-2.0495340e-01, -2.5029449e+00],\n",
       "       [ 5.6083184e-01, -6.3881344e-01],\n",
       "       [ 4.2354926e-01, -7.1323639e-01],\n",
       "       [ 4.9999678e-01, -6.4789051e-01],\n",
       "       [ 2.7825172e+00, -4.3998644e-01],\n",
       "       [ 2.8401201e+00, -4.1643634e-01],\n",
       "       [ 2.9148495e+00, -4.0556183e-01],\n",
       "       [ 2.9509976e+00, -4.3865383e-01],\n",
       "       [ 2.7759352e+00, -4.5761666e-01],\n",
       "       [ 7.4624145e-01, -5.0996190e-01],\n",
       "       [ 6.5119386e-01, -8.6548615e-01],\n",
       "       [ 6.8110573e-01, -8.2252085e-01],\n",
       "       [ 6.7251956e-01, -8.2576048e-01],\n",
       "       [ 6.3442260e-01, -8.8985175e-01],\n",
       "       [ 1.7583628e+00, -4.5645249e-01],\n",
       "       [ 1.7851489e+00, -4.5342445e-01],\n",
       "       [ 1.6914577e+00, -4.8714268e-01],\n",
       "       [ 1.7329464e+00, -4.6045867e-01],\n",
       "       [ 1.1417532e+00, -2.5182876e-01],\n",
       "       [ 3.1611600e+00, -4.6486154e-01],\n",
       "       [ 3.3618402e+00, -4.7205123e-01],\n",
       "       [ 3.4941175e+00, -5.1384491e-01],\n",
       "       [ 3.5367506e+00, -4.9844918e-01],\n",
       "       [ 3.4379833e+00, -5.3339350e-01],\n",
       "       [ 3.1459501e+00, -4.7214782e-01]], dtype=float32)"
      ]
     },
     "execution_count": 25,
     "metadata": {},
     "output_type": "execute_result"
    }
   ],
   "source": [
    "# text 토큰 임베딩 벡터\n",
    "vectors = Skip_Gram_model.wv.vectors\n",
    "vectors"
   ]
  },
  {
   "cell_type": "code",
   "execution_count": 72,
   "metadata": {},
   "outputs": [],
   "source": [
    "# 토큰과 벡터 묶기\n",
    "Skip_Gram_model_result = dict(zip(words, vectors))"
   ]
  },
  {
   "cell_type": "code",
   "execution_count": 22,
   "metadata": {},
   "outputs": [
    {
     "name": "stderr",
     "output_type": "stream",
     "text": [
      "C:\\Users\\tpdud\\anaconda3\\lib\\site-packages\\ipykernel_launcher.py:2: DeprecationWarning: Call to deprecated `most_similar` (Method will be removed in 4.0.0, use self.wv.most_similar() instead).\n",
      "  \n"
     ]
    },
    {
     "data": {
      "text/plain": [
       "[('비워내는/Verb', 1.0),\n",
       " ('사랑/Noun', 0.9999998807907104),\n",
       " ('파지는/Verb', 0.9999971389770508),\n",
       " ('없이/Adverb', 0.9999920725822449),\n",
       " ('제/Noun', 0.9999912977218628)]"
      ]
     },
     "execution_count": 22,
     "metadata": {},
     "output_type": "execute_result"
    }
   ],
   "source": [
    "# 코사인 유사도 기반 '영혼' 토큰과 유사한 토큰 top5 뽑아보기\n",
    "Skip_Gram_model.most_similar('인생/Noun', topn=5)"
   ]
  },
  {
   "cell_type": "code",
   "execution_count": 26,
   "metadata": {
    "scrolled": true
   },
   "outputs": [
    {
     "data": {
      "text/html": [
       "<div>\n",
       "<style scoped>\n",
       "    .dataframe tbody tr th:only-of-type {\n",
       "        vertical-align: middle;\n",
       "    }\n",
       "\n",
       "    .dataframe tbody tr th {\n",
       "        vertical-align: top;\n",
       "    }\n",
       "\n",
       "    .dataframe thead th {\n",
       "        text-align: right;\n",
       "    }\n",
       "</style>\n",
       "<table border=\"1\" class=\"dataframe\">\n",
       "  <thead>\n",
       "    <tr style=\"text-align: right;\">\n",
       "      <th></th>\n",
       "      <th>word</th>\n",
       "      <th>x1</th>\n",
       "      <th>x2</th>\n",
       "    </tr>\n",
       "  </thead>\n",
       "  <tbody>\n",
       "    <tr>\n",
       "      <th>0</th>\n",
       "      <td>것/Noun</td>\n",
       "      <td>1.385022</td>\n",
       "      <td>-0.366636</td>\n",
       "    </tr>\n",
       "    <tr>\n",
       "      <th>1</th>\n",
       "      <td>이/Noun</td>\n",
       "      <td>2.296395</td>\n",
       "      <td>-0.443941</td>\n",
       "    </tr>\n",
       "    <tr>\n",
       "      <th>2</th>\n",
       "      <td>시간/Noun</td>\n",
       "      <td>0.829296</td>\n",
       "      <td>-0.632157</td>\n",
       "    </tr>\n",
       "    <tr>\n",
       "      <th>3</th>\n",
       "      <td>자리/Noun</td>\n",
       "      <td>-0.167292</td>\n",
       "      <td>-2.427174</td>\n",
       "    </tr>\n",
       "    <tr>\n",
       "      <th>4</th>\n",
       "      <td>울/Noun</td>\n",
       "      <td>-0.253908</td>\n",
       "      <td>-2.530344</td>\n",
       "    </tr>\n",
       "    <tr>\n",
       "      <th>...</th>\n",
       "      <td>...</td>\n",
       "      <td>...</td>\n",
       "      <td>...</td>\n",
       "    </tr>\n",
       "    <tr>\n",
       "      <th>124</th>\n",
       "      <td>건/Noun</td>\n",
       "      <td>3.361840</td>\n",
       "      <td>-0.472051</td>\n",
       "    </tr>\n",
       "    <tr>\n",
       "      <th>125</th>\n",
       "      <td>무엇/Noun</td>\n",
       "      <td>3.494117</td>\n",
       "      <td>-0.513845</td>\n",
       "    </tr>\n",
       "    <tr>\n",
       "      <th>126</th>\n",
       "      <td>이건/Noun</td>\n",
       "      <td>3.536751</td>\n",
       "      <td>-0.498449</td>\n",
       "    </tr>\n",
       "    <tr>\n",
       "      <th>127</th>\n",
       "      <td>외로운/Adjective</td>\n",
       "      <td>3.437983</td>\n",
       "      <td>-0.533394</td>\n",
       "    </tr>\n",
       "    <tr>\n",
       "      <th>128</th>\n",
       "      <td>법/Noun</td>\n",
       "      <td>3.145950</td>\n",
       "      <td>-0.472148</td>\n",
       "    </tr>\n",
       "  </tbody>\n",
       "</table>\n",
       "<p>129 rows × 3 columns</p>\n",
       "</div>"
      ],
      "text/plain": [
       "              word        x1        x2\n",
       "0           것/Noun  1.385022 -0.366636\n",
       "1           이/Noun  2.296395 -0.443941\n",
       "2          시간/Noun  0.829296 -0.632157\n",
       "3          자리/Noun -0.167292 -2.427174\n",
       "4           울/Noun -0.253908 -2.530344\n",
       "..             ...       ...       ...\n",
       "124         건/Noun  3.361840 -0.472051\n",
       "125        무엇/Noun  3.494117 -0.513845\n",
       "126        이건/Noun  3.536751 -0.498449\n",
       "127  외로운/Adjective  3.437983 -0.533394\n",
       "128         법/Noun  3.145950 -0.472148\n",
       "\n",
       "[129 rows x 3 columns]"
      ]
     },
     "execution_count": 26,
     "metadata": {},
     "output_type": "execute_result"
    }
   ],
   "source": [
    "# 단어에 따른 임베딩 벡터 확인하기\n",
    "import pandas as pd\n",
    "w2v_df = pd.DataFrame(vectors, columns = ['x1', 'x2'])\n",
    "w2v_df['word'] = words\n",
    "w2v_df = w2v_df[['word', 'x1', 'x2']]\n",
    "w2v_df"
   ]
  },
  {
   "cell_type": "code",
   "execution_count": 27,
   "metadata": {},
   "outputs": [
    {
     "name": "stderr",
     "output_type": "stream",
     "text": [
      "C:\\Users\\tpdud\\anaconda3\\lib\\site-packages\\matplotlib\\backends\\backend_agg.py:238: RuntimeWarning: Glyph 8722 missing from current font.\n",
      "  font.set_text(s, 0.0, flags=flags)\n",
      "C:\\Users\\tpdud\\anaconda3\\lib\\site-packages\\matplotlib\\backends\\backend_agg.py:201: RuntimeWarning: Glyph 8722 missing from current font.\n",
      "  font.set_text(s, 0, flags=flags)\n"
     ]
    },
    {
     "data": {
      "image/png": "[encoded data removed]",
      "text/plain": [
       "<Figure size 432x288 with 1 Axes>"
      ]
     },
     "metadata": {
      "needs_background": "light"
     },
     "output_type": "display_data"
    }
   ],
   "source": [
    "# 단어 임베딩 결과 시각화\n",
    "import matplotlib.pyplot as plt\n",
    "import numpy as np\n",
    "warnings.filterwarnings(\"ignore\", category=DeprecationWarning) \n",
    "plt.rc('font', family='Malgun Gothic')\n",
    "\n",
    "fig, ax = plt.subplots()\n",
    "\n",
    "for word, x1, x2 in zip(w2v_df['word'], w2v_df['x1'], w2v_df['x2']):\n",
    "    ax.annotate(word, (x1,x2 ))\n",
    "    \n",
    "PADDING = 1.0\n",
    "x_axis_min = np.amin(vectors, axis=0)[0] - PADDING\n",
    "y_axis_min = np.amin(vectors, axis=0)[1] - PADDING\n",
    "x_axis_max = np.amax(vectors, axis=0)[0] + PADDING\n",
    "y_axis_max = np.amax(vectors, axis=0)[1] + PADDING\n",
    " \n",
    "plt.xlim(x_axis_min,x_axis_max)\n",
    "plt.ylim(y_axis_min,y_axis_max)\n",
    "plt.rcParams[\"figure.figsize\"] = (10,10)\n",
    "\n",
    "plt.show()"
   ]
  },
  {
   "cell_type": "code",
   "execution_count": null,
   "metadata": {},
   "outputs": [],
   "source": []
  }
 ],
 "metadata": {
  "anaconda-cloud": {},
  "kernelspec": {
   "display_name": "Python 3",
   "language": "python",
   "name": "python3"
  },
  "language_info": {
   "codemirror_mode": {
    "name": "ipython",
    "version": 3
   },
   "file_extension": ".py",
   "mimetype": "text/x-python",
   "name": "python",
   "nbconvert_exporter": "python",
   "pygments_lexer": "ipython3",
   "version": "3.7.9"
  }
 },
 "nbformat": 4,
 "nbformat_minor": 2
}
