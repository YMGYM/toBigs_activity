{
 "cells": [
  {
   "cell_type": "markdown",
   "metadata": {
    "id": "lqHSUXBAp2DQ"
   },
   "source": [
    "# 투빅스 15기 정규세션 10주차 DCGAN 구현 과제\n",
    "\"빈칸\" 부분을 채우는 과제입니다. \"빈칸\"뿐만 아니라 중간중간 주석 또는 마크다운으로 설명 부탁드립니다  \n",
    "https://github.com/pytorch/tutorials/blob/master/beginner_source/dcgan_faces_tutorial.py  \n",
    "위의 주소는 pytorch dcgan 공식 튜토리얼 코드로 해당 코드를 바탕으로 과제를 만들었습니다. 튜토리얼 코드와 과제 코드가 상당부분 유사하므로 어려운 점이 있을 때 참고하면 좋을 것 같습니다  \n",
    "다만, 그대로 복붙이 아닌 코드를 이해해 나가면서 과제를 수행해주시기 바랍니다  \n",
    "마지막 과제인 만큼 다들 화이팅!"
   ]
  },
  {
   "cell_type": "markdown",
   "metadata": {
    "id": "zW6ONB7fqANg"
   },
   "source": [
    "## 드라이브 연결 (코랩 기본 저장소를 사용하여 사용하지 않았습니다.)"
   ]
  },
  {
   "cell_type": "code",
   "execution_count": null,
   "metadata": {
    "colab": {
     "base_uri": "https://localhost:8080/",
     "height": 0
    },
    "id": "8sl5iSXfj9Et",
    "outputId": "efddf7af-d2dc-48cc-843a-16ffb849989b"
   },
   "outputs": [],
   "source": [
    "# gdrive에 mount\n",
    "from google.colab import drive\n",
    "drive.mount('/content/gdrive')\n",
    "# 경로 설정\n",
    "# import os\n",
    "# os.chdir('/content/gdrive/My Drive/')"
   ]
  },
  {
   "cell_type": "markdown",
   "metadata": {
    "id": "XlrC-8uBqFbK"
   },
   "source": [
    "## 패키지 임포트"
   ]
  },
  {
   "cell_type": "code",
   "execution_count": 2,
   "metadata": {
    "id": "1jXGcTmgk4sf"
   },
   "outputs": [],
   "source": [
    "%matplotlib inline\n",
    "from matplotlib import pyplot as plt\n",
    "import random\n",
    "import torch\n",
    "import torch.nn as nn\n",
    "import torch.optim as optim\n",
    "import torch.utils.data\n",
    "import torchvision.datasets as dset\n",
    "import torchvision.transforms as transforms"
   ]
  },
  {
   "cell_type": "markdown",
   "metadata": {
    "id": "mS080UbJqKMQ"
   },
   "source": [
    "## MNIST 데이터 불러오기\n",
    "기존의 MNIST 손글씨 데이터의 경우 1x28x28 이미지 -> dcgan 모델 적용을 위해 1x64x64 이미지로 크기 조절 (물론 28x28이미지도 사용가능하지만 네트워크 구조 수정 필요)  \n",
    "처음 데이터를 사용할때는 download=True로 데이터를 다운 받기  \n",
    "이후에 사용할때는 데이터가 이미 다운되있으므로 download=False로 바꿔서 사용"
   ]
  },
  {
   "cell_type": "code",
   "execution_count": 4,
   "metadata": {
    "colab": {
     "base_uri": "https://localhost:8080/",
     "height": 811,
     "referenced_widgets": [
      "1387888c3b1042678285d300e7d2ece3",
      "892ec034aa3e462e9fa0760cf29c904f",
      "5038c298f1184eb58dfdf471c5e6af10",
      "a618fb0f6a584851adf01bcfee8d499d",
      "251e3eb270cd4a5791454120787b702b",
      "a8a270f4ba874de7a36478d50698318d",
      "5c8572f701d44106a1ede077323dd73c",
      "00156f9a44794eec88d0fabf21677762",
      "f71bb633f34d460c9c502e96de6a1b6d",
      "8c73ea2162524bdd8efe23a94409d507",
      "ea3b719488a7475bbc950521aa3bf579",
      "5a1bf9e9bd334686b1613289e5dfb9ab",
      "4a18b6ea0e0d48b6907310ba8bcfa777",
      "9130b26273524a8fb577c1fb69f45bfc",
      "8fe8261bbd4f449cbe9fc5fa53446dd6",
      "05811c5ff5c941758537fba2788513a0",
      "7496acde62974b04a1228d07dff350c8",
      "ae87e7b5163f488599b1b795619135d0",
      "7e46a8d87b774cc688368f0c1812b86f",
      "76850950b4764987b8ebd288c9a62dfc",
      "4cf17352d6b74a7cad3c0f6504b6d80d",
      "8c1b65e577c5408fa6b5f0e19cbc29ae",
      "50097197c947447290b9d85299a0eee7",
      "1a127119966a49d8be204fafee16ecf2",
      "8c0fa6d47c654bc2a25226dcea959f90",
      "b86f4e15b3c94786a063e5b141af6509",
      "fa3952697c4b485299de03f378f38064",
      "9d85c5759c9c4ace8976773ffa0fbc85",
      "f742217644f348b89a393bdcf4b2f881",
      "cdf5bbab52ad47e3bb654eb58ca2dc1c",
      "930f53f4d75f42cab109f4521d1af86f",
      "e7eb4464f1ec4ba5b3be72faf6a305b7"
     ]
    },
    "id": "4kg3Cy9kk55K",
    "outputId": "541618d3-223a-46c0-d7a5-041ef6a7c227"
   },
   "outputs": [
    {
     "name": "stdout",
     "output_type": "stream",
     "text": [
      "Downloading http://yann.lecun.com/exdb/mnist/train-images-idx3-ubyte.gz\n",
      "Downloading http://yann.lecun.com/exdb/mnist/train-images-idx3-ubyte.gz to ./mnist_data/MNIST/raw/train-images-idx3-ubyte.gz\n",
      "Failed to download (trying next):\n",
      "HTTP Error 503: Service Unavailable\n",
      "\n",
      "Downloading https://ossci-datasets.s3.amazonaws.com/mnist/train-images-idx3-ubyte.gz\n",
      "Downloading https://ossci-datasets.s3.amazonaws.com/mnist/train-images-idx3-ubyte.gz to ./mnist_data/MNIST/raw/train-images-idx3-ubyte.gz\n"
     ]
    },
    {
     "data": {
      "application/vnd.jupyter.widget-view+json": {
       "model_id": "1387888c3b1042678285d300e7d2ece3",
       "version_major": 2,
       "version_minor": 0
      },
      "text/plain": [
       "HBox(children=(FloatProgress(value=0.0, max=9912422.0), HTML(value='')))"
      ]
     },
     "metadata": {
      "tags": []
     },
     "output_type": "display_data"
    },
    {
     "name": "stdout",
     "output_type": "stream",
     "text": [
      "\n",
      "Extracting ./mnist_data/MNIST/raw/train-images-idx3-ubyte.gz to ./mnist_data/MNIST/raw\n",
      "\n",
      "Downloading http://yann.lecun.com/exdb/mnist/train-labels-idx1-ubyte.gz\n",
      "Downloading http://yann.lecun.com/exdb/mnist/train-labels-idx1-ubyte.gz to ./mnist_data/MNIST/raw/train-labels-idx1-ubyte.gz\n"
     ]
    },
    {
     "data": {
      "application/vnd.jupyter.widget-view+json": {
       "model_id": "f71bb633f34d460c9c502e96de6a1b6d",
       "version_major": 2,
       "version_minor": 0
      },
      "text/plain": [
       "HBox(children=(FloatProgress(value=0.0, max=28881.0), HTML(value='')))"
      ]
     },
     "metadata": {
      "tags": []
     },
     "output_type": "display_data"
    },
    {
     "name": "stdout",
     "output_type": "stream",
     "text": [
      "\n",
      "Extracting ./mnist_data/MNIST/raw/train-labels-idx1-ubyte.gz to ./mnist_data/MNIST/raw\n",
      "\n",
      "Downloading http://yann.lecun.com/exdb/mnist/t10k-images-idx3-ubyte.gz\n",
      "Downloading http://yann.lecun.com/exdb/mnist/t10k-images-idx3-ubyte.gz to ./mnist_data/MNIST/raw/t10k-images-idx3-ubyte.gz\n",
      "Failed to download (trying next):\n",
      "HTTP Error 503: Service Unavailable\n",
      "\n",
      "Downloading https://ossci-datasets.s3.amazonaws.com/mnist/t10k-images-idx3-ubyte.gz\n",
      "Downloading https://ossci-datasets.s3.amazonaws.com/mnist/t10k-images-idx3-ubyte.gz to ./mnist_data/MNIST/raw/t10k-images-idx3-ubyte.gz\n"
     ]
    },
    {
     "data": {
      "application/vnd.jupyter.widget-view+json": {
       "model_id": "7496acde62974b04a1228d07dff350c8",
       "version_major": 2,
       "version_minor": 0
      },
      "text/plain": [
       "HBox(children=(FloatProgress(value=0.0, max=1648877.0), HTML(value='')))"
      ]
     },
     "metadata": {
      "tags": []
     },
     "output_type": "display_data"
    },
    {
     "name": "stdout",
     "output_type": "stream",
     "text": [
      "\n",
      "Extracting ./mnist_data/MNIST/raw/t10k-images-idx3-ubyte.gz to ./mnist_data/MNIST/raw\n",
      "\n",
      "Downloading http://yann.lecun.com/exdb/mnist/t10k-labels-idx1-ubyte.gz\n",
      "Failed to download (trying next):\n",
      "HTTP Error 503: Service Unavailable\n",
      "\n",
      "Downloading https://ossci-datasets.s3.amazonaws.com/mnist/t10k-labels-idx1-ubyte.gz\n",
      "Downloading https://ossci-datasets.s3.amazonaws.com/mnist/t10k-labels-idx1-ubyte.gz to ./mnist_data/MNIST/raw/t10k-labels-idx1-ubyte.gz\n"
     ]
    },
    {
     "data": {
      "application/vnd.jupyter.widget-view+json": {
       "model_id": "8c0fa6d47c654bc2a25226dcea959f90",
       "version_major": 2,
       "version_minor": 0
      },
      "text/plain": [
       "HBox(children=(FloatProgress(value=0.0, max=4542.0), HTML(value='')))"
      ]
     },
     "metadata": {
      "tags": []
     },
     "output_type": "display_data"
    },
    {
     "name": "stdout",
     "output_type": "stream",
     "text": [
      "\n",
      "Extracting ./mnist_data/MNIST/raw/t10k-labels-idx1-ubyte.gz to ./mnist_data/MNIST/raw\n",
      "\n",
      "Processing...\n",
      "Done!\n"
     ]
    },
    {
     "name": "stderr",
     "output_type": "stream",
     "text": [
      "/usr/local/lib/python3.7/dist-packages/torchvision/datasets/mnist.py:502: UserWarning: The given NumPy array is not writeable, and PyTorch does not support non-writeable tensors. This means you can write to the underlying (supposedly non-writeable) NumPy array using the tensor. You may want to copy the array to protect its data or make it writeable before converting it to a tensor. This type of warning will be suppressed for the rest of this program. (Triggered internally at  /pytorch/torch/csrc/utils/tensor_numpy.cpp:143.)\n",
      "  return torch.from_numpy(parsed.astype(m[2], copy=False)).view(*s)\n"
     ]
    }
   ],
   "source": [
    "# MNIST dataset\n",
    "dataroot = './mnist_data/'\n",
    "imageSize = 64 # the height / width of the input image to network\n",
    "\n",
    "dataset = dset.MNIST(root = dataroot, download= True,\n",
    "                     transform = transforms.Compose([\n",
    "                                                     transforms.Resize(imageSize), #이미지 64x64로 크기 변환\n",
    "                                                     transforms.ToTensor(), #텐서자료형으로 변환\n",
    "                                                     transforms.Normalize((0.5,), (0.5,)), #노말라이즈를 통해 -1.~1.의 값을 갖게 변환\n",
    "                     ]))"
   ]
  },
  {
   "cell_type": "markdown",
   "metadata": {
    "id": "cBqDKK5Qp1En"
   },
   "source": [
    "### 데이터 확인하기"
   ]
  },
  {
   "cell_type": "code",
   "execution_count": 5,
   "metadata": {
    "colab": {
     "base_uri": "https://localhost:8080/"
    },
    "id": "JZoKpxaKoIh8",
    "outputId": "5422bc0f-9d1b-4480-bd75-e526dc2f60ec"
   },
   "outputs": [
    {
     "name": "stdout",
     "output_type": "stream",
     "text": [
      "number of training data:  60000\n",
      "Image\n",
      "========================================\n",
      "shape of this image\t: torch.Size([1, 64, 64])\n"
     ]
    }
   ],
   "source": [
    "print('number of training data: ', len(dataset)) #데이터 수 확인\n",
    "image,_ = dataset[0]\n",
    "print('Image')\n",
    "print('========================================')\n",
    "print('shape of this image\\t:', image.shape) #데이터 차원(모양)확인하기"
   ]
  },
  {
   "cell_type": "markdown",
   "metadata": {
    "id": "GFjQbe0SFub7"
   },
   "source": [
    "MNIST 데이터가 총 60000개이며 64*64 사이즈로 올바르게 변환된 것을 확인할 수 있었습니다."
   ]
  },
  {
   "cell_type": "code",
   "execution_count": 6,
   "metadata": {
    "colab": {
     "base_uri": "https://localhost:8080/",
     "height": 211
    },
    "id": "AvL1QHLgoJLs",
    "outputId": "78856c15-09ff-4fab-fd38-ca6b96e1c160"
   },
   "outputs": [
    {
     "data": {
      "image/png": "[encoded data removed]",
      "text/plain": [
       "<Figure size 432x288 with 10 Axes>"
      ]
     },
     "metadata": {
      "tags": []
     },
     "output_type": "display_data"
    }
   ],
   "source": [
    "# 학습 데이터 시각화\n",
    "fig = plt.figure()\n",
    "\n",
    "for i in range(10):\n",
    "    image,_ = dataset[i] # 이미지 배열만 가져온다.\n",
    "    image = (image+1)/2 # 이미지 정규화 풀기.. (안하고 실행해도 무방했습니다.)\n",
    "    image = image.squeeze() # 차원 축소 (채널 제거하고 2차원 행렬로 변환)\n",
    "    np_img = image.numpy() # 넘파이 배열로 변환\n",
    "    \n",
    "    subplot = fig.add_subplot(2, 5, i+1) # 2행 5열로 이미지를 그린다.\n",
    "    subplot.set_xticks([])\n",
    "    subplot.set_yticks([])\n",
    "    subplot.imshow(np_img, cmap = 'gray')\n",
    "\n",
    "plt.show()"
   ]
  },
  {
   "cell_type": "markdown",
   "metadata": {
    "id": "GV1hsEW7r7lH"
   },
   "source": [
    "### 데이터 로더 정의"
   ]
  },
  {
   "cell_type": "code",
   "execution_count": 7,
   "metadata": {
    "id": "dk1AQgq3r60l"
   },
   "outputs": [],
   "source": [
    "# dataloader\n",
    "batch_size = 128 # 논문에서 128개의 배치 사이즈로 학습했으므로 그래도 진행합니다.\n",
    "workers = 2\n",
    "\n",
    "dataloader = torch.utils.data.DataLoader(dataset, batch_size=batch_size,\n",
    "                                         shuffle = True, num_workers = workers)"
   ]
  },
  {
   "cell_type": "markdown",
   "metadata": {
    "id": "50srPc9CsrUW"
   },
   "source": [
    "## device 정의"
   ]
  },
  {
   "cell_type": "code",
   "execution_count": 8,
   "metadata": {
    "colab": {
     "base_uri": "https://localhost:8080/"
    },
    "id": "_1bDrz7ZsvOq",
    "outputId": "3e0e63ee-2695-4541-b933-82eee8a11586"
   },
   "outputs": [
    {
     "name": "stdout",
     "output_type": "stream",
     "text": [
      "cuda:0\n"
     ]
    }
   ],
   "source": [
    "# device\n",
    "device = torch.device(\"cuda:0\" if torch.cuda.is_available() else \"cpu\") # GPU가 사용 가능하면 사용 설정\n",
    "print(device)"
   ]
  },
  {
   "cell_type": "markdown",
   "metadata": {
    "id": "FF2wxeW7s8hf"
   },
   "source": [
    "## 신경망 "
   ]
  },
  {
   "cell_type": "code",
   "execution_count": 9,
   "metadata": {
    "id": "VMoPm64ltmiq"
   },
   "outputs": [],
   "source": [
    "#네트워크 하이퍼파라미터 설정\n",
    "nc = 1 # number of channels in the training images => MNIST 데이터에서는 흑백 이미지이므로 1입니다.\n",
    "nz = 100 # size of z latent vector => 논문에 나온 그대로 진행했습니다. \n",
    "ngf = 64 # size of feature maps in generator => 논문에서는 128로 진행한 것 같은데 문제에 64로 나와 있으니 그대로 두겠습니다!\n",
    "ndf = 64 # size of feature maps in discriminator \n"
   ]
  },
  {
   "cell_type": "markdown",
   "metadata": {
    "id": "CY2ffq8WtDkb"
   },
   "source": [
    "### 신경망 가중치 초기화 함수 정의\n",
    "신경망의 가중치 초기화 방법에 대해 논문에 자세히 나와있습니다.  \n",
    "다음 사이트는 파이토치에서 가중치 초기화에 관련된 글 입니다  \n",
    "https://www.javaer101.com/ko/article/1010427.html"
   ]
  },
  {
   "cell_type": "code",
   "execution_count": 10,
   "metadata": {
    "id": "PuRj6bngtBpr"
   },
   "outputs": [],
   "source": [
    "def weights_init(m):\n",
    "    classname = m.__class__.__name__\n",
    "    if classname.find('Conv') != -1: # Conv 레이어이면..\n",
    "        nn.init.normal_(m.weight.data, 0.0, 0.02) # 논문대로 모든 가중치는 정규분포 (0, 0.02로 초기화합니다.)\n",
    "    elif classname.find('BatchNorm') != -1: # BatchNorm레이어이면..\n",
    "        nn.init.normal_(m.weight.data, 1.0, 0.02) # BatchNorm에 대한 초기화는 논문에는 나와있지 않았습니다. 파이토치 홈페이지를 참고했습니다.\n",
    "        nn.init.constant_(m.bias.data, 0)"
   ]
  },
  {
   "cell_type": "markdown",
   "metadata": {
    "id": "KIzdwP6Otb4Q"
   },
   "source": [
    "### 생성자 클래스\n",
    "\n",
    "trasposed convolution 관련 자료: https://yonghyuc.wordpress.com/2019/08/08/transposed-convolutions-aka-deconvolution/"
   ]
  },
  {
   "cell_type": "code",
   "execution_count": 11,
   "metadata": {
    "id": "uWkHRbFvtbFg"
   },
   "outputs": [],
   "source": [
    "class Generator(nn.Module):\n",
    "    def __init__(self):\n",
    "        super(Generator, self).__init__()\n",
    "        self.main = nn.Sequential(\n",
    "            nn.ConvTranspose2d(in_channels= nz, out_channels=8*ngf, kernel_size=4, stride=1, padding=0, bias=False), # 논문에 나온 조건으로 레이어를 생성합니다. (Z를 업샘플링하여 다차원 벡터로 만드는 과정입니다.)\n",
    "            nn.BatchNorm2d(num_features = 8*ngf), # 세 개 레이어를 제외한 모든 레이어에 BatchNorm이 적용되었다고 논문에 적혀있습니다.\n",
    "            nn.ReLU(inplace = True), # 활성화 함수로 ReLU를 사용합니다.\n",
    "            # => 8*ngf * 4 * 4 의 텐서\n",
    "\n",
    "            nn.ConvTranspose2d(in_channels= 8*ngf, out_channels=4*ngf, kernel_size=4, stride=2, padding=1, bias=False), # 논문에 나온 조건으로 레이어를 생성합니다.\n",
    "            # 논문 문서의 그림에서는 kernel_size를 5로 놓고 쓰지만(?), 문제의 출처에서 사용한 Celeb-A 데이터셋이 오히려 MNIST와 비슷하다고 생각해 토치 사이트의 자료를 참고하였습니다.\n",
    "            nn.BatchNorm2d(num_features = 4*ngf), # 두 개 레이어를 제외한 모든 레이어에 BatchNorm이 적용되었다고 논문에 적혀있습니다.\n",
    "            nn.ReLU(inplace = True), # 활성화 함수로 ReLU를 사용합니다.\n",
    "            # => 4*ngf * 8 * 8 의 텐서\n",
    "\n",
    "            nn.ConvTranspose2d(in_channels= 4*ngf, out_channels=2*ngf, kernel_size=4, stride=2, padding=1, bias=False), # 논문에 나온 조건으로 레이어를 생성합니다.\n",
    "            # 마찬가지로 논문 문서의 그림에서는 kernel_size를 5로 놓고 사용하는 것 같습니다\n",
    "            nn.BatchNorm2d(num_features = 2*ngf), # 두 개 레이어를 제외한 모든 레이어에 BatchNorm이 적용되었다고 논문에 적혀있습니다.\n",
    "            nn.ReLU(inplace = True), # 활성화 함수로 ReLU를 사용합니다.\n",
    "            # => 2*ngf * 16 * 16 의 텐서\n",
    "\n",
    "            nn.ConvTranspose2d(in_channels= 2*ngf, out_channels=ngf, kernel_size=4, stride=2, padding=1, bias=False), # 논문에 나온 조건으로 레이어를 생성합니다.\n",
    "            # 마찬가지로 논문 문서의 그림에서는 kernel_size를 5로 놓고 사용하는 것 같습니다\n",
    "            nn.BatchNorm2d(num_features = ngf), # 두 개 레이어를 제외한 모든 레이어에 BatchNorm이 적용되었다고 논문에 적혀있습니다.\n",
    "            nn.ReLU(inplace = True), # 활성화 함수로 ReLU를 사용합니다.\n",
    "            # => ngf * 32 * 32 의 텐서\n",
    "\n",
    "            nn.ConvTranspose2d(ngf, nc, kernel_size=4, stride=2, padding=1, bias=False ),\n",
    "            nn.Tanh() # 마지막 계층은 BatchNorm을 적용하지 않습니다.\n",
    "            # => nc * 64 * 64 의 텐서\n",
    "        )\n",
    "\n",
    "    def forward(self, input):\n",
    "        return self.main(input) # 만들어 놓은 Sequential에 input데이터를 넣어서 계산합니다."
   ]
  },
  {
   "cell_type": "markdown",
   "metadata": {
    "id": "NXObpWAFPxGX"
   },
   "source": [
    "Transpose2d의 output shape는 다음과 같습니다.\n",
    "\n",
    "\n",
    "> H_out ​= (H_in​−1)×stride[0] − 2×padding[0] + dilation[0]×(kernel_size[0]−1) + output_padding[0] + 1\n",
    "\n",
    "> W_out​ = (W_in​−1)×stride[1] − 2×padding[1] + dilation[1]×(kernel_size[1]−1) + output_padding[1] + 1\n",
    "\n",
    "따라서 두 번째 Conv층의 output 을 계산하면 다음과 같을 것입니다.\n",
    "> (4-1) * 2 - 2 * 1 + 1 * (4-1) + 1 == 8\n",
    "\n",
    "논문의 방식대로 계산했다면 다음과 같습니다.\n",
    "> (4-1) * 2  - 2 * (padding_size) + 1 * (5-1) + 1 == .. 이를 만족하는 padding size가 존재하지 않습니다.\n",
    "\n",
    "따라서 논문의 그림이 부정확한 것으로 생각이 됩니다.\n",
    ".. "
   ]
  },
  {
   "cell_type": "code",
   "execution_count": 12,
   "metadata": {
    "colab": {
     "base_uri": "https://localhost:8080/"
    },
    "id": "8MFp5nD_uOFn",
    "outputId": "56a1104d-b770-45f4-c224-cd7c559b70f0"
   },
   "outputs": [
    {
     "name": "stdout",
     "output_type": "stream",
     "text": [
      "Generator(\n",
      "  (main): Sequential(\n",
      "    (0): ConvTranspose2d(100, 512, kernel_size=(4, 4), stride=(1, 1), bias=False)\n",
      "    (1): BatchNorm2d(512, eps=1e-05, momentum=0.1, affine=True, track_running_stats=True)\n",
      "    (2): ReLU(inplace=True)\n",
      "    (3): ConvTranspose2d(512, 256, kernel_size=(4, 4), stride=(2, 2), padding=(1, 1), bias=False)\n",
      "    (4): BatchNorm2d(256, eps=1e-05, momentum=0.1, affine=True, track_running_stats=True)\n",
      "    (5): ReLU(inplace=True)\n",
      "    (6): ConvTranspose2d(256, 128, kernel_size=(4, 4), stride=(2, 2), padding=(1, 1), bias=False)\n",
      "    (7): BatchNorm2d(128, eps=1e-05, momentum=0.1, affine=True, track_running_stats=True)\n",
      "    (8): ReLU(inplace=True)\n",
      "    (9): ConvTranspose2d(128, 64, kernel_size=(4, 4), stride=(2, 2), padding=(1, 1), bias=False)\n",
      "    (10): BatchNorm2d(64, eps=1e-05, momentum=0.1, affine=True, track_running_stats=True)\n",
      "    (11): ReLU(inplace=True)\n",
      "    (12): ConvTranspose2d(64, 1, kernel_size=(4, 4), stride=(2, 2), padding=(1, 1), bias=False)\n",
      "    (13): Tanh()\n",
      "  )\n",
      ")\n"
     ]
    }
   ],
   "source": [
    "netG = Generator().to(device) # 생성자 객체 생성\n",
    "netG.apply(weights_init) # 위의 정의한 함수로 가중치 초기화\n",
    "\n",
    "# 생성자 출력\n",
    "print(netG)"
   ]
  },
  {
   "cell_type": "markdown",
   "metadata": {
    "id": "YKnrGeQJu5IC"
   },
   "source": [
    "### 판별자 클래스"
   ]
  },
  {
   "cell_type": "code",
   "execution_count": 13,
   "metadata": {
    "id": "gPOn7rHEu4Zw"
   },
   "outputs": [],
   "source": [
    "class Discriminator(nn.Module):\n",
    "    def __init__(self):\n",
    "        super(Discriminator, self).__init__() # 판별자는 생성자가 거친 과정을 역순으로 거칩니다.\n",
    "        self.main = nn.Sequential(\n",
    "            nn.Conv2d(in_channels= nc, out_channels=ndf, kernel_size=4, stride=2, padding=1, bias=False), # Generator의 역순으로 레이어를 쌓습니다. ConvTransepose2d가 Conv2d로 바뀌었습니다.\n",
    "            # Discriminator의 첫 계층은 BatchNorm을 적용하지 않는다고 적혀있었습니다.\n",
    "            nn.LeakyReLU(negative_slope=0.2, inplace = True), # 활성화 함수로 LeakyReLU(0.2)를 사용합니다.\n",
    "            # => ndf * 32 * 32 의 텐서\n",
    "\n",
    "            nn.Conv2d(in_channels= ndf, out_channels=ndf * 2, kernel_size=4, stride=2, padding=1, bias=False), # Generator의 역순으로 레이어를 쌓습니다.\n",
    "            nn.BatchNorm2d(num_features = ndf * 2), # 이 계층부터 BatchNorm이 적용되기 시작합니다.\n",
    "            nn.LeakyReLU(negative_slope=0.2, inplace = True), # 활성화 함수로 LeakyReLU(0.2)를 사용합니다.\n",
    "            # => 2*ndf * 16 * 16 의 텐서\n",
    "\n",
    "            nn.Conv2d(in_channels= ndf * 2, out_channels=ndf * 4, kernel_size=4, stride=2, padding=1, bias=False), # Generator의 역순으로 레이어를 쌓습니다.\n",
    "            nn.BatchNorm2d(num_features = ndf * 4), # 이 계층부터 BatchNorm이 적용되기 시작합니다.\n",
    "            nn.LeakyReLU(negative_slope=0.2, inplace = True), # 활성화 함수로 LeakyReLU(0.2)를 사용합니다.\n",
    "            # => 4*ndf * 8 * 8 의 텐서\n",
    "\n",
    "            nn.Conv2d(in_channels= ndf * 4, out_channels=ndf * 8, kernel_size=4, stride=2, padding=1, bias=False), # Generator의 역순으로 레이어를 쌓습니다.\n",
    "            nn.BatchNorm2d(num_features = ndf * 8), # 이 계층부터 BatchNorm이 적용되기 시작합니다.\n",
    "            nn.LeakyReLU(negative_slope=0.2, inplace = True), # 활성화 함수로 LeakyReLU(0.2)를 사용합니다.\n",
    "            # => 8*ndf * 4 * 4 의 텐서\n",
    "\n",
    "            nn.Conv2d(in_channels= ndf * 8, out_channels=1, kernel_size=4, stride=1, padding=0, bias=False), # Generator의 역순으로 레이어를 쌓습니다.\n",
    "            # output계층은 BatchNorm이 적용되지 않습니다.\n",
    "            nn.Sigmoid() # 활성화 함수로 sigmoid를 사용해 예측 점수(생성자가 생성한 이미지인 점수)를 반환합니다.\n",
    "\n",
    "        )\n",
    "\n",
    "    def forward(self, input):\n",
    "        return self.main(input)"
   ]
  },
  {
   "cell_type": "code",
   "execution_count": 14,
   "metadata": {
    "colab": {
     "base_uri": "https://localhost:8080/"
    },
    "id": "bNznWbGevHnk",
    "outputId": "c6fd900b-0f12-4d46-f575-9ae8317e464d"
   },
   "outputs": [
    {
     "name": "stdout",
     "output_type": "stream",
     "text": [
      "Discriminator(\n",
      "  (main): Sequential(\n",
      "    (0): Conv2d(1, 64, kernel_size=(4, 4), stride=(2, 2), padding=(1, 1), bias=False)\n",
      "    (1): LeakyReLU(negative_slope=0.2, inplace=True)\n",
      "    (2): Conv2d(64, 128, kernel_size=(4, 4), stride=(2, 2), padding=(1, 1), bias=False)\n",
      "    (3): BatchNorm2d(128, eps=1e-05, momentum=0.1, affine=True, track_running_stats=True)\n",
      "    (4): LeakyReLU(negative_slope=0.2, inplace=True)\n",
      "    (5): Conv2d(128, 256, kernel_size=(4, 4), stride=(2, 2), padding=(1, 1), bias=False)\n",
      "    (6): BatchNorm2d(256, eps=1e-05, momentum=0.1, affine=True, track_running_stats=True)\n",
      "    (7): LeakyReLU(negative_slope=0.2, inplace=True)\n",
      "    (8): Conv2d(256, 512, kernel_size=(4, 4), stride=(2, 2), padding=(1, 1), bias=False)\n",
      "    (9): BatchNorm2d(512, eps=1e-05, momentum=0.1, affine=True, track_running_stats=True)\n",
      "    (10): LeakyReLU(negative_slope=0.2, inplace=True)\n",
      "    (11): Conv2d(512, 1, kernel_size=(4, 4), stride=(1, 1), bias=False)\n",
      "    (12): Sigmoid()\n",
      "  )\n",
      ")\n"
     ]
    }
   ],
   "source": [
    "netD = Discriminator().to(device) # 생성자 객체 생성\n",
    "netD.apply(weights_init) # 위의 정의한 함수로 가중치 초기화\n",
    "\n",
    "# 판별자 출력\n",
    "print(netD)"
   ]
  },
  {
   "cell_type": "markdown",
   "metadata": {
    "id": "pO6E3WcLvaca"
   },
   "source": [
    "## Loss Function & Optimizer"
   ]
  },
  {
   "cell_type": "markdown",
   "metadata": {
    "id": "i9NHkQB2VZwi"
   },
   "source": [
    "DCGAN에서 사용한 손실함수는 `BCELoss(Binary Cross Entropy Loss` 입니다.\n",
    "\n",
    "주어진 데이터가 진짜 데이터이면 1, 가짜 데이터이면 0이라고 할 때,\n",
    "\n",
    "진짜 데이터의 log함수값은 최대화시키고, 가짜 데이터의 log함수값은 최소화 시킬 수 있게 디자인되어 있습니다.\n",
    "\n",
    "$\\ell(x, y) = L = \\{l_1,\\dots,l_N\\}^\\top, \\quad l_n = - \\left[ y_n \\cdot \\log x_n + (1 - y_n) \\cdot \\log (1 - x_n) \\right]$\n"
   ]
  },
  {
   "cell_type": "code",
   "execution_count": null,
   "metadata": {
    "id": "q3zo8MjNvT9r"
   },
   "outputs": [],
   "source": [
    "# 손실함수\n",
    "criterion = nn.BCELoss() # 위에서 설명한 함수가 구현되어 있습니다.\n",
    "\n",
    "real_label = 1. # 진짜 데이터인 경우에 1\n",
    "fake_label = 0.\n",
    "\n",
    "# optimizer hyperparameters\n",
    "learning_rate = 0.0002 # 논문에서 사용한 수치입니다.\n",
    "beta1 = 0.5 # 마찬가지로 논문에서 학습 안정화를 위해 사용되었습니다.\n",
    "\n",
    "# optimizers\n",
    "optimizerD = optim.Adam(params=netD.parameters(), lr = learning_rate, betas=(beta1, 0.999)) # 논문에서 제시한 파라미터를 그대로 사용합니다.\n",
    "optimizerG = optim.Adam(params=netG.parameters(), lr = learning_rate, betas=(beta1, 0.999)) # 다른 모델의 가중치와 step에 영향을 받지 않도록 optimizer를 따로 설정해야 합니다."
   ]
  },
  {
   "cell_type": "markdown",
   "metadata": {
    "id": "EzI4vYfzxF_k"
   },
   "source": [
    "## Train\n",
    "\"빈칸\"을 채우고, 각각의 변수 및 메소드가 무엇을 나태는지 혹은 어떻게 계산되는지를 주석으로 설명 부탁드립니다.  \n",
    "참고하면 좋은 사이트: https://redstarhong.tistory.com/64"
   ]
  },
  {
   "cell_type": "code",
   "execution_count": 16,
   "metadata": {
    "colab": {
     "base_uri": "https://localhost:8080/"
    },
    "id": "zommtabuxHkC",
    "outputId": "37624d4a-25ec-41ea-ebda-6f9191ed0c2b"
   },
   "outputs": [
    {
     "name": "stdout",
     "output_type": "stream",
     "text": [
      "[0/5][0/469]\tLoss_D: 1.6978\tLoss_G: 2.7174\tD(x): 0.3921\tD(G(z)): 0.3881 / 0.0894\n",
      "[0/5][50/469]\tLoss_D: 0.0409\tLoss_G: 8.7956\tD(x): 0.9739\tD(G(z)): 0.0046 / 0.0002\n",
      "[0/5][100/469]\tLoss_D: 0.2607\tLoss_G: 13.9104\tD(x): 0.8650\tD(G(z)): 0.0000 / 0.0001\n",
      "[0/5][150/469]\tLoss_D: 0.1257\tLoss_G: 5.3212\tD(x): 0.9528\tD(G(z)): 0.0680 / 0.0062\n",
      "[0/5][200/469]\tLoss_D: 1.5471\tLoss_G: 0.7105\tD(x): 0.3436\tD(G(z)): 0.0016 / 0.5512\n",
      "[0/5][250/469]\tLoss_D: 0.9962\tLoss_G: 1.7690\tD(x): 0.4856\tD(G(z)): 0.1027 / 0.2171\n",
      "[0/5][300/469]\tLoss_D: 0.1478\tLoss_G: 3.8412\tD(x): 0.9390\tD(G(z)): 0.0711 / 0.0312\n",
      "[0/5][350/469]\tLoss_D: 0.2528\tLoss_G: 3.3486\tD(x): 0.8929\tD(G(z)): 0.1155 / 0.0495\n",
      "[0/5][400/469]\tLoss_D: 0.5100\tLoss_G: 1.3962\tD(x): 0.7182\tD(G(z)): 0.1124 / 0.2971\n",
      "[0/5][450/469]\tLoss_D: 0.1253\tLoss_G: 3.4884\tD(x): 0.9232\tD(G(z)): 0.0358 / 0.0433\n",
      "[1/5][0/469]\tLoss_D: 0.1226\tLoss_G: 3.7493\tD(x): 0.9685\tD(G(z)): 0.0821 / 0.0357\n",
      "[1/5][50/469]\tLoss_D: 0.3733\tLoss_G: 2.6643\tD(x): 0.8205\tD(G(z)): 0.1372 / 0.0929\n",
      "[1/5][100/469]\tLoss_D: 2.0752\tLoss_G: 6.4785\tD(x): 0.9948\tD(G(z)): 0.8269 / 0.0026\n",
      "[1/5][150/469]\tLoss_D: 0.5150\tLoss_G: 2.8385\tD(x): 0.8699\tD(G(z)): 0.2786 / 0.0769\n",
      "[1/5][200/469]\tLoss_D: 0.4344\tLoss_G: 2.7457\tD(x): 0.8894\tD(G(z)): 0.2478 / 0.0819\n",
      "[1/5][250/469]\tLoss_D: 2.1052\tLoss_G: 0.6464\tD(x): 0.1806\tD(G(z)): 0.0054 / 0.5640\n",
      "[1/5][300/469]\tLoss_D: 1.0440\tLoss_G: 0.9704\tD(x): 0.4311\tD(G(z)): 0.0229 / 0.4405\n",
      "[1/5][350/469]\tLoss_D: 0.3628\tLoss_G: 2.5688\tD(x): 0.9145\tD(G(z)): 0.2215 / 0.0968\n",
      "[1/5][400/469]\tLoss_D: 0.6565\tLoss_G: 1.1162\tD(x): 0.6334\tD(G(z)): 0.1223 / 0.3633\n",
      "[1/5][450/469]\tLoss_D: 0.3879\tLoss_G: 3.7916\tD(x): 0.9112\tD(G(z)): 0.2353 / 0.0315\n",
      "[2/5][0/469]\tLoss_D: 0.3359\tLoss_G: 2.2004\tD(x): 0.8335\tD(G(z)): 0.1263 / 0.1343\n",
      "[2/5][50/469]\tLoss_D: 0.3981\tLoss_G: 1.8053\tD(x): 0.8027\tD(G(z)): 0.1394 / 0.2002\n",
      "[2/5][100/469]\tLoss_D: 0.9214\tLoss_G: 1.7729\tD(x): 0.6881\tD(G(z)): 0.3473 / 0.2201\n",
      "[2/5][150/469]\tLoss_D: 0.5411\tLoss_G: 1.8733\tD(x): 0.7730\tD(G(z)): 0.2194 / 0.1870\n",
      "[2/5][200/469]\tLoss_D: 0.3228\tLoss_G: 1.9008\tD(x): 0.8085\tD(G(z)): 0.0782 / 0.1892\n",
      "[2/5][250/469]\tLoss_D: 0.7860\tLoss_G: 1.4764\tD(x): 0.5202\tD(G(z)): 0.0325 / 0.2766\n",
      "[2/5][300/469]\tLoss_D: 0.4148\tLoss_G: 1.9569\tD(x): 0.7445\tD(G(z)): 0.0886 / 0.1752\n",
      "[2/5][350/469]\tLoss_D: 0.7177\tLoss_G: 3.2731\tD(x): 0.8798\tD(G(z)): 0.4000 / 0.0553\n",
      "[2/5][400/469]\tLoss_D: 1.2758\tLoss_G: 3.3402\tD(x): 0.9414\tD(G(z)): 0.6142 / 0.0499\n",
      "[2/5][450/469]\tLoss_D: 0.2906\tLoss_G: 3.0378\tD(x): 0.8570\tD(G(z)): 0.1002 / 0.0719\n",
      "[3/5][0/469]\tLoss_D: 0.4578\tLoss_G: 7.1523\tD(x): 0.9783\tD(G(z)): 0.3271 / 0.0011\n",
      "[3/5][50/469]\tLoss_D: 0.3452\tLoss_G: 4.1276\tD(x): 0.9608\tD(G(z)): 0.2443 / 0.0220\n",
      "[3/5][100/469]\tLoss_D: 0.6277\tLoss_G: 2.1813\tD(x): 0.7612\tD(G(z)): 0.2544 / 0.1427\n",
      "[3/5][150/469]\tLoss_D: 0.1826\tLoss_G: 3.5805\tD(x): 0.9234\tD(G(z)): 0.0897 / 0.0393\n",
      "[3/5][200/469]\tLoss_D: 0.5750\tLoss_G: 4.3548\tD(x): 0.8682\tD(G(z)): 0.3226 / 0.0183\n",
      "[3/5][250/469]\tLoss_D: 1.0508\tLoss_G: 5.9524\tD(x): 0.9748\tD(G(z)): 0.5742 / 0.0038\n",
      "[3/5][300/469]\tLoss_D: 0.2568\tLoss_G: 3.3257\tD(x): 0.8097\tD(G(z)): 0.0220 / 0.0588\n",
      "[3/5][350/469]\tLoss_D: 0.6319\tLoss_G: 5.1486\tD(x): 0.9217\tD(G(z)): 0.3671 / 0.0091\n",
      "[3/5][400/469]\tLoss_D: 0.1319\tLoss_G: 4.3515\tD(x): 0.9904\tD(G(z)): 0.1076 / 0.0196\n",
      "[3/5][450/469]\tLoss_D: 0.5450\tLoss_G: 3.1683\tD(x): 0.8577\tD(G(z)): 0.2948 / 0.0560\n",
      "[4/5][0/469]\tLoss_D: 0.8275\tLoss_G: 5.8113\tD(x): 0.9768\tD(G(z)): 0.4918 / 0.0048\n",
      "[4/5][50/469]\tLoss_D: 0.1638\tLoss_G: 3.9373\tD(x): 0.8835\tD(G(z)): 0.0268 / 0.0329\n",
      "[4/5][100/469]\tLoss_D: 0.5545\tLoss_G: 2.7964\tD(x): 0.7945\tD(G(z)): 0.2454 / 0.0829\n",
      "[4/5][150/469]\tLoss_D: 0.1364\tLoss_G: 3.9860\tD(x): 0.9504\tD(G(z)): 0.0711 / 0.0320\n",
      "[4/5][200/469]\tLoss_D: 0.2499\tLoss_G: 3.1024\tD(x): 0.8914\tD(G(z)): 0.1148 / 0.0593\n",
      "[4/5][250/469]\tLoss_D: 0.3675\tLoss_G: 3.1563\tD(x): 0.8190\tD(G(z)): 0.1326 / 0.0606\n",
      "[4/5][300/469]\tLoss_D: 0.1215\tLoss_G: 4.3990\tD(x): 0.9722\tD(G(z)): 0.0844 / 0.0183\n",
      "[4/5][350/469]\tLoss_D: 0.7278\tLoss_G: 3.4911\tD(x): 0.7423\tD(G(z)): 0.2906 / 0.0473\n",
      "[4/5][400/469]\tLoss_D: 0.1361\tLoss_G: 3.5470\tD(x): 0.9466\tD(G(z)): 0.0730 / 0.0430\n",
      "[4/5][450/469]\tLoss_D: 0.2521\tLoss_G: 4.1345\tD(x): 0.9395\tD(G(z)): 0.1548 / 0.0216\n"
     ]
    }
   ],
   "source": [
    "num_epochs = 5\n",
    "\n",
    "for epoch in range(num_epochs):\n",
    "    for i, data in enumerate(dataloader, 0):\n",
    "\n",
    "        # 먼저 Discriminator의 학습을 진행합니다. => 판별자가 판별한 정답에 대해서 학습이 진행되기 때문입니다.\n",
    "        # Discriminator의 목적은 손실함수를 maximize하는 것입니다.\n",
    "\n",
    "        netD.zero_grad() # 기울기 초기화\n",
    "        real_cpu = data[0].to(device) # 데이터를 GPU에 올립니다.(변수명은 따로 수정하지 않았습니다.) data[0]을 쓰는 이유는 data가 픽셀값과 label로 이루어져 있는데, label을 쓰지 않기 때문입니다.\n",
    "        b_size = real_cpu.size(0) # 배치 사이즈를 구합니다.\n",
    "        label = torch.full((b_size, ), real_label, dtype=torch.float, device=device) # b_size만큼 1로 채운 label을 생성합니다. 모든 데이터가 진짜이므로(dataloader에서 나왔으니까) 정답은 1 뿐입니다. \n",
    "\n",
    "        output = netD(real_cpu).view(-1) # 모델이 예측하고 결과를 1차원 벡터로 변환합니다.\n",
    "        errD_real = criterion(output, label) # output을 1로 잘 예측했는지를 확인합니다.\n",
    "        errD_real.backward() # 역전파를 구합니다.\n",
    "        D_x = output.mean().item() # 진짜 이미지를 얼마나 잘 구분했는지에 대한 평균값을 구합니다.\n",
    "\n",
    "        # 이미지 생성을 위한 Z벡터를 생성합니다. randn은 평균0, 분산1인 데이터를 생성합니다.\n",
    "        noise = torch.randn(b_size, nz, 1, 1, device=device)\n",
    "        \n",
    "        fake = netG(noise) # 생성자가 가짜 이미지를 생성합니다.\n",
    "        label.fill_(fake_label) # 배치 사이즈만큼 0으로 채워진 label을 만듭니다. (모든 데이터가 가짜 데이터이므로 0이어야 합니다.)\n",
    "        output = netD(fake.detach()).view(-1) # 판별자가 이번에는 가짜 이미지를 구분합니다.\n",
    "        # fake(netG의 출력)에 대한 역전파를 막기 위해 detach를 수행합니다.\n",
    "        errD_fake = criterion(output, label) # 데이터에 대해 0으로 잘 예측했는지 손실을 구합니다.\n",
    "        errD_fake.backward() # 이번 함수에 대해서도 역전파를 수행합니다. 그래프 기울기가 이전과 누적됩니다.\n",
    "        D_G_z1 = output.mean().item() # 가짜 이미지를 얼마나 잘 구분했는지에 대한 평균을 구합니다.\n",
    "\n",
    "        errD = errD_real + errD_fake # 총 손실 합을 구합니다.\n",
    "        optimizerD.step() # 학습을 실시하여 기울기를 업데이트합니다.\n",
    "\n",
    "\n",
    "        # 판별자를 학습했으니 생성자를 학습합니다.\n",
    "        # 생성자는 log(D(G(z)))를 maximize 합니다. (즉 판별자가 1이라고 예측할 확률을 최대화합니다.)\n",
    "\n",
    "        netG.zero_grad() # 기울기 초기화\n",
    "        label.fill_(real_label) # 다 진짜로 속입니다. 이를 위해 정답은 1입니다.\n",
    "        output = netD(fake).view(-1) # 판별자가 가짜 이미지에 대해 판정합니다. 기존에 생성한 이미지에 대해 학습된 모델로 다시 판정합니다.\n",
    "        errG = criterion(output, label) # 생성자는 판별자가 1이라고 예측할 확률을 최대화하며, 이는 즉 loss function이 최소화되는 것입니다.(구분자 입장에서)\n",
    "        errG.backward() # 기울기 역전파를 실시합니다.\n",
    "        D_G_z2 = output.mean().item() # 생성자가 만든 이미지를 얼마나 잘 구분했는지에 대한 평균 점수입니다.\n",
    "\n",
    "        optimizerG.step() # 기울기 역전파를 시행합니다.\n",
    "\n",
    "        # 학습 경과 출력\n",
    "        if i % 50 == 0:\n",
    "            print('[%d/%d][%d/%d]\\tLoss_D: %.4f\\tLoss_G: %.4f\\tD(x): %.4f\\tD(G(z)): %.4f / %.4f'\n",
    "            % (epoch, num_epochs, i, len(dataloader),\n",
    "                errD.item(), errG.item(), D_x, D_G_z1, D_G_z2))"
   ]
  },
  {
   "cell_type": "markdown",
   "metadata": {
    "id": "Ecna8u5Bf7mp"
   },
   "source": [
    "로그에 찍히는 값들의 의미는 다음과 같습니다.\n",
    "- loss_d : 판별자의 손실값입니다.\n",
    "- loss_g : 생성자의 손실값입니다. 이 두개는 낮을 수록 좋은 값입니다. 목표로 하는 값과의 차이를 나타내기 때문입니다.\n",
    "\n",
    "- D(x) : 판별자가 진짜 이미지에 대해 예측한 점수의 평균입니다. 진짜 이미지의 label이 1이기 때문에 1에 가까울수록 좋은 모델입니다.\n",
    "\n",
    "- D(G(x)) : 판별자가 가짜 이미지에 대해서 예측한 점수의 평균이며, 학습 후 예측한 점수의 평균입니다. 판별자 입장에서 가짜 이미지의 label이 0이기 때문에 0에 가까울수록 좋은 모델입니다.\n",
    "\n",
    "학습하는 내용으로 볼 때, 모델이 어느정도 진동하는 모습을 보이나, D(x)는 1에 수렴하려는 양상을, D(G(z))는 0에 수렴하려는 양상을 확인할 수 있었습니다. 학습이 잘 되고 있다는 뜻으로 보입니다."
   ]
  },
  {
   "cell_type": "code",
   "execution_count": 30,
   "metadata": {
    "colab": {
     "base_uri": "https://localhost:8080/",
     "height": 252
    },
    "id": "TOxapWhwd7fD",
    "outputId": "2ab9b9f9-584a-491c-a5e4-1640dee8cbca"
   },
   "outputs": [
    {
     "data": {
      "image/png": "[encoded data removed]",
      "text/plain": [
       "<Figure size 432x288 with 100 Axes>"
      ]
     },
     "metadata": {
      "tags": []
     },
     "output_type": "display_data"
    }
   ],
   "source": [
    "# 생성자가 생성한 이미지를 시각화 해 보았습니다.\n",
    "fig = plt.figure()\n",
    "\n",
    "noise = torch.randn(100, nz, 1, 1, device=device)\n",
    "image = netG(noise)\n",
    "image = image.cpu().detach().numpy()\n",
    "image = image.squeeze() # 차원 축소 (채널 제거하고 2차원 행렬로 변환)\n",
    "\n",
    "for i in range(100): # 100개를 확인해 보겠습니다\n",
    "    subplot = fig.add_subplot(10, 10, i+1)\n",
    "    subplot.set_xticks([])\n",
    "    subplot.set_yticks([])\n",
    "    subplot.imshow(image[i], cmap = 'gray')\n",
    "\n",
    "plt.show()"
   ]
  },
  {
   "cell_type": "markdown",
   "metadata": {
    "id": "0RaGr7QBixh6"
   },
   "source": [
    "일부 이미지는 숫자처럼 명확한 이미지를 보이나, 일부 이미지는 숫자처럼 보이지 않는 것을 볼 수 있었습니다.\n",
    "\n",
    "하지만 전반적으로 MNIST 처럼 보이는 형태로 잘 생성된 것을 확인할 수 있어 모델이 잘 학습된 것을 볼 수 있었습니다."
   ]
  },
  {
   "cell_type": "code",
   "execution_count": null,
   "metadata": {
    "id": "V1y_TB-xiFcr"
   },
   "outputs": [],
   "source": []
  }
 ],
 "metadata": {
  "accelerator": "GPU",
  "colab": {
   "collapsed_sections": [
    "zW6ONB7fqANg"
   ],
   "name": "assignment_wk10.ipynb",
   "provenance": [],
   "toc_visible": true
  },
  "kernelspec": {
   "display_name": "python3.9",
   "language": "python",
   "name": "python3"
  },
  "language_info": {
   "codemirror_mode": {
    "name": "ipython",
    "version": 3
   },
   "file_extension": ".py",
   "mimetype": "text/x-python",
   "name": "python",
   "nbconvert_exporter": "python",
   "pygments_lexer": "ipython3",
   "version": "3.9.1"
  },
  "widgets": {
   "application/vnd.jupyter.widget-state+json": {
    "00156f9a44794eec88d0fabf21677762": {
     "model_module": "@jupyter-widgets/base",
     "model_name": "LayoutModel",
     "state": {
      "_model_module": "@jupyter-widgets/base",
      "_model_module_version": "1.2.0",
      "_model_name": "LayoutModel",
      "_view_count": null,
      "_view_module": "@jupyter-widgets/base",
      "_view_module_version": "1.2.0",
      "_view_name": "LayoutView",
      "align_content": null,
      "align_items": null,
      "align_self": null,
      "border": null,
      "bottom": null,
      "display": null,
      "flex": null,
      "flex_flow": null,
      "grid_area": null,
      "grid_auto_columns": null,
      "grid_auto_flow": null,
      "grid_auto_rows": null,
      "grid_column": null,
      "grid_gap": null,
      "grid_row": null,
      "grid_template_areas": null,
      "grid_template_columns": null,
      "grid_template_rows": null,
      "height": null,
      "justify_content": null,
      "justify_items": null,
      "left": null,
      "margin": null,
      "max_height": null,
      "max_width": null,
      "min_height": null,
      "min_width": null,
      "object_fit": null,
      "object_position": null,
      "order": null,
      "overflow": null,
      "overflow_x": null,
      "overflow_y": null,
      "padding": null,
      "right": null,
      "top": null,
      "visibility": null,
      "width": null
     }
    },
    "05811c5ff5c941758537fba2788513a0": {
     "model_module": "@jupyter-widgets/base",
     "model_name": "LayoutModel",
     "state": {
      "_model_module": "@jupyter-widgets/base",
      "_model_module_version": "1.2.0",
      "_model_name": "LayoutModel",
      "_view_count": null,
      "_view_module": "@jupyter-widgets/base",
      "_view_module_version": "1.2.0",
      "_view_name": "LayoutView",
      "align_content": null,
      "align_items": null,
      "align_self": null,
      "border": null,
      "bottom": null,
      "display": null,
      "flex": null,
      "flex_flow": null,
      "grid_area": null,
      "grid_auto_columns": null,
      "grid_auto_flow": null,
      "grid_auto_rows": null,
      "grid_column": null,
      "grid_gap": null,
      "grid_row": null,
      "grid_template_areas": null,
      "grid_template_columns": null,
      "grid_template_rows": null,
      "height": null,
      "justify_content": null,
      "justify_items": null,
      "left": null,
      "margin": null,
      "max_height": null,
      "max_width": null,
      "min_height": null,
      "min_width": null,
      "object_fit": null,
      "object_position": null,
      "order": null,
      "overflow": null,
      "overflow_x": null,
      "overflow_y": null,
      "padding": null,
      "right": null,
      "top": null,
      "visibility": null,
      "width": null
     }
    },
    "1387888c3b1042678285d300e7d2ece3": {
     "model_module": "@jupyter-widgets/controls",
     "model_name": "HBoxModel",
     "state": {
      "_dom_classes": [],
      "_model_module": "@jupyter-widgets/controls",
      "_model_module_version": "1.5.0",
      "_model_name": "HBoxModel",
      "_view_count": null,
      "_view_module": "@jupyter-widgets/controls",
      "_view_module_version": "1.5.0",
      "_view_name": "HBoxView",
      "box_style": "",
      "children": [
       "IPY_MODEL_5038c298f1184eb58dfdf471c5e6af10",
       "IPY_MODEL_a618fb0f6a584851adf01bcfee8d499d"
      ],
      "layout": "IPY_MODEL_892ec034aa3e462e9fa0760cf29c904f"
     }
    },
    "1a127119966a49d8be204fafee16ecf2": {
     "model_module": "@jupyter-widgets/base",
     "model_name": "LayoutModel",
     "state": {
      "_model_module": "@jupyter-widgets/base",
      "_model_module_version": "1.2.0",
      "_model_name": "LayoutModel",
      "_view_count": null,
      "_view_module": "@jupyter-widgets/base",
      "_view_module_version": "1.2.0",
      "_view_name": "LayoutView",
      "align_content": null,
      "align_items": null,
      "align_self": null,
      "border": null,
      "bottom": null,
      "display": null,
      "flex": null,
      "flex_flow": null,
      "grid_area": null,
      "grid_auto_columns": null,
      "grid_auto_flow": null,
      "grid_auto_rows": null,
      "grid_column": null,
      "grid_gap": null,
      "grid_row": null,
      "grid_template_areas": null,
      "grid_template_columns": null,
      "grid_template_rows": null,
      "height": null,
      "justify_content": null,
      "justify_items": null,
      "left": null,
      "margin": null,
      "max_height": null,
      "max_width": null,
      "min_height": null,
      "min_width": null,
      "object_fit": null,
      "object_position": null,
      "order": null,
      "overflow": null,
      "overflow_x": null,
      "overflow_y": null,
      "padding": null,
      "right": null,
      "top": null,
      "visibility": null,
      "width": null
     }
    },
    "251e3eb270cd4a5791454120787b702b": {
     "model_module": "@jupyter-widgets/controls",
     "model_name": "ProgressStyleModel",
     "state": {
      "_model_module": "@jupyter-widgets/controls",
      "_model_module_version": "1.5.0",
      "_model_name": "ProgressStyleModel",
      "_view_count": null,
      "_view_module": "@jupyter-widgets/base",
      "_view_module_version": "1.2.0",
      "_view_name": "StyleView",
      "bar_color": null,
      "description_width": "initial"
     }
    },
    "4a18b6ea0e0d48b6907310ba8bcfa777": {
     "model_module": "@jupyter-widgets/controls",
     "model_name": "ProgressStyleModel",
     "state": {
      "_model_module": "@jupyter-widgets/controls",
      "_model_module_version": "1.5.0",
      "_model_name": "ProgressStyleModel",
      "_view_count": null,
      "_view_module": "@jupyter-widgets/base",
      "_view_module_version": "1.2.0",
      "_view_name": "StyleView",
      "bar_color": null,
      "description_width": "initial"
     }
    },
    "4cf17352d6b74a7cad3c0f6504b6d80d": {
     "model_module": "@jupyter-widgets/controls",
     "model_name": "ProgressStyleModel",
     "state": {
      "_model_module": "@jupyter-widgets/controls",
      "_model_module_version": "1.5.0",
      "_model_name": "ProgressStyleModel",
      "_view_count": null,
      "_view_module": "@jupyter-widgets/base",
      "_view_module_version": "1.2.0",
      "_view_name": "StyleView",
      "bar_color": null,
      "description_width": "initial"
     }
    },
    "50097197c947447290b9d85299a0eee7": {
     "model_module": "@jupyter-widgets/controls",
     "model_name": "DescriptionStyleModel",
     "state": {
      "_model_module": "@jupyter-widgets/controls",
      "_model_module_version": "1.5.0",
      "_model_name": "DescriptionStyleModel",
      "_view_count": null,
      "_view_module": "@jupyter-widgets/base",
      "_view_module_version": "1.2.0",
      "_view_name": "StyleView",
      "description_width": ""
     }
    },
    "5038c298f1184eb58dfdf471c5e6af10": {
     "model_module": "@jupyter-widgets/controls",
     "model_name": "FloatProgressModel",
     "state": {
      "_dom_classes": [],
      "_model_module": "@jupyter-widgets/controls",
      "_model_module_version": "1.5.0",
      "_model_name": "FloatProgressModel",
      "_view_count": null,
      "_view_module": "@jupyter-widgets/controls",
      "_view_module_version": "1.5.0",
      "_view_name": "ProgressView",
      "bar_style": "success",
      "description": "",
      "description_tooltip": null,
      "layout": "IPY_MODEL_a8a270f4ba874de7a36478d50698318d",
      "max": 9912422,
      "min": 0,
      "orientation": "horizontal",
      "style": "IPY_MODEL_251e3eb270cd4a5791454120787b702b",
      "value": 9912422
     }
    },
    "5a1bf9e9bd334686b1613289e5dfb9ab": {
     "model_module": "@jupyter-widgets/controls",
     "model_name": "HTMLModel",
     "state": {
      "_dom_classes": [],
      "_model_module": "@jupyter-widgets/controls",
      "_model_module_version": "1.5.0",
      "_model_name": "HTMLModel",
      "_view_count": null,
      "_view_module": "@jupyter-widgets/controls",
      "_view_module_version": "1.5.0",
      "_view_name": "HTMLView",
      "description": "",
      "description_tooltip": null,
      "layout": "IPY_MODEL_05811c5ff5c941758537fba2788513a0",
      "placeholder": "​",
      "style": "IPY_MODEL_8fe8261bbd4f449cbe9fc5fa53446dd6",
      "value": " 29696/? [00:02&lt;00:00, 11479.79it/s]"
     }
    },
    "5c8572f701d44106a1ede077323dd73c": {
     "model_module": "@jupyter-widgets/controls",
     "model_name": "DescriptionStyleModel",
     "state": {
      "_model_module": "@jupyter-widgets/controls",
      "_model_module_version": "1.5.0",
      "_model_name": "DescriptionStyleModel",
      "_view_count": null,
      "_view_module": "@jupyter-widgets/base",
      "_view_module_version": "1.2.0",
      "_view_name": "StyleView",
      "description_width": ""
     }
    },
    "7496acde62974b04a1228d07dff350c8": {
     "model_module": "@jupyter-widgets/controls",
     "model_name": "HBoxModel",
     "state": {
      "_dom_classes": [],
      "_model_module": "@jupyter-widgets/controls",
      "_model_module_version": "1.5.0",
      "_model_name": "HBoxModel",
      "_view_count": null,
      "_view_module": "@jupyter-widgets/controls",
      "_view_module_version": "1.5.0",
      "_view_name": "HBoxView",
      "box_style": "",
      "children": [
       "IPY_MODEL_7e46a8d87b774cc688368f0c1812b86f",
       "IPY_MODEL_76850950b4764987b8ebd288c9a62dfc"
      ],
      "layout": "IPY_MODEL_ae87e7b5163f488599b1b795619135d0"
     }
    },
    "76850950b4764987b8ebd288c9a62dfc": {
     "model_module": "@jupyter-widgets/controls",
     "model_name": "HTMLModel",
     "state": {
      "_dom_classes": [],
      "_model_module": "@jupyter-widgets/controls",
      "_model_module_version": "1.5.0",
      "_model_name": "HTMLModel",
      "_view_count": null,
      "_view_module": "@jupyter-widgets/controls",
      "_view_module_version": "1.5.0",
      "_view_name": "HTMLView",
      "description": "",
      "description_tooltip": null,
      "layout": "IPY_MODEL_1a127119966a49d8be204fafee16ecf2",
      "placeholder": "​",
      "style": "IPY_MODEL_50097197c947447290b9d85299a0eee7",
      "value": " 1649664/? [00:03&lt;00:00, 469675.28it/s]"
     }
    },
    "7e46a8d87b774cc688368f0c1812b86f": {
     "model_module": "@jupyter-widgets/controls",
     "model_name": "FloatProgressModel",
     "state": {
      "_dom_classes": [],
      "_model_module": "@jupyter-widgets/controls",
      "_model_module_version": "1.5.0",
      "_model_name": "FloatProgressModel",
      "_view_count": null,
      "_view_module": "@jupyter-widgets/controls",
      "_view_module_version": "1.5.0",
      "_view_name": "ProgressView",
      "bar_style": "success",
      "description": "",
      "description_tooltip": null,
      "layout": "IPY_MODEL_8c1b65e577c5408fa6b5f0e19cbc29ae",
      "max": 1648877,
      "min": 0,
      "orientation": "horizontal",
      "style": "IPY_MODEL_4cf17352d6b74a7cad3c0f6504b6d80d",
      "value": 1648877
     }
    },
    "892ec034aa3e462e9fa0760cf29c904f": {
     "model_module": "@jupyter-widgets/base",
     "model_name": "LayoutModel",
     "state": {
      "_model_module": "@jupyter-widgets/base",
      "_model_module_version": "1.2.0",
      "_model_name": "LayoutModel",
      "_view_count": null,
      "_view_module": "@jupyter-widgets/base",
      "_view_module_version": "1.2.0",
      "_view_name": "LayoutView",
      "align_content": null,
      "align_items": null,
      "align_self": null,
      "border": null,
      "bottom": null,
      "display": null,
      "flex": null,
      "flex_flow": null,
      "grid_area": null,
      "grid_auto_columns": null,
      "grid_auto_flow": null,
      "grid_auto_rows": null,
      "grid_column": null,
      "grid_gap": null,
      "grid_row": null,
      "grid_template_areas": null,
      "grid_template_columns": null,
      "grid_template_rows": null,
      "height": null,
      "justify_content": null,
      "justify_items": null,
      "left": null,
      "margin": null,
      "max_height": null,
      "max_width": null,
      "min_height": null,
      "min_width": null,
      "object_fit": null,
      "object_position": null,
      "order": null,
      "overflow": null,
      "overflow_x": null,
      "overflow_y": null,
      "padding": null,
      "right": null,
      "top": null,
      "visibility": null,
      "width": null
     }
    },
    "8c0fa6d47c654bc2a25226dcea959f90": {
     "model_module": "@jupyter-widgets/controls",
     "model_name": "HBoxModel",
     "state": {
      "_dom_classes": [],
      "_model_module": "@jupyter-widgets/controls",
      "_model_module_version": "1.5.0",
      "_model_name": "HBoxModel",
      "_view_count": null,
      "_view_module": "@jupyter-widgets/controls",
      "_view_module_version": "1.5.0",
      "_view_name": "HBoxView",
      "box_style": "",
      "children": [
       "IPY_MODEL_fa3952697c4b485299de03f378f38064",
       "IPY_MODEL_9d85c5759c9c4ace8976773ffa0fbc85"
      ],
      "layout": "IPY_MODEL_b86f4e15b3c94786a063e5b141af6509"
     }
    },
    "8c1b65e577c5408fa6b5f0e19cbc29ae": {
     "model_module": "@jupyter-widgets/base",
     "model_name": "LayoutModel",
     "state": {
      "_model_module": "@jupyter-widgets/base",
      "_model_module_version": "1.2.0",
      "_model_name": "LayoutModel",
      "_view_count": null,
      "_view_module": "@jupyter-widgets/base",
      "_view_module_version": "1.2.0",
      "_view_name": "LayoutView",
      "align_content": null,
      "align_items": null,
      "align_self": null,
      "border": null,
      "bottom": null,
      "display": null,
      "flex": null,
      "flex_flow": null,
      "grid_area": null,
      "grid_auto_columns": null,
      "grid_auto_flow": null,
      "grid_auto_rows": null,
      "grid_column": null,
      "grid_gap": null,
      "grid_row": null,
      "grid_template_areas": null,
      "grid_template_columns": null,
      "grid_template_rows": null,
      "height": null,
      "justify_content": null,
      "justify_items": null,
      "left": null,
      "margin": null,
      "max_height": null,
      "max_width": null,
      "min_height": null,
      "min_width": null,
      "object_fit": null,
      "object_position": null,
      "order": null,
      "overflow": null,
      "overflow_x": null,
      "overflow_y": null,
      "padding": null,
      "right": null,
      "top": null,
      "visibility": null,
      "width": null
     }
    },
    "8c73ea2162524bdd8efe23a94409d507": {
     "model_module": "@jupyter-widgets/base",
     "model_name": "LayoutModel",
     "state": {
      "_model_module": "@jupyter-widgets/base",
      "_model_module_version": "1.2.0",
      "_model_name": "LayoutModel",
      "_view_count": null,
      "_view_module": "@jupyter-widgets/base",
      "_view_module_version": "1.2.0",
      "_view_name": "LayoutView",
      "align_content": null,
      "align_items": null,
      "align_self": null,
      "border": null,
      "bottom": null,
      "display": null,
      "flex": null,
      "flex_flow": null,
      "grid_area": null,
      "grid_auto_columns": null,
      "grid_auto_flow": null,
      "grid_auto_rows": null,
      "grid_column": null,
      "grid_gap": null,
      "grid_row": null,
      "grid_template_areas": null,
      "grid_template_columns": null,
      "grid_template_rows": null,
      "height": null,
      "justify_content": null,
      "justify_items": null,
      "left": null,
      "margin": null,
      "max_height": null,
      "max_width": null,
      "min_height": null,
      "min_width": null,
      "object_fit": null,
      "object_position": null,
      "order": null,
      "overflow": null,
      "overflow_x": null,
      "overflow_y": null,
      "padding": null,
      "right": null,
      "top": null,
      "visibility": null,
      "width": null
     }
    },
    "8fe8261bbd4f449cbe9fc5fa53446dd6": {
     "model_module": "@jupyter-widgets/controls",
     "model_name": "DescriptionStyleModel",
     "state": {
      "_model_module": "@jupyter-widgets/controls",
      "_model_module_version": "1.5.0",
      "_model_name": "DescriptionStyleModel",
      "_view_count": null,
      "_view_module": "@jupyter-widgets/base",
      "_view_module_version": "1.2.0",
      "_view_name": "StyleView",
      "description_width": ""
     }
    },
    "9130b26273524a8fb577c1fb69f45bfc": {
     "model_module": "@jupyter-widgets/base",
     "model_name": "LayoutModel",
     "state": {
      "_model_module": "@jupyter-widgets/base",
      "_model_module_version": "1.2.0",
      "_model_name": "LayoutModel",
      "_view_count": null,
      "_view_module": "@jupyter-widgets/base",
      "_view_module_version": "1.2.0",
      "_view_name": "LayoutView",
      "align_content": null,
      "align_items": null,
      "align_self": null,
      "border": null,
      "bottom": null,
      "display": null,
      "flex": null,
      "flex_flow": null,
      "grid_area": null,
      "grid_auto_columns": null,
      "grid_auto_flow": null,
      "grid_auto_rows": null,
      "grid_column": null,
      "grid_gap": null,
      "grid_row": null,
      "grid_template_areas": null,
      "grid_template_columns": null,
      "grid_template_rows": null,
      "height": null,
      "justify_content": null,
      "justify_items": null,
      "left": null,
      "margin": null,
      "max_height": null,
      "max_width": null,
      "min_height": null,
      "min_width": null,
      "object_fit": null,
      "object_position": null,
      "order": null,
      "overflow": null,
      "overflow_x": null,
      "overflow_y": null,
      "padding": null,
      "right": null,
      "top": null,
      "visibility": null,
      "width": null
     }
    },
    "930f53f4d75f42cab109f4521d1af86f": {
     "model_module": "@jupyter-widgets/controls",
     "model_name": "DescriptionStyleModel",
     "state": {
      "_model_module": "@jupyter-widgets/controls",
      "_model_module_version": "1.5.0",
      "_model_name": "DescriptionStyleModel",
      "_view_count": null,
      "_view_module": "@jupyter-widgets/base",
      "_view_module_version": "1.2.0",
      "_view_name": "StyleView",
      "description_width": ""
     }
    },
    "9d85c5759c9c4ace8976773ffa0fbc85": {
     "model_module": "@jupyter-widgets/controls",
     "model_name": "HTMLModel",
     "state": {
      "_dom_classes": [],
      "_model_module": "@jupyter-widgets/controls",
      "_model_module_version": "1.5.0",
      "_model_name": "HTMLModel",
      "_view_count": null,
      "_view_module": "@jupyter-widgets/controls",
      "_view_module_version": "1.5.0",
      "_view_name": "HTMLView",
      "description": "",
      "description_tooltip": null,
      "layout": "IPY_MODEL_e7eb4464f1ec4ba5b3be72faf6a305b7",
      "placeholder": "​",
      "style": "IPY_MODEL_930f53f4d75f42cab109f4521d1af86f",
      "value": " 5120/? [00:00&lt;00:00, 15832.95it/s]"
     }
    },
    "a618fb0f6a584851adf01bcfee8d499d": {
     "model_module": "@jupyter-widgets/controls",
     "model_name": "HTMLModel",
     "state": {
      "_dom_classes": [],
      "_model_module": "@jupyter-widgets/controls",
      "_model_module_version": "1.5.0",
      "_model_name": "HTMLModel",
      "_view_count": null,
      "_view_module": "@jupyter-widgets/controls",
      "_view_module_version": "1.5.0",
      "_view_name": "HTMLView",
      "description": "",
      "description_tooltip": null,
      "layout": "IPY_MODEL_00156f9a44794eec88d0fabf21677762",
      "placeholder": "​",
      "style": "IPY_MODEL_5c8572f701d44106a1ede077323dd73c",
      "value": " 9913344/? [00:09&lt;00:00, 1024398.23it/s]"
     }
    },
    "a8a270f4ba874de7a36478d50698318d": {
     "model_module": "@jupyter-widgets/base",
     "model_name": "LayoutModel",
     "state": {
      "_model_module": "@jupyter-widgets/base",
      "_model_module_version": "1.2.0",
      "_model_name": "LayoutModel",
      "_view_count": null,
      "_view_module": "@jupyter-widgets/base",
      "_view_module_version": "1.2.0",
      "_view_name": "LayoutView",
      "align_content": null,
      "align_items": null,
      "align_self": null,
      "border": null,
      "bottom": null,
      "display": null,
      "flex": null,
      "flex_flow": null,
      "grid_area": null,
      "grid_auto_columns": null,
      "grid_auto_flow": null,
      "grid_auto_rows": null,
      "grid_column": null,
      "grid_gap": null,
      "grid_row": null,
      "grid_template_areas": null,
      "grid_template_columns": null,
      "grid_template_rows": null,
      "height": null,
      "justify_content": null,
      "justify_items": null,
      "left": null,
      "margin": null,
      "max_height": null,
      "max_width": null,
      "min_height": null,
      "min_width": null,
      "object_fit": null,
      "object_position": null,
      "order": null,
      "overflow": null,
      "overflow_x": null,
      "overflow_y": null,
      "padding": null,
      "right": null,
      "top": null,
      "visibility": null,
      "width": null
     }
    },
    "ae87e7b5163f488599b1b795619135d0": {
     "model_module": "@jupyter-widgets/base",
     "model_name": "LayoutModel",
     "state": {
      "_model_module": "@jupyter-widgets/base",
      "_model_module_version": "1.2.0",
      "_model_name": "LayoutModel",
      "_view_count": null,
      "_view_module": "@jupyter-widgets/base",
      "_view_module_version": "1.2.0",
      "_view_name": "LayoutView",
      "align_content": null,
      "align_items": null,
      "align_self": null,
      "border": null,
      "bottom": null,
      "display": null,
      "flex": null,
      "flex_flow": null,
      "grid_area": null,
      "grid_auto_columns": null,
      "grid_auto_flow": null,
      "grid_auto_rows": null,
      "grid_column": null,
      "grid_gap": null,
      "grid_row": null,
      "grid_template_areas": null,
      "grid_template_columns": null,
      "grid_template_rows": null,
      "height": null,
      "justify_content": null,
      "justify_items": null,
      "left": null,
      "margin": null,
      "max_height": null,
      "max_width": null,
      "min_height": null,
      "min_width": null,
      "object_fit": null,
      "object_position": null,
      "order": null,
      "overflow": null,
      "overflow_x": null,
      "overflow_y": null,
      "padding": null,
      "right": null,
      "top": null,
      "visibility": null,
      "width": null
     }
    },
    "b86f4e15b3c94786a063e5b141af6509": {
     "model_module": "@jupyter-widgets/base",
     "model_name": "LayoutModel",
     "state": {
      "_model_module": "@jupyter-widgets/base",
      "_model_module_version": "1.2.0",
      "_model_name": "LayoutModel",
      "_view_count": null,
      "_view_module": "@jupyter-widgets/base",
      "_view_module_version": "1.2.0",
      "_view_name": "LayoutView",
      "align_content": null,
      "align_items": null,
      "align_self": null,
      "border": null,
      "bottom": null,
      "display": null,
      "flex": null,
      "flex_flow": null,
      "grid_area": null,
      "grid_auto_columns": null,
      "grid_auto_flow": null,
      "grid_auto_rows": null,
      "grid_column": null,
      "grid_gap": null,
      "grid_row": null,
      "grid_template_areas": null,
      "grid_template_columns": null,
      "grid_template_rows": null,
      "height": null,
      "justify_content": null,
      "justify_items": null,
      "left": null,
      "margin": null,
      "max_height": null,
      "max_width": null,
      "min_height": null,
      "min_width": null,
      "object_fit": null,
      "object_position": null,
      "order": null,
      "overflow": null,
      "overflow_x": null,
      "overflow_y": null,
      "padding": null,
      "right": null,
      "top": null,
      "visibility": null,
      "width": null
     }
    },
    "cdf5bbab52ad47e3bb654eb58ca2dc1c": {
     "model_module": "@jupyter-widgets/base",
     "model_name": "LayoutModel",
     "state": {
      "_model_module": "@jupyter-widgets/base",
      "_model_module_version": "1.2.0",
      "_model_name": "LayoutModel",
      "_view_count": null,
      "_view_module": "@jupyter-widgets/base",
      "_view_module_version": "1.2.0",
      "_view_name": "LayoutView",
      "align_content": null,
      "align_items": null,
      "align_self": null,
      "border": null,
      "bottom": null,
      "display": null,
      "flex": null,
      "flex_flow": null,
      "grid_area": null,
      "grid_auto_columns": null,
      "grid_auto_flow": null,
      "grid_auto_rows": null,
      "grid_column": null,
      "grid_gap": null,
      "grid_row": null,
      "grid_template_areas": null,
      "grid_template_columns": null,
      "grid_template_rows": null,
      "height": null,
      "justify_content": null,
      "justify_items": null,
      "left": null,
      "margin": null,
      "max_height": null,
      "max_width": null,
      "min_height": null,
      "min_width": null,
      "object_fit": null,
      "object_position": null,
      "order": null,
      "overflow": null,
      "overflow_x": null,
      "overflow_y": null,
      "padding": null,
      "right": null,
      "top": null,
      "visibility": null,
      "width": null
     }
    },
    "e7eb4464f1ec4ba5b3be72faf6a305b7": {
     "model_module": "@jupyter-widgets/base",
     "model_name": "LayoutModel",
     "state": {
      "_model_module": "@jupyter-widgets/base",
      "_model_module_version": "1.2.0",
      "_model_name": "LayoutModel",
      "_view_count": null,
      "_view_module": "@jupyter-widgets/base",
      "_view_module_version": "1.2.0",
      "_view_name": "LayoutView",
      "align_content": null,
      "align_items": null,
      "align_self": null,
      "border": null,
      "bottom": null,
      "display": null,
      "flex": null,
      "flex_flow": null,
      "grid_area": null,
      "grid_auto_columns": null,
      "grid_auto_flow": null,
      "grid_auto_rows": null,
      "grid_column": null,
      "grid_gap": null,
      "grid_row": null,
      "grid_template_areas": null,
      "grid_template_columns": null,
      "grid_template_rows": null,
      "height": null,
      "justify_content": null,
      "justify_items": null,
      "left": null,
      "margin": null,
      "max_height": null,
      "max_width": null,
      "min_height": null,
      "min_width": null,
      "object_fit": null,
      "object_position": null,
      "order": null,
      "overflow": null,
      "overflow_x": null,
      "overflow_y": null,
      "padding": null,
      "right": null,
      "top": null,
      "visibility": null,
      "width": null
     }
    },
    "ea3b719488a7475bbc950521aa3bf579": {
     "model_module": "@jupyter-widgets/controls",
     "model_name": "FloatProgressModel",
     "state": {
      "_dom_classes": [],
      "_model_module": "@jupyter-widgets/controls",
      "_model_module_version": "1.5.0",
      "_model_name": "FloatProgressModel",
      "_view_count": null,
      "_view_module": "@jupyter-widgets/controls",
      "_view_module_version": "1.5.0",
      "_view_name": "ProgressView",
      "bar_style": "success",
      "description": "",
      "description_tooltip": null,
      "layout": "IPY_MODEL_9130b26273524a8fb577c1fb69f45bfc",
      "max": 28881,
      "min": 0,
      "orientation": "horizontal",
      "style": "IPY_MODEL_4a18b6ea0e0d48b6907310ba8bcfa777",
      "value": 28881
     }
    },
    "f71bb633f34d460c9c502e96de6a1b6d": {
     "model_module": "@jupyter-widgets/controls",
     "model_name": "HBoxModel",
     "state": {
      "_dom_classes": [],
      "_model_module": "@jupyter-widgets/controls",
      "_model_module_version": "1.5.0",
      "_model_name": "HBoxModel",
      "_view_count": null,
      "_view_module": "@jupyter-widgets/controls",
      "_view_module_version": "1.5.0",
      "_view_name": "HBoxView",
      "box_style": "",
      "children": [
       "IPY_MODEL_ea3b719488a7475bbc950521aa3bf579",
       "IPY_MODEL_5a1bf9e9bd334686b1613289e5dfb9ab"
      ],
      "layout": "IPY_MODEL_8c73ea2162524bdd8efe23a94409d507"
     }
    },
    "f742217644f348b89a393bdcf4b2f881": {
     "model_module": "@jupyter-widgets/controls",
     "model_name": "ProgressStyleModel",
     "state": {
      "_model_module": "@jupyter-widgets/controls",
      "_model_module_version": "1.5.0",
      "_model_name": "ProgressStyleModel",
      "_view_count": null,
      "_view_module": "@jupyter-widgets/base",
      "_view_module_version": "1.2.0",
      "_view_name": "StyleView",
      "bar_color": null,
      "description_width": "initial"
     }
    },
    "fa3952697c4b485299de03f378f38064": {
     "model_module": "@jupyter-widgets/controls",
     "model_name": "FloatProgressModel",
     "state": {
      "_dom_classes": [],
      "_model_module": "@jupyter-widgets/controls",
      "_model_module_version": "1.5.0",
      "_model_name": "FloatProgressModel",
      "_view_count": null,
      "_view_module": "@jupyter-widgets/controls",
      "_view_module_version": "1.5.0",
      "_view_name": "ProgressView",
      "bar_style": "success",
      "description": "",
      "description_tooltip": null,
      "layout": "IPY_MODEL_cdf5bbab52ad47e3bb654eb58ca2dc1c",
      "max": 4542,
      "min": 0,
      "orientation": "horizontal",
      "style": "IPY_MODEL_f742217644f348b89a393bdcf4b2f881",
      "value": 4542
     }
    }
   }
  }
 },
 "nbformat": 4,
 "nbformat_minor": 4
}
