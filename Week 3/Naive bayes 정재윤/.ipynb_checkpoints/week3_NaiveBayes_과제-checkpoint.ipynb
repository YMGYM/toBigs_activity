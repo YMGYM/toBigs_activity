{
 "cells": [
  {
   "cell_type": "markdown",
   "metadata": {
    "id": "W3Zkr2JGup19"
   },
   "source": [
    "# Assignment"
   ]
  },
  {
   "cell_type": "markdown",
   "metadata": {
    "id": "hJEhM1uAup2I"
   },
   "source": [
    "## 우리의 목표 : 나이브베이즈 문제 해결하기\n",
    "1.1) 입력문서가 {fast, furious, fun} 만을 주요 단어로 가질때, 이 문서는 얼마의 확률로 어떤 문서로 분류되는가?\n",
    "\n",
    "##### 노트북 파일을 따라오면서, 빈칸과 질문에 대한 물음을 모두 채우시면 과제 완료 입니다 "
   ]
  },
  {
   "cell_type": "markdown",
   "metadata": {
    "id": "ZSwttCJnup2K"
   },
   "source": [
    "### 주어진 dataset 을 확인해 보기위해 엑셀 파일을 읽습니다."
   ]
  },
  {
   "cell_type": "code",
   "execution_count": 1,
   "metadata": {
    "id": "PHRU587dup2K"
   },
   "outputs": [],
   "source": [
    "import numpy as np\n",
    "import pandas as pd"
   ]
  },
  {
   "cell_type": "code",
   "execution_count": 2,
   "metadata": {
    "id": "Bz0IgHzGup2T"
   },
   "outputs": [],
   "source": [
    "documents = pd.read_excel('test_file.xlsx') "
   ]
  },
  {
   "cell_type": "code",
   "execution_count": 3,
   "metadata": {
    "id": "yZt4AtNTup2W",
    "outputId": "f4b0e76e-c63f-45bc-d217-12684e5e77a3"
   },
   "outputs": [
    {
     "data": {
      "text/html": [
       "<div>\n",
       "<style scoped>\n",
       "    .dataframe tbody tr th:only-of-type {\n",
       "        vertical-align: middle;\n",
       "    }\n",
       "\n",
       "    .dataframe tbody tr th {\n",
       "        vertical-align: top;\n",
       "    }\n",
       "\n",
       "    .dataframe thead th {\n",
       "        text-align: right;\n",
       "    }\n",
       "</style>\n",
       "<table border=\"1\" class=\"dataframe\">\n",
       "  <thead>\n",
       "    <tr style=\"text-align: right;\">\n",
       "      <th></th>\n",
       "      <th>label</th>\n",
       "      <th>message</th>\n",
       "    </tr>\n",
       "  </thead>\n",
       "  <tbody>\n",
       "    <tr>\n",
       "      <th>0</th>\n",
       "      <td>comedy</td>\n",
       "      <td>Fun couple, love love</td>\n",
       "    </tr>\n",
       "    <tr>\n",
       "      <th>1</th>\n",
       "      <td>action</td>\n",
       "      <td>fast Furious, shoot!!</td>\n",
       "    </tr>\n",
       "    <tr>\n",
       "      <th>2</th>\n",
       "      <td>comedy</td>\n",
       "      <td>couple^^, fly, fast, fun, fun</td>\n",
       "    </tr>\n",
       "    <tr>\n",
       "      <th>3</th>\n",
       "      <td>action</td>\n",
       "      <td>furious, shoot shoot fun</td>\n",
       "    </tr>\n",
       "    <tr>\n",
       "      <th>4</th>\n",
       "      <td>action</td>\n",
       "      <td>fly~~ fast shoot, Love</td>\n",
       "    </tr>\n",
       "  </tbody>\n",
       "</table>\n",
       "</div>"
      ],
      "text/plain": [
       "    label                        message\n",
       "0  comedy          Fun couple, love love\n",
       "1  action          fast Furious, shoot!!\n",
       "2  comedy  couple^^, fly, fast, fun, fun\n",
       "3  action       furious, shoot shoot fun\n",
       "4  action         fly~~ fast shoot, Love"
      ]
     },
     "execution_count": 3,
     "metadata": {},
     "output_type": "execute_result"
    }
   ],
   "source": [
    "documents "
   ]
  },
  {
   "cell_type": "markdown",
   "metadata": {
    "id": "prP57Inaup2Y"
   },
   "source": [
    "####  Q1. **문제점**(전처리가 필요한 부분)을 2가지 이상 적어주세요.\n",
    "1. 문장에 특수기호('^^', '~~' 가 존재한다.)\n",
    "2. 'Fun' 과 'fun' 이 다른 단어로 인식될 가능성이 존재한다.\n",
    "3. 띄어쓰기와 , 가 혼재해서 존재한다. 구분의 명확성을 위해 제거가 필요하다."
   ]
  },
  {
   "cell_type": "markdown",
   "metadata": {
    "id": "cXxX9Yx7up2Y"
   },
   "source": [
    "### step 1. 단어를 모두 소문자로 바꾸어 줍니다. \n",
    "\n",
    "#### Q2. 코드속 빈칸을 채워주세요"
   ]
  },
  {
   "cell_type": "code",
   "execution_count": 5,
   "metadata": {
    "id": "UCX42MsAup2Z",
    "outputId": "208f4928-3251-425f-bad5-721b3a873ae6"
   },
   "outputs": [
    {
     "name": "stdout",
     "output_type": "stream",
     "text": [
      "['fun couple, love love', 'fast furious, shoot!!', 'couple^^, fly, fast, fun, fun', 'furious, shoot shoot fun', 'fly~~ fast shoot, love']\n"
     ]
    }
   ],
   "source": [
    "lower_documents = []\n",
    "lower_documents = [d.lower() for d in documents['message']]\n",
    "print(lower_documents)"
   ]
  },
  {
   "cell_type": "markdown",
   "metadata": {
    "id": "QZDgo93Lup2a"
   },
   "source": [
    "### step2. 특수문자를 없애줍니다.\n",
    "#### string.punctuation 에는 특수문자들이 저장되어있는것을 확인할수 있습니다."
   ]
  },
  {
   "cell_type": "code",
   "execution_count": 9,
   "metadata": {
    "id": "Nldmu4gvup2a",
    "outputId": "46cd9c50-25af-483e-b9bc-68daeaa445ef"
   },
   "outputs": [
    {
     "data": {
      "text/plain": [
       "'!\"#$%&\\'()*+,-./:;<=>?@[\\\\]^_`{|}~'"
      ]
     },
     "execution_count": 9,
     "metadata": {},
     "output_type": "execute_result"
    }
   ],
   "source": [
    "import string\n",
    "string.punctuation"
   ]
  },
  {
   "cell_type": "markdown",
   "metadata": {
    "id": "B8uDOYzWup2b"
   },
   "source": [
    "### Q3. string.punctuation 을 이용해서 특수문자를 제거해주세요."
   ]
  },
  {
   "cell_type": "code",
   "execution_count": 48,
   "metadata": {
    "id": "oWaKMt1Mup2b",
    "outputId": "938b31f7-087e-4ea6-90d2-00f354d82c84"
   },
   "outputs": [
    {
     "name": "stdout",
     "output_type": "stream",
     "text": [
      "fun couple, love love\n",
      "fast furious, shoot!!\n",
      "couple^^, fly, fast, fun, fun\n",
      "furious, shoot shoot fun\n",
      "fly~~ fast shoot, love\n"
     ]
    },
    {
     "data": {
      "text/plain": [
       "['fun couple love love',\n",
       " 'fast furious shoot',\n",
       " 'couple fly fast fun fun',\n",
       " 'furious shoot shoot fun',\n",
       " 'fly fast shoot love']"
      ]
     },
     "execution_count": 48,
     "metadata": {},
     "output_type": "execute_result"
    }
   ],
   "source": [
    "import re\n",
    "\n",
    "del_punctuation_documents = []\n",
    "p = re.compile(f\"[{string.punctuation}]\") # 정규표현식 컴파일\n",
    "\n",
    "for i in lower_documents:\n",
    "    print(i)\n",
    "    del_punctuation_documents.append(re.sub(p,'', i))\n",
    "    \n",
    "del_punctuation_documents"
   ]
  },
  {
   "cell_type": "markdown",
   "metadata": {
    "id": "kjSXpYvcup2e"
   },
   "source": [
    "### step 3. 단어를 하나씩 띄어쓰기 단위로 쪼개어 줍니다.\n",
    "#### Q4. 빈칸을 채워주세요."
   ]
  },
  {
   "cell_type": "code",
   "execution_count": 49,
   "metadata": {
    "id": "DheDzRAGup2f",
    "outputId": "2ba3549b-101d-4ac6-ae61-90a602fb1d8b"
   },
   "outputs": [
    {
     "data": {
      "text/plain": [
       "[['fun', 'couple', 'love', 'love'],\n",
       " ['fast', 'furious', 'shoot'],\n",
       " ['couple', 'fly', 'fast', 'fun', 'fun'],\n",
       " ['furious', 'shoot', 'shoot', 'fun'],\n",
       " ['fly', 'fast', 'shoot', 'love']]"
      ]
     },
     "execution_count": 49,
     "metadata": {},
     "output_type": "execute_result"
    }
   ],
   "source": [
    "preprocessed_documents = [[w for w in d.split()] for d in del_punctuation_documents]\n",
    "preprocessed_documents"
   ]
  },
  {
   "cell_type": "markdown",
   "metadata": {
    "id": "uUgfKy2Jup2g"
   },
   "source": [
    "### step 4. 각각의 단어가 문서에서 몇번 나왔는지 세봅시다."
   ]
  },
  {
   "cell_type": "code",
   "execution_count": 50,
   "metadata": {
    "id": "1oeyBhDPup2h",
    "outputId": "c49073d4-0abb-4919-a8f3-c5bf4fffea1b"
   },
   "outputs": [
    {
     "data": {
      "text/plain": [
       "[Counter({'fun': 1, 'couple': 1, 'love': 2}),\n",
       " Counter({'fast': 1, 'furious': 1, 'shoot': 1}),\n",
       " Counter({'couple': 1, 'fly': 1, 'fast': 1, 'fun': 2}),\n",
       " Counter({'furious': 1, 'shoot': 2, 'fun': 1}),\n",
       " Counter({'fly': 1, 'fast': 1, 'shoot': 1, 'love': 1})]"
      ]
     },
     "execution_count": 50,
     "metadata": {},
     "output_type": "execute_result"
    }
   ],
   "source": [
    "frequency_list = []\n",
    "from collections import Counter\n",
    "\n",
    "frequency_list = [Counter(d) for d in preprocessed_documents]\n",
    "frequency_list"
   ]
  },
  {
   "cell_type": "markdown",
   "metadata": {
    "id": "S49LF8aoup2i"
   },
   "source": [
    "### step 5. 이제 우리가 하고싶은것은, 문자를 숫자로 변환하는 작업입니다!(그림 참고)\n",
    "- 이를 위해 CountVectorizer를 사용합니다.\n",
    "- CountVectorizer는 문서 집합에서 단어 토큰을 생성하고, 각 단어 수를 세어 BOW (Bag of Words) 인코딩한 벡터를 만들어줍니다.\n",
    "\n",
    "- 문서에 해당단어가 몇번 포함되었는지를 나타낼 때 사용하는 방법입니다.\n",
    "\n",
    "- 참고 : https://datascienceschool.net/view-notebook/3e7aadbf88ed4f0d87a76f9ddc925d69/"
   ]
  },
  {
   "cell_type": "markdown",
   "metadata": {
    "id": "ZJSEL2Vwup2i"
   },
   "source": [
    "![CountVectorized](https://user-images.githubusercontent.com/68625698/106378540-15d8ed80-63e9-11eb-8604-5c960c274867.PNG)"
   ]
  },
  {
   "cell_type": "code",
   "execution_count": 51,
   "metadata": {
    "id": "AfRgjbxhup2i",
    "outputId": "5a0d2491-d8f8-4f94-fe74-7771d5bcfb71"
   },
   "outputs": [
    {
     "data": {
      "text/plain": [
       "CountVectorizer()"
      ]
     },
     "execution_count": 51,
     "metadata": {},
     "output_type": "execute_result"
    }
   ],
   "source": [
    "from sklearn.feature_extraction.text import CountVectorizer\n",
    "count_vector = CountVectorizer()\n",
    "count_vector.fit(documents['message'])"
   ]
  },
  {
   "cell_type": "code",
   "execution_count": 52,
   "metadata": {
    "id": "EYcgD99Lup2j",
    "outputId": "70834bae-f77a-486f-f028-b09dd8391180"
   },
   "outputs": [
    {
     "data": {
      "text/plain": [
       "array([[1, 0, 0, 1, 0, 2, 0],\n",
       "       [0, 1, 0, 0, 1, 0, 1],\n",
       "       [1, 1, 1, 2, 0, 0, 0],\n",
       "       [0, 0, 0, 1, 1, 0, 2],\n",
       "       [0, 1, 1, 0, 0, 1, 1]])"
      ]
     },
     "execution_count": 52,
     "metadata": {},
     "output_type": "execute_result"
    }
   ],
   "source": [
    "doc_array = count_vector.transform(documents['message']).toarray()\n",
    "doc_array"
   ]
  },
  {
   "cell_type": "code",
   "execution_count": 53,
   "metadata": {
    "id": "mKpKp6q6up2k",
    "outputId": "72e87734-a918-400e-8a26-d3d2502a62cd"
   },
   "outputs": [
    {
     "data": {
      "text/plain": [
       "['couple', 'fast', 'fly', 'fun', 'furious', 'love', 'shoot']"
      ]
     },
     "execution_count": 53,
     "metadata": {},
     "output_type": "execute_result"
    }
   ],
   "source": [
    "count_vector.get_feature_names()"
   ]
  },
  {
   "cell_type": "code",
   "execution_count": 54,
   "metadata": {
    "id": "ZYyBzSVUup2k",
    "outputId": "3a299a33-09a0-4fb4-b289-20219b4f786e"
   },
   "outputs": [
    {
     "data": {
      "text/plain": [
       "{'fun': 3,\n",
       " 'couple': 0,\n",
       " 'love': 5,\n",
       " 'fast': 1,\n",
       " 'furious': 4,\n",
       " 'shoot': 6,\n",
       " 'fly': 2}"
      ]
     },
     "execution_count": 54,
     "metadata": {},
     "output_type": "execute_result"
    }
   ],
   "source": [
    "count_vector.vocabulary_"
   ]
  },
  {
   "cell_type": "code",
   "execution_count": 55,
   "metadata": {
    "id": "NxPjKxQTup2l",
    "outputId": "5c6b8d7d-7eb5-4ab1-eaac-2bbad08edae0"
   },
   "outputs": [
    {
     "data": {
      "text/html": [
       "<div>\n",
       "<style scoped>\n",
       "    .dataframe tbody tr th:only-of-type {\n",
       "        vertical-align: middle;\n",
       "    }\n",
       "\n",
       "    .dataframe tbody tr th {\n",
       "        vertical-align: top;\n",
       "    }\n",
       "\n",
       "    .dataframe thead th {\n",
       "        text-align: right;\n",
       "    }\n",
       "</style>\n",
       "<table border=\"1\" class=\"dataframe\">\n",
       "  <thead>\n",
       "    <tr style=\"text-align: right;\">\n",
       "      <th></th>\n",
       "      <th>couple</th>\n",
       "      <th>fast</th>\n",
       "      <th>fly</th>\n",
       "      <th>fun</th>\n",
       "      <th>furious</th>\n",
       "      <th>love</th>\n",
       "      <th>shoot</th>\n",
       "    </tr>\n",
       "  </thead>\n",
       "  <tbody>\n",
       "    <tr>\n",
       "      <th>0</th>\n",
       "      <td>1</td>\n",
       "      <td>0</td>\n",
       "      <td>0</td>\n",
       "      <td>1</td>\n",
       "      <td>0</td>\n",
       "      <td>2</td>\n",
       "      <td>0</td>\n",
       "    </tr>\n",
       "    <tr>\n",
       "      <th>1</th>\n",
       "      <td>0</td>\n",
       "      <td>1</td>\n",
       "      <td>0</td>\n",
       "      <td>0</td>\n",
       "      <td>1</td>\n",
       "      <td>0</td>\n",
       "      <td>1</td>\n",
       "    </tr>\n",
       "    <tr>\n",
       "      <th>2</th>\n",
       "      <td>1</td>\n",
       "      <td>1</td>\n",
       "      <td>1</td>\n",
       "      <td>2</td>\n",
       "      <td>0</td>\n",
       "      <td>0</td>\n",
       "      <td>0</td>\n",
       "    </tr>\n",
       "    <tr>\n",
       "      <th>3</th>\n",
       "      <td>0</td>\n",
       "      <td>0</td>\n",
       "      <td>0</td>\n",
       "      <td>1</td>\n",
       "      <td>1</td>\n",
       "      <td>0</td>\n",
       "      <td>2</td>\n",
       "    </tr>\n",
       "    <tr>\n",
       "      <th>4</th>\n",
       "      <td>0</td>\n",
       "      <td>1</td>\n",
       "      <td>1</td>\n",
       "      <td>0</td>\n",
       "      <td>0</td>\n",
       "      <td>1</td>\n",
       "      <td>1</td>\n",
       "    </tr>\n",
       "  </tbody>\n",
       "</table>\n",
       "</div>"
      ],
      "text/plain": [
       "   couple  fast  fly  fun  furious  love  shoot\n",
       "0       1     0    0    1        0     2      0\n",
       "1       0     1    0    0        1     0      1\n",
       "2       1     1    1    2        0     0      0\n",
       "3       0     0    0    1        1     0      2\n",
       "4       0     1    1    0        0     1      1"
      ]
     },
     "execution_count": 55,
     "metadata": {},
     "output_type": "execute_result"
    }
   ],
   "source": [
    "frequency_matrix = pd.DataFrame(doc_array, columns = count_vector.get_feature_names())\n",
    "frequency_matrix"
   ]
  },
  {
   "cell_type": "code",
   "execution_count": 56,
   "metadata": {
    "id": "nFDEoN6iup2l"
   },
   "outputs": [],
   "source": [
    "frequency_matrix['count'] = frequency_matrix.sum(axis=1)"
   ]
  },
  {
   "cell_type": "markdown",
   "metadata": {
    "id": "ECND0-Xiup2l"
   },
   "source": [
    "### step 6. 범주형 변수를 dummy변수로 변환해주는 작업(One-Hot Encoding!)을 해주어야합니다.\n",
    "#### Q5. label 을 comedy =1, action =0 으로 변환해주세요"
   ]
  },
  {
   "cell_type": "code",
   "execution_count": 57,
   "metadata": {
    "id": "A4gTPrNhup2m"
   },
   "outputs": [],
   "source": [
    "documents[\"label\"]= documents[\"label\"].map(lambda x: 1 if x == \"comedy\" else 0)"
   ]
  },
  {
   "cell_type": "code",
   "execution_count": 58,
   "metadata": {
    "id": "21OXioBWup2m"
   },
   "outputs": [],
   "source": [
    "doc = pd.concat([documents['label'],frequency_matrix],axis=1)"
   ]
  },
  {
   "cell_type": "code",
   "execution_count": 59,
   "metadata": {
    "id": "Q2835Qg-up2m",
    "outputId": "439892aa-9db7-45a5-8ea8-65ba905af2d8"
   },
   "outputs": [
    {
     "data": {
      "text/html": [
       "<div>\n",
       "<style scoped>\n",
       "    .dataframe tbody tr th:only-of-type {\n",
       "        vertical-align: middle;\n",
       "    }\n",
       "\n",
       "    .dataframe tbody tr th {\n",
       "        vertical-align: top;\n",
       "    }\n",
       "\n",
       "    .dataframe thead th {\n",
       "        text-align: right;\n",
       "    }\n",
       "</style>\n",
       "<table border=\"1\" class=\"dataframe\">\n",
       "  <thead>\n",
       "    <tr style=\"text-align: right;\">\n",
       "      <th></th>\n",
       "      <th>label</th>\n",
       "      <th>couple</th>\n",
       "      <th>fast</th>\n",
       "      <th>fly</th>\n",
       "      <th>fun</th>\n",
       "      <th>furious</th>\n",
       "      <th>love</th>\n",
       "      <th>shoot</th>\n",
       "      <th>count</th>\n",
       "    </tr>\n",
       "  </thead>\n",
       "  <tbody>\n",
       "    <tr>\n",
       "      <th>0</th>\n",
       "      <td>1</td>\n",
       "      <td>1</td>\n",
       "      <td>0</td>\n",
       "      <td>0</td>\n",
       "      <td>1</td>\n",
       "      <td>0</td>\n",
       "      <td>2</td>\n",
       "      <td>0</td>\n",
       "      <td>4</td>\n",
       "    </tr>\n",
       "    <tr>\n",
       "      <th>1</th>\n",
       "      <td>0</td>\n",
       "      <td>0</td>\n",
       "      <td>1</td>\n",
       "      <td>0</td>\n",
       "      <td>0</td>\n",
       "      <td>1</td>\n",
       "      <td>0</td>\n",
       "      <td>1</td>\n",
       "      <td>3</td>\n",
       "    </tr>\n",
       "    <tr>\n",
       "      <th>2</th>\n",
       "      <td>1</td>\n",
       "      <td>1</td>\n",
       "      <td>1</td>\n",
       "      <td>1</td>\n",
       "      <td>2</td>\n",
       "      <td>0</td>\n",
       "      <td>0</td>\n",
       "      <td>0</td>\n",
       "      <td>5</td>\n",
       "    </tr>\n",
       "    <tr>\n",
       "      <th>3</th>\n",
       "      <td>0</td>\n",
       "      <td>0</td>\n",
       "      <td>0</td>\n",
       "      <td>0</td>\n",
       "      <td>1</td>\n",
       "      <td>1</td>\n",
       "      <td>0</td>\n",
       "      <td>2</td>\n",
       "      <td>4</td>\n",
       "    </tr>\n",
       "    <tr>\n",
       "      <th>4</th>\n",
       "      <td>0</td>\n",
       "      <td>0</td>\n",
       "      <td>1</td>\n",
       "      <td>1</td>\n",
       "      <td>0</td>\n",
       "      <td>0</td>\n",
       "      <td>1</td>\n",
       "      <td>1</td>\n",
       "      <td>4</td>\n",
       "    </tr>\n",
       "  </tbody>\n",
       "</table>\n",
       "</div>"
      ],
      "text/plain": [
       "   label  couple  fast  fly  fun  furious  love  shoot  count\n",
       "0      1       1     0    0    1        0     2      0      4\n",
       "1      0       0     1    0    0        1     0      1      3\n",
       "2      1       1     1    1    2        0     0      0      5\n",
       "3      0       0     0    0    1        1     0      2      4\n",
       "4      0       0     1    1    0        0     1      1      4"
      ]
     },
     "execution_count": 59,
     "metadata": {},
     "output_type": "execute_result"
    }
   ],
   "source": [
    "doc"
   ]
  },
  {
   "cell_type": "markdown",
   "metadata": {
    "id": "J3djcEgzup2n"
   },
   "source": [
    "###  step 7. 나이브 베이즈 계산을 해봅시다!\n",
    "\n",
    "#### Q6. 입력문서가 {fast, furious, fun} 을 주요 단어로 가질때, 이 문서는 얼마의 확률로 어떤 문서로 분류가 될까요? ( 계산과정을 채워주세요) "
   ]
  },
  {
   "cell_type": "code",
   "execution_count": 60,
   "metadata": {
    "id": "GdeYF_4rup2n",
    "outputId": "92082346-2dc3-4650-ca5b-608ff0c18286"
   },
   "outputs": [
    {
     "data": {
      "text/plain": [
       "array([[1, 1, 0, 0, 1, 0, 2, 0, 4],\n",
       "       [0, 0, 1, 0, 0, 1, 0, 1, 3],\n",
       "       [1, 1, 1, 1, 2, 0, 0, 0, 5],\n",
       "       [0, 0, 0, 0, 1, 1, 0, 2, 4],\n",
       "       [0, 0, 1, 1, 0, 0, 1, 1, 4]])"
      ]
     },
     "execution_count": 60,
     "metadata": {},
     "output_type": "execute_result"
    }
   ],
   "source": [
    "doc = doc.to_numpy()           # dataframe을 np-array로 변환해줍니다.\n",
    "                               # return값은 np-matrix가 아니라 np-array입니다.\n",
    "doc"
   ]
  },
  {
   "cell_type": "code",
   "execution_count": 61,
   "metadata": {
    "id": "JgtmVeawup2n",
    "outputId": "22b058bc-4610-4aff-e4a8-b96b414ceaf8"
   },
   "outputs": [
    {
     "data": {
      "text/plain": [
       "numpy.ndarray"
      ]
     },
     "execution_count": 61,
     "metadata": {},
     "output_type": "execute_result"
    }
   ],
   "source": [
    "type(doc)"
   ]
  },
  {
   "cell_type": "markdown",
   "metadata": {
    "id": "1qxqVZyXup2o"
   },
   "source": [
    "####  P(Y=comedy), P(Y=action) 계산하기"
   ]
  },
  {
   "cell_type": "code",
   "execution_count": 62,
   "metadata": {
    "id": "frcppWOnup2o"
   },
   "outputs": [],
   "source": [
    "# P(Y=comedy)\n",
    "p_comedy = sum(doc[:,0]==1) / len(doc)\n",
    "\n",
    "# P(Y=action)\n",
    "p_action = sum(doc[:,0]==0) / len(doc)"
   ]
  },
  {
   "cell_type": "code",
   "execution_count": 64,
   "metadata": {
    "id": "Yeh96yycup2q"
   },
   "outputs": [
    {
     "name": "stdout",
     "output_type": "stream",
     "text": [
      "p_comedy :  0.4\n",
      "p_action :  0.6\n"
     ]
    }
   ],
   "source": [
    "print('p_comedy : ',p_comedy)\n",
    "print('p_action : ', p_action)\n",
    "# 합을 확인해 보니 0이 나오는 것으로 확인할 수 있겠다."
   ]
  },
  {
   "cell_type": "markdown",
   "metadata": {
    "id": "85_GjF4Yup2r"
   },
   "source": [
    "#### P(fast=1|comedy=1), P(furious=1|comedy=1), P(fun=1|comedy=1) 계산하기\n",
    "* 참고 : 문서에 두번 등장한 단어 주의"
   ]
  },
  {
   "cell_type": "code",
   "execution_count": 113,
   "metadata": {},
   "outputs": [
    {
     "data": {
      "text/plain": [
       "array([], dtype=int64)"
      ]
     },
     "execution_count": 113,
     "metadata": {},
     "output_type": "execute_result"
    }
   ],
   "source": [
    "doc[(doc[:,5] >= 1) & (doc[:,0]==1)][:, 5]"
   ]
  },
  {
   "cell_type": "code",
   "execution_count": 109,
   "metadata": {
    "id": "yHkk52I-up2y"
   },
   "outputs": [],
   "source": [
    "# P(fast=1|comedy=1)\n",
    "p_comedy_fast = sum(doc[(doc[:,2] >= 1) & (doc[:,0]==1)][:, 2]) / sum(doc[doc[:,0]==1][:,-1]) # 베이즈 정리를 활용\n",
    "\n",
    "# P(furious=1|comedy=1)\n",
    "p_comedy_furious = sum(doc[(doc[:,5] >= 1) & (doc[:,0]==1)][:, 5]) /  sum(doc[doc[:,0]==1][:,-1])\n",
    "\n",
    "# P(fun=1|comedy=1)\n",
    "p_comedy_fun = sum(doc[(doc[:,4] >= 1) & (doc[:,0]==1)][:, 4]) / sum(doc[doc[:,0]==1][:,-1])"
   ]
  },
  {
   "cell_type": "code",
   "execution_count": 110,
   "metadata": {
    "id": "_1GyvhmTup21"
   },
   "outputs": [
    {
     "name": "stdout",
     "output_type": "stream",
     "text": [
      "p_comedy_fast :  0.1111111111111111\n",
      "p_comedy_furious :  0.0\n",
      "p_comedy_fun :  0.3333333333333333\n"
     ]
    }
   ],
   "source": [
    "print('p_comedy_fast : ' , p_comedy_fast)\n",
    "print('p_comedy_furious : ' , p_comedy_furious) # comedy 이면서 furious 단어가 등장하는 경우는 없었다.\n",
    "print('p_comedy_fun : ' , p_comedy_fun)   "
   ]
  },
  {
   "cell_type": "markdown",
   "metadata": {
    "id": "qefcvWQ-up22"
   },
   "source": [
    "#### P(fast=1|action=1), P(furious=1|action=1), P(fun=1|action=1) 계산하기\n",
    "* 참고 : 문서에 두번 등장한 단어 주의"
   ]
  },
  {
   "cell_type": "code",
   "execution_count": 114,
   "metadata": {
    "id": "wCUO0jxcup23"
   },
   "outputs": [],
   "source": [
    "# P(fast=1|action=1)\n",
    "p_action_fast = sum(doc[(doc[:,2] >= 1) & (doc[:,0]==0)][:, 2]) / sum(doc[doc[:,0]==0][:,-1])\n",
    "\n",
    "# P(furious=1|action=1)\n",
    "p_action_furious = sum(doc[(doc[:,5] >= 1) & (doc[:,0]==0)][:, 5]) / sum(doc[doc[:,0]==0][:,-1])\n",
    "\n",
    "# P(fun=1|action=1)\n",
    "p_action_fun = sum(doc[(doc[:,4] >= 1) & (doc[:,0]==0)][:, 4]) / sum(doc[doc[:,0]==0][:,-1])"
   ]
  },
  {
   "cell_type": "code",
   "execution_count": 115,
   "metadata": {
    "id": "qZlOkRG7up23"
   },
   "outputs": [
    {
     "name": "stdout",
     "output_type": "stream",
     "text": [
      "p_action_fast :  0.18181818181818182\n",
      "p_action_furious :  0.18181818181818182\n",
      "p_action_fun :  0.09090909090909091\n"
     ]
    }
   ],
   "source": [
    "print('p_action_fast : ' , p_action_fast)\n",
    "print('p_action_furious : ' , p_action_furious)\n",
    "print('p_action_fun : ' , p_action_fun)  "
   ]
  },
  {
   "cell_type": "markdown",
   "metadata": {
    "id": "sts9BLUeup23"
   },
   "source": [
    "#### P(Y = comedy| X = fast, furious, fun) , P(Y = action=1| X = fast, furious, fun) 값 계산하기"
   ]
  },
  {
   "cell_type": "code",
   "execution_count": 120,
   "metadata": {
    "id": "sVl-vZv4up23"
   },
   "outputs": [],
   "source": [
    "#P(Y = comedy| X = fast, furious, fun) : 나이브 베이즈의 기본 가정에 의해\n",
    "proba_comedy = (p_comedy_fast * p_comedy_fun * p_comedy_furious * p_comedy)\n",
    " # p(X = fast, furious, fun)의 경우 0이므로(또는 알 수 없으므로) 나누지 않는다. (Divide by zero 오류 발생 가능성)\n",
    "    \n",
    "#P(Y = action=1| X = fast, furious, fun)\n",
    "proba_action = (p_action_fast * p_action_furious * p_action_fun * p_action)"
   ]
  },
  {
   "cell_type": "code",
   "execution_count": 121,
   "metadata": {
    "id": "dU21-UF6up24"
   },
   "outputs": [
    {
     "name": "stdout",
     "output_type": "stream",
     "text": [
      "proba_comedy 0.0\n",
      "proba_action 0.0018031555221637867\n"
     ]
    }
   ],
   "source": [
    "print('proba_comedy', proba_comedy)\n",
    "print('proba_action', proba_action)"
   ]
  },
  {
   "cell_type": "markdown",
   "metadata": {
    "id": "ypxC3cfrup24"
   },
   "source": [
    "### step 8. 다음 값을 비교해봅시다.\n",
    "1. P(Y = comedy| X = fast, furious, fun)\n",
    "2. P(Y = action=1| X = fast, furious, fun)\n",
    "\n",
    "\n",
    "Q7. 어떤 문제점을 발견할수 있나요? 문제점을 해결하기 위한 방법으로는 어떤게 있을까요?\n",
    "- 두 가지 모두 확률이 매우 낮게 나오는 문제가 있다.(0에 근접하게 된다.)\n",
    "- 이런 경우, 모두가 0이라는 결과를 내기 때문에 유의미한 예측이라고 하기 어려울 것 같다. \n",
    "- 이 문제의 경우는 주어진 단어가 동시에 등장하는 (fast, furious, fun 이 한 문장에 존재하는) 경우가 존재하지 않기 때문으로 생각된다.\n",
    "- 따라서 라플라스 스무딩 등으로 최소한의 확률을 만들어 줄 필요가 있다고 생각된다."
   ]
  },
  {
   "cell_type": "markdown",
   "metadata": {
    "id": "-gQ0tdn_i4-W"
   },
   "source": [
    "### 추가 : 라플라스 스무딩 적용해보기\n",
    "라플라스 스무딩을 적용해서 확률을 다시 계산해 보았다.\n",
    "\n",
    "주어진 입력 단어의 개수는 7개이므로 분모에 7을 더하고, 분자에 1을 더한다."
   ]
  },
  {
   "cell_type": "code",
   "execution_count": 123,
   "metadata": {},
   "outputs": [],
   "source": [
    "p_comedy_fast = (sum(doc[(doc[:,2] >= 1) & (doc[:,0]==1)][:, 2])  + 1 )/ (sum(doc[doc[:,0]==1][:,-1]) + 7)\n",
    "p_comedy_furious = (sum(doc[(doc[:,5] >= 1) & (doc[:,0]==1)][:, 5]) + 1) /  (sum(doc[doc[:,0]==1][:,-1]) + 7)\n",
    "p_comedy_fun = (sum(doc[(doc[:,4] >= 1) & (doc[:,0]==1)][:, 4]) + 1) / (sum(doc[doc[:,0]==1][:,-1]) + 7)\n",
    "\n",
    "\n",
    "p_action_fast = (sum(doc[(doc[:,2] >= 1) & (doc[:,0]==0)][:, 2]) + 1) / (sum(doc[doc[:,0]==0][:,-1]) + 7)\n",
    "p_action_furious = (sum(doc[(doc[:,5] >= 1) & (doc[:,0]==0)][:, 5]) + 1) / (sum(doc[doc[:,0]==0][:,-1]) + 7)\n",
    "p_action_fun = (sum(doc[(doc[:,4] >= 1) & (doc[:,0]==0)][:, 4]) + 1) / (sum(doc[doc[:,0]==0][:,-1]) + 7)"
   ]
  },
  {
   "cell_type": "code",
   "execution_count": 124,
   "metadata": {},
   "outputs": [
    {
     "name": "stdout",
     "output_type": "stream",
     "text": [
      "proba_comedy 0.00078125\n",
      "proba_action 0.0018518518518518517\n"
     ]
    }
   ],
   "source": [
    "proba_comedy = (p_comedy_fast * p_comedy_fun * p_comedy_furious * p_comedy)\n",
    "proba_action = (p_action_fast * p_action_furious * p_action_fun * p_action)\n",
    "print('proba_comedy', proba_comedy)\n",
    "print('proba_action', proba_action)"
   ]
  },
  {
   "cell_type": "markdown",
   "metadata": {},
   "source": [
    "확률이 약간이지만 0에 근접한 값에서 벗어난 것을 확인할 수 있다. 또한 comedy일 확률이 0이 아니므로, 판정에 신뢰성이 더해진다.\n",
    "\n",
    "comedy일 확를은 0.00078이고, action일 확률은 0.00185 이므로 (fast, furious, fun)이 동시에 나오는 문장은 action으로 볼 수 있다."
   ]
  },
  {
   "cell_type": "code",
   "execution_count": null,
   "metadata": {},
   "outputs": [],
   "source": []
  }
 ],
 "metadata": {
  "colab": {
   "collapsed_sections": [],
   "name": "week3_NaiveBayes_과제.ipynb",
   "provenance": []
  },
  "kernelspec": {
   "display_name": "Python 3",
   "language": "python",
   "name": "python3"
  },
  "language_info": {
   "codemirror_mode": {
    "name": "ipython",
    "version": 3
   },
   "file_extension": ".py",
   "mimetype": "text/x-python",
   "name": "python",
   "nbconvert_exporter": "python",
   "pygments_lexer": "ipython3",
   "version": "3.8.6"
  }
 },
 "nbformat": 4,
 "nbformat_minor": 1
}
